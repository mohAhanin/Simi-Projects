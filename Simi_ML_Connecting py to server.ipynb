{
 "cells": [
  {
   "cell_type": "code",
   "execution_count": 1,
   "id": "5dfb837d",
   "metadata": {},
   "outputs": [],
   "source": [
    "import pyodbc\n"
   ]
  },
  {
   "cell_type": "code",
   "execution_count": 2,
   "id": "ec7ba67b",
   "metadata": {},
   "outputs": [],
   "source": [
    "# pyodbc.connect('Driver={ODBC Driver 17 for Sql Server};SERVER=.;DATABASE=MachineLearning;UID=sa;PWD=123')"
   ]
  },
  {
   "cell_type": "code",
   "execution_count": 3,
   "id": "82db625d",
   "metadata": {},
   "outputs": [],
   "source": [
    "# import pyodbc \n",
    "# # Some other example server values are\n",
    "# # server = 'localhost\\sqlexpress' # for a named instance\n",
    "# # server = 'myserver,port' # to specify an alternate port\n",
    "# server = 'DESKTOP-F324UIT\\SQLEXPRESS' \n",
    "# database = 'MachineLearning' \n",
    "# username = 'sa' \n",
    "# password = '123' \n",
    "# # ENCRYPT defaults to yes starting in ODBC Driver 18. It's good to always specify ENCRYPT=yes on the client side to avoid MITM attacks.\n",
    "# cnxn = pyodbc.connect('DRIVER={ODBC Driver 17 for SQL Server};SERVER='+server+';DATABASE='+database+';ENCRYPT=yes;UID='+username+';PWD='+ password)\n",
    "# cursor = cnxn.cursor()"
   ]
  },
  {
   "cell_type": "code",
   "execution_count": 4,
   "id": "7f7d2f85",
   "metadata": {},
   "outputs": [],
   "source": [
    "connection=pyodbc.connect(driver='{SQL Server}',host='DESKTOP-F324UIT\\SQLEXPRESS',database='MachineLearning',trusted_connection='true',user='sa',password=123)"
   ]
  },
  {
   "cell_type": "code",
   "execution_count": 5,
   "id": "79f3a488",
   "metadata": {},
   "outputs": [],
   "source": [
    "db=connection.cursor()"
   ]
  },
  {
   "cell_type": "code",
   "execution_count": 6,
   "id": "1989024a",
   "metadata": {},
   "outputs": [
    {
     "name": "stdout",
     "output_type": "stream",
     "text": [
      "name?Ali\n",
      "family?Khaledi\n"
     ]
    }
   ],
   "source": [
    "name=input('name?')\n",
    "family=input('family?')"
   ]
  },
  {
   "cell_type": "code",
   "execution_count": 7,
   "id": "af7db1b7",
   "metadata": {},
   "outputs": [],
   "source": [
    "r=db.execute('SELECT * FROM Karmand WHERE name=? OR family=?',[name,family])"
   ]
  },
  {
   "cell_type": "code",
   "execution_count": 8,
   "id": "62c4a7cc",
   "metadata": {},
   "outputs": [],
   "source": [
    "r=r.fetchall()"
   ]
  },
  {
   "cell_type": "code",
   "execution_count": 9,
   "id": "41c7ead9",
   "metadata": {},
   "outputs": [
    {
     "name": "stdout",
     "output_type": "stream",
     "text": [
      "(1, 'ali', 'khaledi', 2000)\n",
      "(4, 'ali', 'hajeb', 2600)\n",
      "(34, 'ali ', 'qanbari', 2100)\n",
      "(42, 'ali', 'tahmasebi', 2700)\n",
      "(67, 'ali', 'rahnavard', 3900)\n",
      "(69, 'ali', 'qaderi', 2300)\n",
      "(75, 'babak', 'khaledi', 2500)\n"
     ]
    }
   ],
   "source": [
    "for x in r:\n",
    "    print(x)"
   ]
  },
  {
   "cell_type": "code",
   "execution_count": null,
   "id": "a8b8efaf",
   "metadata": {},
   "outputs": [],
   "source": []
  }
 ],
 "metadata": {
  "kernelspec": {
   "display_name": "Python 3 (ipykernel)",
   "language": "python",
   "name": "python3"
  },
  "language_info": {
   "codemirror_mode": {
    "name": "ipython",
    "version": 3
   },
   "file_extension": ".py",
   "mimetype": "text/x-python",
   "name": "python",
   "nbconvert_exporter": "python",
   "pygments_lexer": "ipython3",
   "version": "3.9.12"
  }
 },
 "nbformat": 4,
 "nbformat_minor": 5
}
