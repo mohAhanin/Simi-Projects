{
 "cells": [
  {
   "cell_type": "code",
   "execution_count": null,
   "id": "16541550",
   "metadata": {},
   "outputs": [],
   "source": [
    "import re"
   ]
  },
  {
   "cell_type": "code",
   "execution_count": null,
   "id": "a00d8682",
   "metadata": {},
   "outputs": [],
   "source": [
    "txt='Rezammmm Mohammadpur'"
   ]
  },
  {
   "cell_type": "code",
   "execution_count": null,
   "id": "939417ce",
   "metadata": {},
   "outputs": [],
   "source": [
    "pattern=r'mm'"
   ]
  },
  {
   "cell_type": "code",
   "execution_count": null,
   "id": "6e4f71eb",
   "metadata": {},
   "outputs": [],
   "source": [
    "txt=re.sub(pattern,'**',txt)"
   ]
  },
  {
   "cell_type": "code",
   "execution_count": null,
   "id": "ba9135c2",
   "metadata": {},
   "outputs": [],
   "source": [
    "txt"
   ]
  },
  {
   "cell_type": "code",
   "execution_count": null,
   "id": "998092d9",
   "metadata": {},
   "outputs": [],
   "source": [
    "if(re.search(pattern,txt)!=None):\n",
    "    print('ok')\n",
    "else:\n",
    "    print('invalid')"
   ]
  },
  {
   "cell_type": "code",
   "execution_count": null,
   "id": "3a6fcd03",
   "metadata": {},
   "outputs": [],
   "source": [
    "txt='a'"
   ]
  },
  {
   "cell_type": "code",
   "execution_count": null,
   "id": "52acbf49",
   "metadata": {},
   "outputs": [],
   "source": [
    "if(re.search('^a$',txt)!=None):\n",
    "    print('ok')\n",
    "else:\n",
    "    print('invalid')"
   ]
  },
  {
   "cell_type": "code",
   "execution_count": null,
   "id": "35c73af6",
   "metadata": {},
   "outputs": [],
   "source": [
    "while True:\n",
    "    txt=input('Text?')\n",
    "    if(re.search('^abc$',txt)!=None):\n",
    "        print('ok')\n",
    "    else:\n",
    "        print('invalid')"
   ]
  },
  {
   "cell_type": "code",
   "execution_count": null,
   "id": "51972a99",
   "metadata": {},
   "outputs": [],
   "source": [
    "while True:\n",
    "    txt=input('Text?')\n",
    "    if(re.search('^a{3}$',txt)!=None):\n",
    "        print('ok')\n",
    "    else:\n",
    "        print('invalid')"
   ]
  },
  {
   "cell_type": "code",
   "execution_count": null,
   "id": "dde9dfe6",
   "metadata": {},
   "outputs": [],
   "source": [
    "while True:\n",
    "    txt=input('Text?')\n",
    "    if(re.search('^a{3,5}$',txt)!=None):\n",
    "        print('ok')\n",
    "    else:\n",
    "        print('invalid')"
   ]
  },
  {
   "cell_type": "code",
   "execution_count": null,
   "id": "6a1a01cf",
   "metadata": {},
   "outputs": [],
   "source": [
    "while True:\n",
    "    txt=input('Text?')\n",
    "    if(re.search('^a{3,}$',txt)!=None):\n",
    "        print('ok')\n",
    "    else:\n",
    "        print('invalid')"
   ]
  },
  {
   "cell_type": "code",
   "execution_count": null,
   "id": "224ade5d",
   "metadata": {},
   "outputs": [],
   "source": [
    "while True:\n",
    "    txt=input('Text?')\n",
    "    if(re.search('^a*$',txt)!=None):\n",
    "        print('ok')\n",
    "    else:\n",
    "        print('invalid')"
   ]
  },
  {
   "cell_type": "code",
   "execution_count": null,
   "id": "76f761cf",
   "metadata": {},
   "outputs": [],
   "source": [
    "while True:\n",
    "    txt=input('Text?')\n",
    "    if(re.search('^a*bc$',txt)!=None):\n",
    "        print('ok')\n",
    "    else:\n",
    "        print('invalid')"
   ]
  },
  {
   "cell_type": "code",
   "execution_count": null,
   "id": "fe7ede45",
   "metadata": {},
   "outputs": [],
   "source": [
    "while True:\n",
    "    txt=input('Text?')\n",
    "    if(re.search('^a+bc$',txt)!=None):\n",
    "        print('ok')\n",
    "    else:\n",
    "        print('invalid')"
   ]
  },
  {
   "cell_type": "code",
   "execution_count": null,
   "id": "acd5a113",
   "metadata": {},
   "outputs": [],
   "source": [
    "while True:\n",
    "    txt=input('Text?')\n",
    "    #0 or 1 time\n",
    "    if(re.search('^a?bc$',txt)!=None):\n",
    "        print('ok')\n",
    "    else:\n",
    "        print('invalid')"
   ]
  },
  {
   "cell_type": "code",
   "execution_count": null,
   "id": "aa7b3891",
   "metadata": {},
   "outputs": [],
   "source": [
    "while True:\n",
    "    txt=input('Text?')\n",
    "    if(re.search('^(ab)*c$',txt)!=None):\n",
    "        print('ok')\n",
    "    else:\n",
    "        print('invalid')"
   ]
  },
  {
   "cell_type": "code",
   "execution_count": null,
   "id": "643fa05c",
   "metadata": {},
   "outputs": [],
   "source": [
    "while True:\n",
    "    txt=input('Text?')\n",
    "    if(re.search('^https?$',txt)!=None):\n",
    "        print('ok')\n",
    "    else:\n",
    "        print('invalid')"
   ]
  },
  {
   "cell_type": "code",
   "execution_count": null,
   "id": "211a2a21",
   "metadata": {},
   "outputs": [],
   "source": [
    "while True:\n",
    "    txt=input('Text?')\n",
    "    #one of the characters is acceptable\n",
    "    if(re.search('^[ali]$',txt)!=None):\n",
    "        print('ok')\n",
    "    else:\n",
    "        print('invalid')\n",
    "        \n",
    "while True:\n",
    "    txt=input('Text?')\n",
    "    if(re.search('^(a|b|c)$',txt)!=None):\n",
    "        print('ok')\n",
    "    else:\n",
    "        print('invalid')\n",
    "\n",
    "while True:\n",
    "    \n",
    "    txt=input('Text?')\n",
    "    if(re.search('^[abc]+$',txt)!=None):\n",
    "        print('ok')\n",
    "    else:\n",
    "        print('invalid')"
   ]
  },
  {
   "cell_type": "code",
   "execution_count": null,
   "id": "6b5040b5",
   "metadata": {},
   "outputs": [],
   "source": []
  }
 ],
 "metadata": {
  "kernelspec": {
   "display_name": "Python 3 (ipykernel)",
   "language": "python",
   "name": "python3"
  },
  "language_info": {
   "codemirror_mode": {
    "name": "ipython",
    "version": 3
   },
   "file_extension": ".py",
   "mimetype": "text/x-python",
   "name": "python",
   "nbconvert_exporter": "python",
   "pygments_lexer": "ipython3",
   "version": "3.9.12"
  }
 },
 "nbformat": 4,
 "nbformat_minor": 5
}
