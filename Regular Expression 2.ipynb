{
 "cells": [
  {
   "cell_type": "code",
   "execution_count": 1,
   "id": "0b18b418",
   "metadata": {},
   "outputs": [],
   "source": [
    "import re "
   ]
  },
  {
   "cell_type": "code",
   "execution_count": null,
   "id": "c289dfb4",
   "metadata": {},
   "outputs": [],
   "source": [
    "n=0\n",
    "while n<2:\n",
    "    txt=input('Text?')\n",
    "    if(re.search('^ab*$',txt)!=None):\n",
    "        print('ok')\n",
    "    else:\n",
    "        print('invalid')\n",
    "    n+=1"
   ]
  },
  {
   "cell_type": "code",
   "execution_count": null,
   "id": "a7359b9a",
   "metadata": {},
   "outputs": [],
   "source": [
    "n=0\n",
    "while n<2:\n",
    "    txt=input('Text?')\n",
    "    if(re.search('^a{3}$',txt)!=None):\n",
    "        print('ok')\n",
    "    else:\n",
    "        print('invalid')\n",
    "    n+=1"
   ]
  },
  {
   "cell_type": "code",
   "execution_count": null,
   "id": "80f71148",
   "metadata": {},
   "outputs": [],
   "source": [
    "n=0\n",
    "while n<2:\n",
    "    txt=input('Text?')\n",
    "    if(re.search('^a{3,5}$',txt)!=None):\n",
    "        print('ok')\n",
    "    else:\n",
    "        print('invalid')\n",
    "    n+=1"
   ]
  },
  {
   "cell_type": "code",
   "execution_count": null,
   "id": "f63c9d91",
   "metadata": {},
   "outputs": [],
   "source": [
    "n=0\n",
    "while n<2:\n",
    "    txt=input('Text?')\n",
    "    if(re.search('^a*$',txt)!=None):\n",
    "        print('ok')\n",
    "    else:\n",
    "        print('invalid')\n",
    "    n+=1"
   ]
  },
  {
   "cell_type": "code",
   "execution_count": null,
   "id": "a5c9241f",
   "metadata": {},
   "outputs": [],
   "source": [
    "n=0\n",
    "while n<2:\n",
    "    txt=input('Text?')\n",
    "    if(re.search('^a?$',txt)!=None):\n",
    "        print('ok')\n",
    "    else:\n",
    "        print('invalid')\n",
    "    n+=1"
   ]
  },
  {
   "cell_type": "code",
   "execution_count": null,
   "id": "f287f0db",
   "metadata": {},
   "outputs": [],
   "source": [
    "n=0\n",
    "while n<2:\n",
    "    txt=input('Text?')\n",
    "    if(re.search('^(a|r|t)$',txt)!=None):\n",
    "        print('ok')\n",
    "    else:\n",
    "        print('invalid')\n",
    "    n+=1"
   ]
  },
  {
   "cell_type": "code",
   "execution_count": null,
   "id": "19e36d81",
   "metadata": {},
   "outputs": [],
   "source": [
    "n=0\n",
    "while n<5:\n",
    "    txt=input('Text?')\n",
    "    if(re.search('^[art]*$',txt)!=None):\n",
    "        print('ok')\n",
    "    else:\n",
    "        print('invalid')\n",
    "    n+=1"
   ]
  },
  {
   "cell_type": "code",
   "execution_count": null,
   "id": "abfe70a2",
   "metadata": {},
   "outputs": [],
   "source": [
    "n=1\n",
    "while n<5:\n",
    "    txt=input('Text?')\n",
    "    if(re.search('^[abcde]$',txt)!=None):\n",
    "        print('ok')\n",
    "    else:\n",
    "        print('invalid')\n",
    "    n+=1"
   ]
  },
  {
   "cell_type": "code",
   "execution_count": null,
   "id": "dfcd8ee2",
   "metadata": {},
   "outputs": [],
   "source": [
    "n=1\n",
    "while n<5:\n",
    "    txt=input('Text?')\n",
    "    if(re.search('^[abcde]*$',txt)!=None):\n",
    "        print('ok')\n",
    "    else:\n",
    "        print('invalid')\n",
    "    n+=1"
   ]
  },
  {
   "cell_type": "code",
   "execution_count": null,
   "id": "7c6ac2bf",
   "metadata": {},
   "outputs": [],
   "source": [
    "n=1\n",
    "while n<5:\n",
    "    txt=input('Text?')\n",
    "    if(re.search('^[a-f]*$',txt)!=None):\n",
    "        print('ok')\n",
    "    else:\n",
    "        print('invalid')\n",
    "    n+=1"
   ]
  },
  {
   "cell_type": "code",
   "execution_count": null,
   "id": "6a66c26c",
   "metadata": {},
   "outputs": [],
   "source": [
    "n=1\n",
    "while n<5:\n",
    "    txt=input('Text?')\n",
    "    if(re.search('^[a-zA-Z]+$',txt)!=None):\n",
    "        print('ok')\n",
    "    else:\n",
    "        print('invalid')\n",
    "    n+=1"
   ]
  },
  {
   "cell_type": "code",
   "execution_count": null,
   "id": "7257f768",
   "metadata": {},
   "outputs": [],
   "source": [
    "n=1\n",
    "while n<5:\n",
    "    txt=input('Text?')\n",
    "    if(re.search('^[0-9]+$',txt)!=None):\n",
    "        print('ok')\n",
    "    else:\n",
    "        print('invalid')\n",
    "    n+=1"
   ]
  },
  {
   "cell_type": "code",
   "execution_count": null,
   "id": "1018730d",
   "metadata": {},
   "outputs": [],
   "source": [
    "n=1\n",
    "while n<5:\n",
    "    txt=input('Text?')\n",
    "    if(re.search('^a\\db$',txt)!=None):\n",
    "        print('ok')\n",
    "    else:\n",
    "        print('invalid')\n",
    "    n+=1\n",
    "    \n",
    "    \n",
    "    #a3b"
   ]
  },
  {
   "cell_type": "code",
   "execution_count": null,
   "id": "6d9b43af",
   "metadata": {},
   "outputs": [],
   "source": [
    "n=1\n",
    "while n<5:\n",
    "    txt=input('Text?')\n",
    "    if(re.search('^\\d+$',txt)!=None):\n",
    "        print('ok')\n",
    "    else:\n",
    "        print('invalid')\n",
    "    n+=1"
   ]
  },
  {
   "cell_type": "code",
   "execution_count": null,
   "id": "595020be",
   "metadata": {},
   "outputs": [],
   "source": [
    "n=1\n",
    "while n<5:\n",
    "    txt=input('Text?')\n",
    "    if(re.search('^\\D+$',txt)!=None):\n",
    "        print('ok')\n",
    "    else:\n",
    "        print('invalid')\n",
    "    n+=1\n",
    "    #any char but int"
   ]
  },
  {
   "cell_type": "code",
   "execution_count": null,
   "id": "bfb9000c",
   "metadata": {},
   "outputs": [],
   "source": [
    "n=1\n",
    "while n<5:\n",
    "    txt=input('Text?')\n",
    "    if(re.search('^a\\sb+$',txt)!=None):\n",
    "        print('ok')\n",
    "    else:\n",
    "        print('invalid')\n",
    "    n+=1\n",
    "    #space"
   ]
  },
  {
   "cell_type": "code",
   "execution_count": null,
   "id": "b73261b1",
   "metadata": {},
   "outputs": [],
   "source": [
    "n=1\n",
    "while n<5:\n",
    "    txt=input('Text?')\n",
    "    if(re.search('^a\\Sb$',txt)!=None):\n",
    "        print('ok')\n",
    "    else:\n",
    "        print('invalid')\n",
    "    n+=1\n",
    "    #any char between a and b"
   ]
  },
  {
   "cell_type": "code",
   "execution_count": null,
   "id": "9b9e6a5a",
   "metadata": {},
   "outputs": [],
   "source": [
    "n=1\n",
    "while n<5:\n",
    "    txt=input('Text?')\n",
    "    if(re.search('^a\\s*b$',txt)!=None):\n",
    "        print('ok')\n",
    "    else:\n",
    "        print('invalid')\n",
    "    n+=1"
   ]
  },
  {
   "cell_type": "code",
   "execution_count": null,
   "id": "0e6af204",
   "metadata": {},
   "outputs": [],
   "source": [
    "n=1\n",
    "while n<5:\n",
    "    txt=input('Text?')\n",
    "    if(re.search('^a\\S*b$',txt)!=None):\n",
    "        print('ok')\n",
    "    else:\n",
    "        print('invalid')\n",
    "    n+=1"
   ]
  },
  {
   "cell_type": "code",
   "execution_count": null,
   "id": "052eb462",
   "metadata": {},
   "outputs": [],
   "source": [
    "n=1\n",
    "while n<5:\n",
    "    txt=input('Text?')\n",
    "    if(re.search('^a.b$',txt)!=None):\n",
    "        print('ok')\n",
    "    else:\n",
    "        print('invalid')\n",
    "    n+=1\n",
    "    #one char in between\n",
    "    "
   ]
  },
  {
   "cell_type": "code",
   "execution_count": null,
   "id": "4bd9e793",
   "metadata": {},
   "outputs": [],
   "source": [
    "n=1\n",
    "while n<5:\n",
    "    txt=input('Text?')\n",
    "    if(re.search('^a...b$',txt)!=None):\n",
    "        print('ok')\n",
    "    else:\n",
    "        print('invalid')\n",
    "    n+=1\n",
    "    #3 char in between\n",
    "    "
   ]
  },
  {
   "cell_type": "code",
   "execution_count": null,
   "id": "3a57b645",
   "metadata": {},
   "outputs": [],
   "source": [
    "#\\. --> .\n",
    "n=1\n",
    "while n<5:\n",
    "    txt=input('Text?')\n",
    "    if(re.search('^a\\.b$',txt)!=None):\n",
    "        print('ok')\n",
    "    else:\n",
    "        print('invalid')\n",
    "    n+=1\n",
    "    #one char in between\n",
    "    "
   ]
  },
  {
   "cell_type": "code",
   "execution_count": null,
   "id": "65d3ad9e",
   "metadata": {},
   "outputs": [],
   "source": [
    "n=1\n",
    "while n<5:\n",
    "    txt=input('Text?')\n",
    "    if(re.search('^[a-zA-Z_]*$',txt)!=None):\n",
    "        print('ok')\n",
    "    else:\n",
    "        print('invalid')\n",
    "    n+=1\n",
    "    \n",
    "\n",
    "    \n",
    "    "
   ]
  },
  {
   "cell_type": "code",
   "execution_count": null,
   "id": "65a184aa",
   "metadata": {},
   "outputs": [],
   "source": [
    "    # using \\w instead\n",
    "    n=1\n",
    "while n<5:\n",
    "    txt=input('Text?')\n",
    "    if(re.search('^\\w*$',txt)!=None):\n",
    "        print('ok')\n",
    "    else:\n",
    "        print('invalid')\n",
    "    n+=1"
   ]
  },
  {
   "cell_type": "code",
   "execution_count": 6,
   "id": "4290ffd8",
   "metadata": {},
   "outputs": [
    {
     "name": "stdout",
     "output_type": "stream",
     "text": [
      "My favorite website links are   and   and  \n"
     ]
    }
   ],
   "source": [
    "txt='My favorite website links are https://www.google.com and www.yahoo.net and python.org'\n",
    "txt=re.sub('(https?://)?(w{3}[.])?[a-zA-Z0-9]+?[.][a-zA-Z]{2,4}',' ',txt)\n",
    "print(txt)"
   ]
  },
  {
   "cell_type": "code",
   "execution_count": 15,
   "id": "aa5fe03e",
   "metadata": {},
   "outputs": [
    {
     "name": "stdout",
     "output_type": "stream",
     "text": [
      "my email adresses are   and  \n"
     ]
    }
   ],
   "source": [
    "txt='my email adresses are amin.ahanin3@gmail.com and mohammadpour@yahoo.com'\n",
    "txt=re.sub('[a-zA-Z0-9]+[._]?[a-zA-Z0-9]*@[a-zA-Z0-9-]+[.][a-zA-Z0-9]{2,3}',' ',txt)\n",
    "print(txt)"
   ]
  },
  {
   "cell_type": "code",
   "execution_count": null,
   "id": "32c09ab7",
   "metadata": {},
   "outputs": [],
   "source": []
  },
  {
   "cell_type": "code",
   "execution_count": null,
   "id": "e1bc8b41",
   "metadata": {},
   "outputs": [],
   "source": []
  },
  {
   "cell_type": "code",
   "execution_count": null,
   "id": "1c0c2658",
   "metadata": {},
   "outputs": [],
   "source": []
  },
  {
   "cell_type": "code",
   "execution_count": null,
   "id": "d0f63a46",
   "metadata": {},
   "outputs": [],
   "source": []
  },
  {
   "cell_type": "code",
   "execution_count": null,
   "id": "e3bacb19",
   "metadata": {},
   "outputs": [],
   "source": []
  }
 ],
 "metadata": {
  "kernelspec": {
   "display_name": "Python 3 (ipykernel)",
   "language": "python",
   "name": "python3"
  },
  "language_info": {
   "codemirror_mode": {
    "name": "ipython",
    "version": 3
   },
   "file_extension": ".py",
   "mimetype": "text/x-python",
   "name": "python",
   "nbconvert_exporter": "python",
   "pygments_lexer": "ipython3",
   "version": "3.9.12"
  }
 },
 "nbformat": 4,
 "nbformat_minor": 5
}
