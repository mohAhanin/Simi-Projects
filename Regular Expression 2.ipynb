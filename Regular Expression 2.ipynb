{
 "cells": [
  {
   "cell_type": "code",
   "execution_count": 4,
   "id": "ff2c604f",
   "metadata": {},
   "outputs": [
    {
     "name": "stdout",
     "output_type": "stream",
     "text": [
      "Text?abbb\n",
      "ok\n",
      "Text?a\n",
      "ok\n"
     ]
    }
   ],
   "source": [
    "import re \n",
    "n=0\n",
    "\n",
    "while n<2:\n",
    "    txt=input('Text?')\n",
    "    if(re.search('^ab*$',txt)!=None):\n",
    "        print('ok')\n",
    "    else:\n",
    "        print('invalid')\n",
    "    n+=1"
   ]
  },
  {
   "cell_type": "code",
   "execution_count": 6,
   "id": "3b2c2bb1",
   "metadata": {},
   "outputs": [
    {
     "name": "stdout",
     "output_type": "stream",
     "text": [
      "Text?aaaa\n",
      "invalid\n",
      "Text?aaa\n",
      "ok\n"
     ]
    }
   ],
   "source": [
    "n=0\n",
    "while n<2:\n",
    "    txt=input('Text?')\n",
    "    if(re.search('^a{3}$',txt)!=None):\n",
    "        print('ok')\n",
    "    else:\n",
    "        print('invalid')\n",
    "    n+=1"
   ]
  },
  {
   "cell_type": "code",
   "execution_count": 7,
   "id": "909eaf61",
   "metadata": {},
   "outputs": [
    {
     "name": "stdout",
     "output_type": "stream",
     "text": [
      "Text?aaaa\n",
      "ok\n",
      "Text?a\n",
      "invalid\n"
     ]
    }
   ],
   "source": [
    "n=0\n",
    "while n<2:\n",
    "    txt=input('Text?')\n",
    "    if(re.search('^a{3,5}$',txt)!=None):\n",
    "        print('ok')\n",
    "    else:\n",
    "        print('invalid')\n",
    "    n+=1"
   ]
  },
  {
   "cell_type": "code",
   "execution_count": 8,
   "id": "234169c5",
   "metadata": {},
   "outputs": [
    {
     "name": "stdout",
     "output_type": "stream",
     "text": [
      "Text?ba\n",
      "invalid\n",
      "Text?bb\n",
      "invalid\n"
     ]
    }
   ],
   "source": [
    "n=0\n",
    "while n<2:\n",
    "    txt=input('Text?')\n",
    "    if(re.search('^a*$',txt)!=None):\n",
    "        print('ok')\n",
    "    else:\n",
    "        print('invalid')\n",
    "    n+=1"
   ]
  },
  {
   "cell_type": "code",
   "execution_count": 10,
   "id": "cc861096",
   "metadata": {},
   "outputs": [
    {
     "name": "stdout",
     "output_type": "stream",
     "text": [
      "Text?\n",
      "ok\n",
      "Text?zzaa\n",
      "invalid\n"
     ]
    }
   ],
   "source": [
    "n=0\n",
    "while n<2:\n",
    "    txt=input('Text?')\n",
    "    if(re.search('^a?$',txt)!=None):\n",
    "        print('ok')\n",
    "    else:\n",
    "        print('invalid')\n",
    "    n+=1"
   ]
  },
  {
   "cell_type": "code",
   "execution_count": 13,
   "id": "a7733012",
   "metadata": {},
   "outputs": [
    {
     "name": "stdout",
     "output_type": "stream",
     "text": [
      "Text?t\n",
      "ok\n",
      "Text?ali\n",
      "invalid\n"
     ]
    }
   ],
   "source": [
    "n=0\n",
    "while n<2:\n",
    "    txt=input('Text?')\n",
    "    if(re.search('^(a|r|t)$',txt)!=None):\n",
    "        print('ok')\n",
    "    else:\n",
    "        print('invalid')\n",
    "    n+=1"
   ]
  },
  {
   "cell_type": "code",
   "execution_count": 17,
   "id": "ad921449",
   "metadata": {},
   "outputs": [
    {
     "name": "stdout",
     "output_type": "stream",
     "text": [
      "Text?a\n",
      "ok\n",
      "Text?r\n",
      "ok\n",
      "Text?y\n",
      "invalid\n",
      "Text?t\n",
      "ok\n",
      "Text?art\n",
      "ok\n"
     ]
    }
   ],
   "source": [
    "n=0\n",
    "while n<5:\n",
    "    txt=input('Text?')\n",
    "    if(re.search('^[art]*$',txt)!=None):\n",
    "        print('ok')\n",
    "    else:\n",
    "        print('invalid')\n",
    "    n+=1"
   ]
  },
  {
   "cell_type": "code",
   "execution_count": null,
   "id": "df19efbc",
   "metadata": {},
   "outputs": [
    {
     "name": "stdout",
     "output_type": "stream",
     "text": [
      "Text?a\n",
      "ok\n",
      "Text?bb\n",
      "invalid\n"
     ]
    }
   ],
   "source": [
    "n=1\n",
    "while n<5:\n",
    "    txt=input('Text?')\n",
    "    if(re.search('^[abcde]$',txt)!=None):\n",
    "        print('ok')\n",
    "    else:\n",
    "        print('invalid')\n",
    "    n+=1"
   ]
  },
  {
   "cell_type": "code",
   "execution_count": null,
   "id": "a257dd3d",
   "metadata": {},
   "outputs": [],
   "source": []
  }
 ],
 "metadata": {
  "kernelspec": {
   "display_name": "Python 3 (ipykernel)",
   "language": "python",
   "name": "python3"
  },
  "language_info": {
   "codemirror_mode": {
    "name": "ipython",
    "version": 3
   },
   "file_extension": ".py",
   "mimetype": "text/x-python",
   "name": "python",
   "nbconvert_exporter": "python",
   "pygments_lexer": "ipython3",
   "version": "3.9.12"
  }
 },
 "nbformat": 4,
 "nbformat_minor": 5
}
