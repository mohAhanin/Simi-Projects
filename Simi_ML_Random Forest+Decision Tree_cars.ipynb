{
 "cells": [
  {
   "cell_type": "code",
   "execution_count": 1,
   "id": "ab9891ca",
   "metadata": {},
   "outputs": [],
   "source": [
    "import pandas as pd"
   ]
  },
  {
   "cell_type": "code",
   "execution_count": 2,
   "id": "7246f64b",
   "metadata": {},
   "outputs": [],
   "source": [
    "df=pd.read_csv('cars.csv')"
   ]
  },
  {
   "cell_type": "code",
   "execution_count": 3,
   "id": "2429f49c",
   "metadata": {},
   "outputs": [
    {
     "data": {
      "text/html": [
       "<div>\n",
       "<style scoped>\n",
       "    .dataframe tbody tr th:only-of-type {\n",
       "        vertical-align: middle;\n",
       "    }\n",
       "\n",
       "    .dataframe tbody tr th {\n",
       "        vertical-align: top;\n",
       "    }\n",
       "\n",
       "    .dataframe thead th {\n",
       "        text-align: right;\n",
       "    }\n",
       "</style>\n",
       "<table border=\"1\" class=\"dataframe\">\n",
       "  <thead>\n",
       "    <tr style=\"text-align: right;\">\n",
       "      <th></th>\n",
       "      <th>Dimensions.Height</th>\n",
       "      <th>Dimensions.Length</th>\n",
       "      <th>Dimensions.Width</th>\n",
       "      <th>Fuel Information.City mpg</th>\n",
       "      <th>Identification.Make</th>\n",
       "    </tr>\n",
       "  </thead>\n",
       "  <tbody>\n",
       "    <tr>\n",
       "      <th>100</th>\n",
       "      <td>143</td>\n",
       "      <td>196</td>\n",
       "      <td>203</td>\n",
       "      <td>21</td>\n",
       "      <td>Audi</td>\n",
       "    </tr>\n",
       "    <tr>\n",
       "      <th>101</th>\n",
       "      <td>152</td>\n",
       "      <td>240</td>\n",
       "      <td>57</td>\n",
       "      <td>17</td>\n",
       "      <td>Honda</td>\n",
       "    </tr>\n",
       "    <tr>\n",
       "      <th>102</th>\n",
       "      <td>152</td>\n",
       "      <td>240</td>\n",
       "      <td>57</td>\n",
       "      <td>21</td>\n",
       "      <td>Honda</td>\n",
       "    </tr>\n",
       "    <tr>\n",
       "      <th>103</th>\n",
       "      <td>152</td>\n",
       "      <td>240</td>\n",
       "      <td>57</td>\n",
       "      <td>22</td>\n",
       "      <td>Honda</td>\n",
       "    </tr>\n",
       "    <tr>\n",
       "      <th>104</th>\n",
       "      <td>152</td>\n",
       "      <td>240</td>\n",
       "      <td>57</td>\n",
       "      <td>21</td>\n",
       "      <td>Honda</td>\n",
       "    </tr>\n",
       "    <tr>\n",
       "      <th>105</th>\n",
       "      <td>152</td>\n",
       "      <td>240</td>\n",
       "      <td>57</td>\n",
       "      <td>19</td>\n",
       "      <td>Honda</td>\n",
       "    </tr>\n",
       "    <tr>\n",
       "      <th>106</th>\n",
       "      <td>152</td>\n",
       "      <td>240</td>\n",
       "      <td>57</td>\n",
       "      <td>22</td>\n",
       "      <td>Honda</td>\n",
       "    </tr>\n",
       "    <tr>\n",
       "      <th>107</th>\n",
       "      <td>152</td>\n",
       "      <td>240</td>\n",
       "      <td>57</td>\n",
       "      <td>21</td>\n",
       "      <td>Honda</td>\n",
       "    </tr>\n",
       "    <tr>\n",
       "      <th>108</th>\n",
       "      <td>152</td>\n",
       "      <td>240</td>\n",
       "      <td>57</td>\n",
       "      <td>22</td>\n",
       "      <td>Honda</td>\n",
       "    </tr>\n",
       "    <tr>\n",
       "      <th>109</th>\n",
       "      <td>45</td>\n",
       "      <td>150</td>\n",
       "      <td>57</td>\n",
       "      <td>18</td>\n",
       "      <td>Nissan</td>\n",
       "    </tr>\n",
       "  </tbody>\n",
       "</table>\n",
       "</div>"
      ],
      "text/plain": [
       "     Dimensions.Height  Dimensions.Length  Dimensions.Width  \\\n",
       "100                143                196               203   \n",
       "101                152                240                57   \n",
       "102                152                240                57   \n",
       "103                152                240                57   \n",
       "104                152                240                57   \n",
       "105                152                240                57   \n",
       "106                152                240                57   \n",
       "107                152                240                57   \n",
       "108                152                240                57   \n",
       "109                 45                150                57   \n",
       "\n",
       "     Fuel Information.City mpg Identification.Make  \n",
       "100                         21                Audi  \n",
       "101                         17               Honda  \n",
       "102                         21               Honda  \n",
       "103                         22               Honda  \n",
       "104                         21               Honda  \n",
       "105                         19               Honda  \n",
       "106                         22               Honda  \n",
       "107                         21               Honda  \n",
       "108                         22               Honda  \n",
       "109                         18              Nissan  "
      ]
     },
     "execution_count": 3,
     "metadata": {},
     "output_type": "execute_result"
    }
   ],
   "source": [
    "df[100:110]"
   ]
  },
  {
   "cell_type": "code",
   "execution_count": 4,
   "id": "3dcf0f00",
   "metadata": {
    "scrolled": true
   },
   "outputs": [
    {
     "name": "stdout",
     "output_type": "stream",
     "text": [
      "<class 'pandas.core.frame.DataFrame'>\n",
      "RangeIndex: 399 entries, 0 to 398\n",
      "Data columns (total 5 columns):\n",
      " #   Column                     Non-Null Count  Dtype \n",
      "---  ------                     --------------  ----- \n",
      " 0   Dimensions.Height          399 non-null    int64 \n",
      " 1   Dimensions.Length          399 non-null    int64 \n",
      " 2   Dimensions.Width           399 non-null    int64 \n",
      " 3   Fuel Information.City mpg  399 non-null    int64 \n",
      " 4   Identification.Make        399 non-null    object\n",
      "dtypes: int64(4), object(1)\n",
      "memory usage: 15.7+ KB\n"
     ]
    }
   ],
   "source": [
    "df.info()"
   ]
  },
  {
   "cell_type": "code",
   "execution_count": 5,
   "id": "8d61b318",
   "metadata": {},
   "outputs": [],
   "source": [
    "X=df[['Dimensions.Height','Dimensions.Length','Dimensions.Width','Fuel Information.City mpg']]"
   ]
  },
  {
   "cell_type": "code",
   "execution_count": 6,
   "id": "3b206c1b",
   "metadata": {},
   "outputs": [],
   "source": [
    "Y=df['Identification.Make']"
   ]
  },
  {
   "cell_type": "code",
   "execution_count": 7,
   "id": "3d592609",
   "metadata": {},
   "outputs": [],
   "source": [
    "from sklearn.model_selection import train_test_split"
   ]
  },
  {
   "cell_type": "code",
   "execution_count": 8,
   "id": "b5828eea",
   "metadata": {},
   "outputs": [],
   "source": [
    "xtrain, xtest, ytrain, ytest = train_test_split(X,Y,test_size=.25)"
   ]
  },
  {
   "cell_type": "code",
   "execution_count": 9,
   "id": "574318e0",
   "metadata": {},
   "outputs": [],
   "source": [
    "from sklearn.ensemble import RandomForestClassifier"
   ]
  },
  {
   "cell_type": "code",
   "execution_count": 10,
   "id": "593c2c55",
   "metadata": {},
   "outputs": [],
   "source": [
    "model=RandomForestClassifier(n_estimators=100)"
   ]
  },
  {
   "cell_type": "code",
   "execution_count": 11,
   "id": "f7748417",
   "metadata": {},
   "outputs": [
    {
     "data": {
      "text/plain": [
       "RandomForestClassifier()"
      ]
     },
     "execution_count": 11,
     "metadata": {},
     "output_type": "execute_result"
    }
   ],
   "source": [
    "model.fit(xtrain,ytrain)"
   ]
  },
  {
   "cell_type": "code",
   "execution_count": 12,
   "id": "a4576392",
   "metadata": {},
   "outputs": [],
   "source": [
    "predict=model.predict(xtest)"
   ]
  },
  {
   "cell_type": "code",
   "execution_count": 13,
   "id": "3b261534",
   "metadata": {},
   "outputs": [],
   "source": [
    "from sklearn import metrics"
   ]
  },
  {
   "cell_type": "code",
   "execution_count": 14,
   "id": "227526fa",
   "metadata": {},
   "outputs": [
    {
     "name": "stdout",
     "output_type": "stream",
     "text": [
      "Accuracy is 97.0 %\n"
     ]
    }
   ],
   "source": [
    "print(f'Accuracy is', metrics.accuracy_score(predict,ytest)*100 ,'%')"
   ]
  },
  {
   "cell_type": "code",
   "execution_count": 15,
   "id": "1564b494",
   "metadata": {},
   "outputs": [
    {
     "name": "stdout",
     "output_type": "stream",
     "text": [
      "Dimensions.Height  :77\n",
      "Dimensions.Length :60\n",
      "Dimensions.Width :219\n",
      "Fuel Information.City mpg :9\n"
     ]
    }
   ],
   "source": [
    "dh=int(input('Dimensions.Height  :'))\n",
    "dl=int(input('Dimensions.Length :'))\n",
    "dw=int(input('Dimensions.Width :'))\n",
    "fi=int(input('Fuel Information.City mpg :'))\n",
    "p=[dh,dl,dw,fi]"
   ]
  },
  {
   "cell_type": "code",
   "execution_count": 16,
   "id": "aeb1335b",
   "metadata": {},
   "outputs": [
    {
     "name": "stderr",
     "output_type": "stream",
     "text": [
      "D:\\anaconda\\lib\\site-packages\\sklearn\\base.py:450: UserWarning: X does not have valid feature names, but RandomForestClassifier was fitted with feature names\n",
      "  warnings.warn(\n"
     ]
    },
    {
     "data": {
      "text/plain": [
       "array(['Chevrolet'], dtype=object)"
      ]
     },
     "execution_count": 16,
     "metadata": {},
     "output_type": "execute_result"
    }
   ],
   "source": [
    "pr=model.predict([p])\n",
    "pr"
   ]
  },
  {
   "cell_type": "code",
   "execution_count": 17,
   "id": "fee9dc45",
   "metadata": {},
   "outputs": [
    {
     "name": "stdout",
     "output_type": "stream",
     "text": [
      "Prediction : [array(['Chevrolet'], dtype=object)]\n"
     ]
    }
   ],
   "source": [
    "print('Prediction :', list([pr]) )"
   ]
  },
  {
   "cell_type": "code",
   "execution_count": null,
   "id": "e7786bb4",
   "metadata": {},
   "outputs": [],
   "source": []
  }
 ],
 "metadata": {
  "kernelspec": {
   "display_name": "Python 3 (ipykernel)",
   "language": "python",
   "name": "python3"
  },
  "language_info": {
   "codemirror_mode": {
    "name": "ipython",
    "version": 3
   },
   "file_extension": ".py",
   "mimetype": "text/x-python",
   "name": "python",
   "nbconvert_exporter": "python",
   "pygments_lexer": "ipython3",
   "version": "3.9.12"
  }
 },
 "nbformat": 4,
 "nbformat_minor": 5
}
