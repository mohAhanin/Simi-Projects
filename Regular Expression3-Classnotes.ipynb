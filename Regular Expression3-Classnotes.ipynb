{
 "cells": [
  {
   "cell_type": "code",
   "execution_count": null,
   "id": "3f0a51bf",
   "metadata": {},
   "outputs": [],
   "source": [
    "import re"
   ]
  },
  {
   "cell_type": "code",
   "execution_count": null,
   "id": "ab5da82c",
   "metadata": {},
   "outputs": [],
   "source": [
    "n=1\n",
    "while n<5:\n",
    "    txt=input('Text?')\n",
    "    txt=re.sub('pattern',' ',txt)\n",
    "    print(txt)\n",
    "    n=n+1"
   ]
  },
  {
   "cell_type": "code",
   "execution_count": null,
   "id": "1c13c9fc",
   "metadata": {},
   "outputs": [],
   "source": [
    "n=1\n",
    "while n<3:\n",
    "    txt=input('Text?')\n",
    "    txt=re.sub('a',' ',txt)\n",
    "    print(txt)\n",
    "    n=n+1"
   ]
  },
  {
   "cell_type": "code",
   "execution_count": null,
   "id": "5cc68d19",
   "metadata": {},
   "outputs": [],
   "source": [
    "n=1\n",
    "while n<2:\n",
    "    txt='rezaMohammaDPour87463525MachineLearning@gmail.com'\n",
    "    txt=re.sub('a',' ',txt)\n",
    "    print(txt)\n",
    "    n=n+1"
   ]
  },
  {
   "cell_type": "code",
   "execution_count": null,
   "id": "1c91e909",
   "metadata": {},
   "outputs": [],
   "source": [
    "txt=re.sub(' ','',txt)\n",
    "print(txt)"
   ]
  },
  {
   "cell_type": "code",
   "execution_count": null,
   "id": "53f6e9e3",
   "metadata": {},
   "outputs": [],
   "source": [
    "n=1\n",
    "while n<2:\n",
    "    txt='rezaMohammaDPour87463525MachineLearning@gmail.com'\n",
    "    txt=re.sub('\\d+',' ',txt)\n",
    "    print(txt)\n",
    "    n=n+1"
   ]
  },
  {
   "cell_type": "code",
   "execution_count": null,
   "id": "27a66fe4",
   "metadata": {},
   "outputs": [],
   "source": [
    "#int and float\n",
    "n=1\n",
    "while n<2:\n",
    "    txt='reza13.59MohammaDPour87463525MachineLearning@gmail.com'\n",
    "    txt=re.sub('\\d+(\\.\\d*)*',' ',txt)\n",
    "    print(txt)\n",
    "    n=n+1"
   ]
  },
  {
   "cell_type": "code",
   "execution_count": null,
   "id": "0a1ee626",
   "metadata": {},
   "outputs": [],
   "source": []
  }
 ],
 "metadata": {
  "kernelspec": {
   "display_name": "Python 3 (ipykernel)",
   "language": "python",
   "name": "python3"
  },
  "language_info": {
   "codemirror_mode": {
    "name": "ipython",
    "version": 3
   },
   "file_extension": ".py",
   "mimetype": "text/x-python",
   "name": "python",
   "nbconvert_exporter": "python",
   "pygments_lexer": "ipython3",
   "version": "3.9.12"
  }
 },
 "nbformat": 4,
 "nbformat_minor": 5
}
