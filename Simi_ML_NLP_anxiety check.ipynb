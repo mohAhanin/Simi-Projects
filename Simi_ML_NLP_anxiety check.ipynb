{
 "cells": [
  {
   "cell_type": "code",
   "execution_count": 1,
   "id": "4a358103",
   "metadata": {},
   "outputs": [],
   "source": [
    "import nltk.classify.util\n",
    "from nltk.classify import NaiveBayesClassifier\n",
    "from nltk.corpus import movie_reviews\n",
    "import os\n",
    "from nltk.tokenize import WordPunctTokenizer\n",
    "import re\n",
    "from tqdm import tqdm\n",
    "import time"
   ]
  },
  {
   "cell_type": "code",
   "execution_count": 2,
   "id": "3d47925b",
   "metadata": {},
   "outputs": [],
   "source": [
    "relaxedpath='C:/Users/IDEH/AppData/Roaming/nltk_data/corpora/movie_reviews/anxiousorrelaxed/Relaxed'"
   ]
  },
  {
   "cell_type": "code",
   "execution_count": 3,
   "id": "3b2c686a",
   "metadata": {},
   "outputs": [],
   "source": [
    "anxiouspath='C:/Users/IDEH/AppData/Roaming/nltk_data/corpora/movie_reviews/anxiousorrelaxed/anxious'"
   ]
  },
  {
   "cell_type": "code",
   "execution_count": 4,
   "id": "9e65d4da",
   "metadata": {},
   "outputs": [],
   "source": [
    "relaxedfilenames=os.listdir(relaxedpath)\n",
    "anxoiusfilenames=os.listdir(anxiouspath)"
   ]
  },
  {
   "cell_type": "code",
   "execution_count": null,
   "id": "9e0d11f6",
   "metadata": {},
   "outputs": [],
   "source": []
  },
  {
   "cell_type": "code",
   "execution_count": 5,
   "id": "2da1ec05",
   "metadata": {},
   "outputs": [
    {
     "data": {
      "text/plain": [
       "<module 're' from 'D:\\\\anaconda\\\\lib\\\\re.py'>"
      ]
     },
     "execution_count": 5,
     "metadata": {},
     "output_type": "execute_result"
    }
   ],
   "source": [
    "re"
   ]
  },
  {
   "cell_type": "code",
   "execution_count": null,
   "id": "52a86ada",
   "metadata": {},
   "outputs": [],
   "source": []
  },
  {
   "cell_type": "code",
   "execution_count": 6,
   "id": "161e1d28",
   "metadata": {},
   "outputs": [],
   "source": [
    "tokenizer = WordPunctTokenizer()"
   ]
  },
  {
   "cell_type": "code",
   "execution_count": null,
   "id": "ab42cb59",
   "metadata": {},
   "outputs": [],
   "source": []
  },
  {
   "cell_type": "code",
   "execution_count": 7,
   "id": "7bc182f3",
   "metadata": {},
   "outputs": [
    {
     "data": {
      "text/plain": [
       "'DBVBonfosdnfwehfpwuhh    hf   hf                    '"
      ]
     },
     "execution_count": 7,
     "metadata": {},
     "output_type": "execute_result"
    }
   ],
   "source": [
    "def datacleaner(text):\n",
    "    striped = re.sub(r'[^a-zA-Z]', ' ', text)\n",
    "    return striped\n",
    "string_test='DBVBonfosdnfwehfpwuhh7348hf829hf/////232/4/*-/-+????'\n",
    "datacleaner(string_test)"
   ]
  },
  {
   "cell_type": "markdown",
   "id": "be94e28f",
   "metadata": {},
   "source": [
    "fa = open(\"D:/Simi-Projects/Simi-Projects/anxiousorrelaxed/anxious/full2.txt\", \"r\")\n",
    "#print(fa.read())\n",
    "anxioustext=fa.read()"
   ]
  },
  {
   "cell_type": "markdown",
   "id": "32aac012",
   "metadata": {},
   "source": [
    "f = open(\"D:/Simi-Projects/Simi-Projects/anxiousorrelaxed/Relaxed/full.txt\", \"r\")\n",
    "#print(f.read())\n",
    "relaxedtext=f.read()\n",
    "#relaxedtext"
   ]
  },
  {
   "cell_type": "markdown",
   "id": "d53d0e17",
   "metadata": {},
   "source": [
    "# Relaxed"
   ]
  },
  {
   "cell_type": "code",
   "execution_count": 8,
   "id": "c6f10f91",
   "metadata": {},
   "outputs": [],
   "source": [
    "finallistrelaxed: list = []"
   ]
  },
  {
   "cell_type": "code",
   "execution_count": 9,
   "id": "3cf17a33",
   "metadata": {},
   "outputs": [
    {
     "name": "stdout",
     "output_type": "stream",
     "text": [
      "   I m feeling so calm and content right now  \n",
      "{'I': True, 'm': True, 'feeling': True, 'so': True, 'calm': True, 'and': True, 'content': True, 'right': True, 'now': True}\n",
      "    The scent of lavender is instantly calming and helps me unwind  \n",
      "{'The': True, 'scent': True, 'of': True, 'lavender': True, 'is': True, 'instantly': True, 'calming': True, 'and': True, 'helps': True, 'me': True, 'unwind': True}\n",
      "    I m lounging by the pool  basking in the sun s warmth and feeling utterly relaxed  \n",
      "{'I': True, 'm': True, 'lounging': True, 'by': True, 'the': True, 'pool': True, 'basking': True, 'in': True, 'sun': True, 's': True, 'warmth': True, 'and': True, 'feeling': True, 'utterly': True, 'relaxed': True}\n",
      "    The flickering candlelight creates a serene ambiance that puts me at ease  \n",
      "{'The': True, 'flickering': True, 'candlelight': True, 'creates': True, 'a': True, 'serene': True, 'ambiance': True, 'that': True, 'puts': True, 'me': True, 'at': True, 'ease': True}\n",
      "    I m lying on a comfortable couch  reading my favorite book with no distractions around me  \n",
      "{'I': True, 'm': True, 'lying': True, 'on': True, 'a': True, 'comfortable': True, 'couch': True, 'reading': True, 'my': True, 'favorite': True, 'book': True, 'with': True, 'no': True, 'distractions': True, 'around': True, 'me': True}\n",
      "    The sound of rain falling outside is lulling me into a state of relaxation  \n",
      "{'The': True, 'sound': True, 'of': True, 'rain': True, 'falling': True, 'outside': True, 'is': True, 'lulling': True, 'me': True, 'into': True, 'a': True, 'state': True, 'relaxation': True}\n",
      "    I m meditating in a peaceful garden  finding inner peace and tranquility  \n",
      "{'I': True, 'm': True, 'meditating': True, 'in': True, 'a': True, 'peaceful': True, 'garden': True, 'finding': True, 'inner': True, 'peace': True, 'and': True, 'tranquility': True}\n",
      "    The soft pillows on my bed make it impossible not to feel completely relaxed and at ease  \n",
      "{'The': True, 'soft': True, 'pillows': True, 'on': True, 'my': True, 'bed': True, 'make': True, 'it': True, 'impossible': True, 'not': True, 'to': True, 'feel': True, 'completely': True, 'relaxed': True, 'and': True, 'at': True, 'ease': True}\n",
      "    I m enjoying a picnic in nature  surrounded by beautiful scenery and feeling so calm  \n",
      "{'I': True, 'm': True, 'enjoying': True, 'a': True, 'picnic': True, 'in': True, 'nature': True, 'surrounded': True, 'by': True, 'beautiful': True, 'scenery': True, 'and': True, 'feeling': True, 'so': True, 'calm': True}\n",
      "    The gentle rustling of leaves in the wind has an incredibly soothing effect on me  \n",
      "{'The': True, 'gentle': True, 'rustling': True, 'of': True, 'leaves': True, 'in': True, 'the': True, 'wind': True, 'has': True, 'an': True, 'incredibly': True, 'soothing': True, 'effect': True, 'on': True, 'me': True}\n",
      "    I m practicing yoga  stretching my body and mind to achieve deep relaxation  \n",
      "{'I': True, 'm': True, 'practicing': True, 'yoga': True, 'stretching': True, 'my': True, 'body': True, 'and': True, 'mind': True, 'to': True, 'achieve': True, 'deep': True, 'relaxation': True}\n",
      "   The gentle breeze is soothing my soul   \n",
      "{'The': True, 'gentle': True, 'breeze': True, 'is': True, 'soothing': True, 'my': True, 'soul': True}\n",
      "    This spa day is exactly what I needed to unwind and rejuvenate myself \n",
      "{'This': True, 'spa': True, 'day': True, 'is': True, 'exactly': True, 'what': True, 'I': True, 'needed': True, 'to': True, 'unwind': True, 'and': True, 'rejuvenate': True, 'myself': True}\n",
      "   I m taking a leisurely stroll through the park  enjoying the peaceful atmosphere\n",
      "{'I': True, 'm': True, 'taking': True, 'a': True, 'leisurely': True, 'stroll': True, 'through': True, 'the': True, 'park': True, 'enjoying': True, 'peaceful': True, 'atmosphere': True}\n",
      "   The sound of waves crashing on the shore is incredibly relaxing  \n",
      "{'The': True, 'sound': True, 'of': True, 'waves': True, 'crashing': True, 'on': True, 'the': True, 'shore': True, 'is': True, 'incredibly': True, 'relaxing': True}\n",
      "   I m lying in a hammock  completely at ease   \n",
      "{'I': True, 'm': True, 'lying': True, 'in': True, 'a': True, 'hammock': True, 'completely': True, 'at': True, 'ease': True}\n",
      "   This cozy blanket is making me feel so relaxed and cozy   \n",
      "{'This': True, 'cozy': True, 'blanket': True, 'is': True, 'making': True, 'me': True, 'feel': True, 'so': True, 'relaxed': True, 'and': True}\n",
      "   I m sipping on a warm cup of tea  letting all my worries melt away  \n",
      "{'I': True, 'm': True, 'sipping': True, 'on': True, 'a': True, 'warm': True, 'cup': True, 'of': True, 'tea': True, 'letting': True, 'all': True, 'my': True, 'worries': True, 'melt': True, 'away': True}\n",
      "    The soft music playing in the background is putting me in a state of tranquility\n",
      "{'The': True, 'soft': True, 'music': True, 'playing': True, 'in': True, 'the': True, 'background': True, 'is': True, 'putting': True, 'me': True, 'a': True, 'state': True, 'of': True, 'tranquility': True}\n",
      "   I m indulging in a long bubble bath  feeling all my stress wash away  \n",
      "{'I': True, 'm': True, 'indulging': True, 'in': True, 'a': True, 'long': True, 'bubble': True, 'bath': True, 'feeling': True, 'all': True, 'my': True, 'stress': True, 'wash': True, 'away': True}\n",
      "[({'I': True, 'm': True, 'feeling': True, 'so': True, 'calm': True, 'and': True, 'content': True, 'right': True, 'now': True}, 'Relaxed'), ({'The': True, 'scent': True, 'of': True, 'lavender': True, 'is': True, 'instantly': True, 'calming': True, 'and': True, 'helps': True, 'me': True, 'unwind': True}, 'Relaxed'), ({'I': True, 'm': True, 'lounging': True, 'by': True, 'the': True, 'pool': True, 'basking': True, 'in': True, 'sun': True, 's': True, 'warmth': True, 'and': True, 'feeling': True, 'utterly': True, 'relaxed': True}, 'Relaxed'), ({'The': True, 'flickering': True, 'candlelight': True, 'creates': True, 'a': True, 'serene': True, 'ambiance': True, 'that': True, 'puts': True, 'me': True, 'at': True, 'ease': True}, 'Relaxed'), ({'I': True, 'm': True, 'lying': True, 'on': True, 'a': True, 'comfortable': True, 'couch': True, 'reading': True, 'my': True, 'favorite': True, 'book': True, 'with': True, 'no': True, 'distractions': True, 'around': True, 'me': True}, 'Relaxed'), ({'The': True, 'sound': True, 'of': True, 'rain': True, 'falling': True, 'outside': True, 'is': True, 'lulling': True, 'me': True, 'into': True, 'a': True, 'state': True, 'relaxation': True}, 'Relaxed'), ({'I': True, 'm': True, 'meditating': True, 'in': True, 'a': True, 'peaceful': True, 'garden': True, 'finding': True, 'inner': True, 'peace': True, 'and': True, 'tranquility': True}, 'Relaxed'), ({'The': True, 'soft': True, 'pillows': True, 'on': True, 'my': True, 'bed': True, 'make': True, 'it': True, 'impossible': True, 'not': True, 'to': True, 'feel': True, 'completely': True, 'relaxed': True, 'and': True, 'at': True, 'ease': True}, 'Relaxed'), ({'I': True, 'm': True, 'enjoying': True, 'a': True, 'picnic': True, 'in': True, 'nature': True, 'surrounded': True, 'by': True, 'beautiful': True, 'scenery': True, 'and': True, 'feeling': True, 'so': True, 'calm': True}, 'Relaxed'), ({'The': True, 'gentle': True, 'rustling': True, 'of': True, 'leaves': True, 'in': True, 'the': True, 'wind': True, 'has': True, 'an': True, 'incredibly': True, 'soothing': True, 'effect': True, 'on': True, 'me': True}, 'Relaxed'), ({'I': True, 'm': True, 'practicing': True, 'yoga': True, 'stretching': True, 'my': True, 'body': True, 'and': True, 'mind': True, 'to': True, 'achieve': True, 'deep': True, 'relaxation': True}, 'Relaxed'), ({'The': True, 'gentle': True, 'breeze': True, 'is': True, 'soothing': True, 'my': True, 'soul': True}, 'Relaxed'), ({'This': True, 'spa': True, 'day': True, 'is': True, 'exactly': True, 'what': True, 'I': True, 'needed': True, 'to': True, 'unwind': True, 'and': True, 'rejuvenate': True, 'myself': True}, 'Relaxed'), ({'I': True, 'm': True, 'taking': True, 'a': True, 'leisurely': True, 'stroll': True, 'through': True, 'the': True, 'park': True, 'enjoying': True, 'peaceful': True, 'atmosphere': True}, 'Relaxed'), ({'The': True, 'sound': True, 'of': True, 'waves': True, 'crashing': True, 'on': True, 'the': True, 'shore': True, 'is': True, 'incredibly': True, 'relaxing': True}, 'Relaxed'), ({'I': True, 'm': True, 'lying': True, 'in': True, 'a': True, 'hammock': True, 'completely': True, 'at': True, 'ease': True}, 'Relaxed'), ({'This': True, 'cozy': True, 'blanket': True, 'is': True, 'making': True, 'me': True, 'feel': True, 'so': True, 'relaxed': True, 'and': True}, 'Relaxed'), ({'I': True, 'm': True, 'sipping': True, 'on': True, 'a': True, 'warm': True, 'cup': True, 'of': True, 'tea': True, 'letting': True, 'all': True, 'my': True, 'worries': True, 'melt': True, 'away': True}, 'Relaxed'), ({'The': True, 'soft': True, 'music': True, 'playing': True, 'in': True, 'the': True, 'background': True, 'is': True, 'putting': True, 'me': True, 'a': True, 'state': True, 'of': True, 'tranquility': True}, 'Relaxed'), ({'I': True, 'm': True, 'indulging': True, 'in': True, 'a': True, 'long': True, 'bubble': True, 'bath': True, 'feeling': True, 'all': True, 'my': True, 'stress': True, 'wash': True, 'away': True}, 'Relaxed')]\n"
     ]
    }
   ],
   "source": [
    "for x in relaxedfilenames:\n",
    "    text=open('D:/Simi-Projects/Simi-Projects/anxiousorrelaxed/Relaxed' + '/' + x).read()\n",
    "    text=datacleaner(text)\n",
    "    \n",
    "    tokens = tokenizer.tokenize(text)\n",
    "    lst: list = []\n",
    "\n",
    "    for y in tokens:\n",
    "        lst.append((y,True))\n",
    "\n",
    "    d=dict(lst)\n",
    "    print(text)\n",
    "    print(d)\n",
    "\n",
    "    finallistrelaxed.append((d,'Relaxed'))\n",
    "    \n",
    "print(finallistrelaxed)"
   ]
  },
  {
   "cell_type": "markdown",
   "id": "c3bc596b",
   "metadata": {},
   "source": [
    "# Anxious"
   ]
  },
  {
   "cell_type": "code",
   "execution_count": 10,
   "id": "2c51e989",
   "metadata": {},
   "outputs": [],
   "source": [
    "finallistanxious: list = []"
   ]
  },
  {
   "cell_type": "code",
   "execution_count": 11,
   "id": "b4c954d6",
   "metadata": {},
   "outputs": [
    {
     "name": "stdout",
     "output_type": "stream",
     "text": [
      "   I can t stop worrying about what might go wrong  \n",
      "{'I': True, 'can': True, 't': True, 'stop': True, 'worrying': True, 'about': True, 'what': True, 'might': True, 'go': True, 'wrong': True}\n",
      "    My mind is filled with  what if  scenarios that only fuel my anxiety further  \n",
      "{'My': True, 'mind': True, 'is': True, 'filled': True, 'with': True, 'what': True, 'if': True, 'scenarios': True, 'that': True, 'only': True, 'fuel': True, 'my': True, 'anxiety': True, 'further': True}\n",
      "    It s hard to breathe when the anxiety takes over  \n",
      "{'It': True, 's': True, 'hard': True, 'to': True, 'breathe': True, 'when': True, 'the': True, 'anxiety': True, 'takes': True, 'over': True}\n",
      "    I m constantly second guessing myself and doubting my abilities  \n",
      "{'I': True, 'm': True, 'constantly': True, 'second': True, 'guessing': True, 'myself': True, 'and': True, 'doubting': True, 'my': True, 'abilities': True}\n",
      "    The feeling of impending doom is always lingering in the back of my mind  \n",
      "{'The': True, 'feeling': True, 'of': True, 'impending': True, 'doom': True, 'is': True, 'always': True, 'lingering': True, 'in': True, 'the': True, 'back': True, 'my': True, 'mind': True}\n",
      "    Social situations make me incredibly anxious  fearing judgment and rejection  \n",
      "{'Social': True, 'situations': True, 'make': True, 'me': True, 'incredibly': True, 'anxious': True, 'fearing': True, 'judgment': True, 'and': True, 'rejection': True}\n",
      "    It feels like there s a never ending knot in my stomach that won t untangle   \n",
      "{'It': True, 'feels': True, 'like': True, 'there': True, 's': True, 'a': True, 'never': True, 'ending': True, 'knot': True, 'in': True, 'my': True, 'stomach': True, 'that': True, 'won': True, 't': True, 'untangle': True}\n",
      "    Sleepless nights are a regular occurrence due to racing thoughts and worry  \n",
      "{'Sleepless': True, 'nights': True, 'are': True, 'a': True, 'regular': True, 'occurrence': True, 'due': True, 'to': True, 'racing': True, 'thoughts': True, 'and': True, 'worry': True}\n",
      "    My body feels tense and on high alert all the time   \n",
      "{'My': True, 'body': True, 'feels': True, 'tense': True, 'and': True, 'on': True, 'high': True, 'alert': True, 'all': True, 'the': True, 'time': True}\n",
      "    Small tasks become overwhelming because of the anxiety they trigger  \n",
      "{'Small': True, 'tasks': True, 'become': True, 'overwhelming': True, 'because': True, 'of': True, 'the': True, 'anxiety': True, 'they': True, 'trigger': True}\n",
      "    I m always expecting the worst case scenario to happen in any situation  \n",
      "{'I': True, 'm': True, 'always': True, 'expecting': True, 'the': True, 'worst': True, 'case': True, 'scenario': True, 'to': True, 'happen': True, 'in': True, 'any': True, 'situation': True}\n",
      "   My heart races and my palms sweat whenever I think about the future  \n",
      "{'My': True, 'heart': True, 'races': True, 'and': True, 'my': True, 'palms': True, 'sweat': True, 'whenever': True, 'I': True, 'think': True, 'about': True, 'the': True, 'future': True}\n",
      "    It s difficult to concentrate or focus on anything when anxiety takes hold  \n",
      "{'It': True, 's': True, 'difficult': True, 'to': True, 'concentrate': True, 'or': True, 'focus': True, 'on': True, 'anything': True, 'when': True, 'anxiety': True, 'takes': True, 'hold': True}\n",
      "   The constant feeling of unease is overwhelming  \n",
      "{'The': True, 'constant': True, 'feeling': True, 'of': True, 'unease': True, 'is': True, 'overwhelming': True}\n",
      "   I m always on edge  waiting for something bad to happen  \n",
      "{'I': True, 'm': True, 'always': True, 'on': True, 'edge': True, 'waiting': True, 'for': True, 'something': True, 'bad': True, 'to': True, 'happen': True}\n",
      "   My mind is constantly racing with negative thoughts  \n",
      "{'My': True, 'mind': True, 'is': True, 'constantly': True, 'racing': True, 'with': True, 'negative': True, 'thoughts': True}\n",
      "   It feels like there s a weight on my chest that won t go away  \n",
      "{'It': True, 'feels': True, 'like': True, 'there': True, 's': True, 'a': True, 'weight': True, 'on': True, 'my': True, 'chest': True, 'that': True, 'won': True, 't': True, 'go': True, 'away': True}\n",
      "   I can t relax or enjoy anything because of this constant anxiety   \n",
      "{'I': True, 'can': True, 't': True, 'relax': True, 'or': True, 'enjoy': True, 'anything': True, 'because': True, 'of': True, 'this': True, 'constant': True, 'anxiety': True}\n",
      "   I feel like everyone is judging me and criticizing my every move  \n",
      "{'I': True, 'feel': True, 'like': True, 'everyone': True, 'is': True, 'judging': True, 'me': True, 'and': True, 'criticizing': True, 'my': True, 'every': True, 'move': True}\n",
      "   The fear of failure paralyzes me from taking any risks   \n",
      "{'The': True, 'fear': True, 'of': True, 'failure': True, 'paralyzes': True, 'me': True, 'from': True, 'taking': True, 'any': True, 'risks': True}\n",
      "[({'I': True, 'can': True, 't': True, 'stop': True, 'worrying': True, 'about': True, 'what': True, 'might': True, 'go': True, 'wrong': True}, 'anxious'), ({'My': True, 'mind': True, 'is': True, 'filled': True, 'with': True, 'what': True, 'if': True, 'scenarios': True, 'that': True, 'only': True, 'fuel': True, 'my': True, 'anxiety': True, 'further': True}, 'anxious'), ({'It': True, 's': True, 'hard': True, 'to': True, 'breathe': True, 'when': True, 'the': True, 'anxiety': True, 'takes': True, 'over': True}, 'anxious'), ({'I': True, 'm': True, 'constantly': True, 'second': True, 'guessing': True, 'myself': True, 'and': True, 'doubting': True, 'my': True, 'abilities': True}, 'anxious'), ({'The': True, 'feeling': True, 'of': True, 'impending': True, 'doom': True, 'is': True, 'always': True, 'lingering': True, 'in': True, 'the': True, 'back': True, 'my': True, 'mind': True}, 'anxious'), ({'Social': True, 'situations': True, 'make': True, 'me': True, 'incredibly': True, 'anxious': True, 'fearing': True, 'judgment': True, 'and': True, 'rejection': True}, 'anxious'), ({'It': True, 'feels': True, 'like': True, 'there': True, 's': True, 'a': True, 'never': True, 'ending': True, 'knot': True, 'in': True, 'my': True, 'stomach': True, 'that': True, 'won': True, 't': True, 'untangle': True}, 'anxious'), ({'Sleepless': True, 'nights': True, 'are': True, 'a': True, 'regular': True, 'occurrence': True, 'due': True, 'to': True, 'racing': True, 'thoughts': True, 'and': True, 'worry': True}, 'anxious'), ({'My': True, 'body': True, 'feels': True, 'tense': True, 'and': True, 'on': True, 'high': True, 'alert': True, 'all': True, 'the': True, 'time': True}, 'anxious'), ({'Small': True, 'tasks': True, 'become': True, 'overwhelming': True, 'because': True, 'of': True, 'the': True, 'anxiety': True, 'they': True, 'trigger': True}, 'anxious'), ({'I': True, 'm': True, 'always': True, 'expecting': True, 'the': True, 'worst': True, 'case': True, 'scenario': True, 'to': True, 'happen': True, 'in': True, 'any': True, 'situation': True}, 'anxious'), ({'My': True, 'heart': True, 'races': True, 'and': True, 'my': True, 'palms': True, 'sweat': True, 'whenever': True, 'I': True, 'think': True, 'about': True, 'the': True, 'future': True}, 'anxious'), ({'It': True, 's': True, 'difficult': True, 'to': True, 'concentrate': True, 'or': True, 'focus': True, 'on': True, 'anything': True, 'when': True, 'anxiety': True, 'takes': True, 'hold': True}, 'anxious'), ({'The': True, 'constant': True, 'feeling': True, 'of': True, 'unease': True, 'is': True, 'overwhelming': True}, 'anxious'), ({'I': True, 'm': True, 'always': True, 'on': True, 'edge': True, 'waiting': True, 'for': True, 'something': True, 'bad': True, 'to': True, 'happen': True}, 'anxious'), ({'My': True, 'mind': True, 'is': True, 'constantly': True, 'racing': True, 'with': True, 'negative': True, 'thoughts': True}, 'anxious'), ({'It': True, 'feels': True, 'like': True, 'there': True, 's': True, 'a': True, 'weight': True, 'on': True, 'my': True, 'chest': True, 'that': True, 'won': True, 't': True, 'go': True, 'away': True}, 'anxious'), ({'I': True, 'can': True, 't': True, 'relax': True, 'or': True, 'enjoy': True, 'anything': True, 'because': True, 'of': True, 'this': True, 'constant': True, 'anxiety': True}, 'anxious'), ({'I': True, 'feel': True, 'like': True, 'everyone': True, 'is': True, 'judging': True, 'me': True, 'and': True, 'criticizing': True, 'my': True, 'every': True, 'move': True}, 'anxious'), ({'The': True, 'fear': True, 'of': True, 'failure': True, 'paralyzes': True, 'me': True, 'from': True, 'taking': True, 'any': True, 'risks': True}, 'anxious')]\n"
     ]
    }
   ],
   "source": [
    "for x in anxoiusfilenames:\n",
    "    text=open('D:/Simi-Projects/Simi-Projects/anxiousorrelaxed/anxious' + '/' + x).read()\n",
    "    text=datacleaner(text)\n",
    "    \n",
    "    tokens = tokenizer.tokenize(text)\n",
    "    lst: list = []\n",
    "\n",
    "    for y in tokens:\n",
    "        lst.append((y,True))\n",
    "\n",
    "    d=dict(lst)\n",
    "    print(text)\n",
    "    print(d)\n",
    "\n",
    "    finallistanxious.append((d,'anxious'))\n",
    "    \n",
    "print(finallistanxious)"
   ]
  },
  {
   "cell_type": "markdown",
   "id": "35990008",
   "metadata": {},
   "source": [
    "# Train"
   ]
  },
  {
   "cell_type": "code",
   "execution_count": 12,
   "id": "f13090cf",
   "metadata": {},
   "outputs": [
    {
     "data": {
      "text/plain": [
       "16"
      ]
     },
     "execution_count": 12,
     "metadata": {},
     "output_type": "execute_result"
    }
   ],
   "source": [
    "trainRelaxedcount=int(len(relaxedfilenames)*0.8)\n",
    "trainRelaxedcount"
   ]
  },
  {
   "cell_type": "code",
   "execution_count": 13,
   "id": "32faac82",
   "metadata": {},
   "outputs": [
    {
     "data": {
      "text/plain": [
       "16"
      ]
     },
     "execution_count": 13,
     "metadata": {},
     "output_type": "execute_result"
    }
   ],
   "source": [
    "trainAnxiouscount=int(len(anxoiusfilenames)*0.8)\n",
    "trainAnxiouscount"
   ]
  },
  {
   "cell_type": "code",
   "execution_count": 14,
   "id": "609a0375",
   "metadata": {},
   "outputs": [],
   "source": [
    "trainlist = finallistrelaxed[0:trainRelaxedcount] + finallistanxious[0:trainAnxiouscount]\n",
    "testlist  = finallistrelaxed[trainRelaxedcount:] + finallistanxious[trainAnxiouscount:]\n"
   ]
  },
  {
   "cell_type": "code",
   "execution_count": 15,
   "id": "2c9233a7",
   "metadata": {},
   "outputs": [],
   "source": [
    "model=NaiveBayesClassifier.train(trainlist)"
   ]
  },
  {
   "cell_type": "code",
   "execution_count": 16,
   "id": "451bb937",
   "metadata": {},
   "outputs": [],
   "source": [
    "accuracy = nltk.classify.util.accuracy(model,testlist)"
   ]
  },
  {
   "cell_type": "code",
   "execution_count": 17,
   "id": "6492081c",
   "metadata": {},
   "outputs": [
    {
     "name": "stdout",
     "output_type": "stream",
     "text": [
      "Accuracy =  0.75\n"
     ]
    }
   ],
   "source": [
    "print('Accuracy = ', accuracy)"
   ]
  },
  {
   "cell_type": "code",
   "execution_count": 18,
   "id": "3c036c7f",
   "metadata": {},
   "outputs": [
    {
     "name": "stdout",
     "output_type": "stream",
     "text": [
      "comment?  : The bank has taken a more relaxed approach with those facing child-care issues or pre-existing medical conditions.\n"
     ]
    }
   ],
   "source": [
    "comment = input('comment?  : ')"
   ]
  },
  {
   "cell_type": "code",
   "execution_count": 19,
   "id": "8037e907",
   "metadata": {},
   "outputs": [
    {
     "name": "stdout",
     "output_type": "stream",
     "text": [
      "Relaxed\n"
     ]
    }
   ],
   "source": [
    "reviewtext = datacleaner(comment)\n",
    "tokens=tokenizer.tokenize(reviewtext)\n",
    "lst: list=[]\n",
    "for x in tokens:\n",
    "    lst.append((x,True))\n",
    "d = dict(lst)\n",
    "p = model.prob_classify(d)\n",
    "print(p.max())"
   ]
  },
  {
   "cell_type": "code",
   "execution_count": null,
   "id": "7a5e0bf6",
   "metadata": {},
   "outputs": [],
   "source": []
  }
 ],
 "metadata": {
  "kernelspec": {
   "display_name": "Python 3 (ipykernel)",
   "language": "python",
   "name": "python3"
  },
  "language_info": {
   "codemirror_mode": {
    "name": "ipython",
    "version": 3
   },
   "file_extension": ".py",
   "mimetype": "text/x-python",
   "name": "python",
   "nbconvert_exporter": "python",
   "pygments_lexer": "ipython3",
   "version": "3.9.12"
  }
 },
 "nbformat": 4,
 "nbformat_minor": 5
}
