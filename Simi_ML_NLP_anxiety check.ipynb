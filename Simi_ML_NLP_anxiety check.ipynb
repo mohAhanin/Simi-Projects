{
 "cells": [
  {
   "cell_type": "code",
   "execution_count": 1,
   "id": "4a358103",
   "metadata": {},
   "outputs": [],
   "source": [
    "import nltk.classify.util\n",
    "from nltk.classify import NaiveBayesClassifier\n",
    "from nltk.corpus import movie_reviews\n",
    "import os\n",
    "from nltk.tokenize import WordPunctTokenizer\n",
    "import re\n",
    "from tqdm import tqdm\n",
    "import time"
   ]
  },
  {
   "cell_type": "code",
   "execution_count": 13,
   "id": "3d47925b",
   "metadata": {},
   "outputs": [],
   "source": [
    "relaxedpath='C:/Users/IDEH/AppData/Roaming/nltk_data/corpora/movie_reviews/anxiousorrelaxed/Relaxed'"
   ]
  },
  {
   "cell_type": "code",
   "execution_count": 14,
   "id": "3b2c686a",
   "metadata": {},
   "outputs": [],
   "source": [
    "anxiouspath='C:/Users/IDEH/AppData/Roaming/nltk_data/corpora/movie_reviews/anxiousorrelaxed/anxious'"
   ]
  },
  {
   "cell_type": "code",
   "execution_count": 18,
   "id": "9e65d4da",
   "metadata": {},
   "outputs": [],
   "source": [
    "relaxedfilenames=os.listdir(relaxedpath)\n",
    "anxoiusfilenames=os.listdir(anxiouspath)"
   ]
  },
  {
   "cell_type": "code",
   "execution_count": null,
   "id": "52a86ada",
   "metadata": {},
   "outputs": [],
   "source": []
  },
  {
   "cell_type": "code",
   "execution_count": 2,
   "id": "161e1d28",
   "metadata": {},
   "outputs": [],
   "source": [
    "tokenizer = WordPunctTokenizer()"
   ]
  },
  {
   "cell_type": "code",
   "execution_count": null,
   "id": "ab42cb59",
   "metadata": {},
   "outputs": [],
   "source": []
  },
  {
   "cell_type": "code",
   "execution_count": 3,
   "id": "7bc182f3",
   "metadata": {},
   "outputs": [],
   "source": [
    "def datacleaner(text):\n",
    "    striped = re.sub(r'[^a-zA-Z]', '', text)\n",
    "    return striped\n"
   ]
  },
  {
   "cell_type": "code",
   "execution_count": 4,
   "id": "c8739df3",
   "metadata": {},
   "outputs": [],
   "source": [
    "fa = open(\"D:/Simi-Projects/Simi-Projects/anxiousorrelaxed/anxious/full2.txt\", \"r\")\n",
    "# print(fa.read())\n",
    "anxioustext=fa.read()"
   ]
  },
  {
   "cell_type": "code",
   "execution_count": 5,
   "id": "64a31397",
   "metadata": {},
   "outputs": [],
   "source": [
    "f = open(\"D:/Simi-Projects/Simi-Projects/anxiousorrelaxed/Relaxed/full.txt\", \"r\")\n",
    "#print(f.read())\n",
    "relaxedtext=f.read()\n",
    "#relaxedtext"
   ]
  },
  {
   "cell_type": "markdown",
   "id": "d53d0e17",
   "metadata": {},
   "source": [
    "# Relaxed"
   ]
  },
  {
   "cell_type": "code",
   "execution_count": 6,
   "id": "89b5c58d",
   "metadata": {},
   "outputs": [],
   "source": [
    "reviewtext = datacleaner(relaxedtext)\n",
    "#print(reviewtext)\n"
   ]
  },
  {
   "cell_type": "code",
   "execution_count": 7,
   "id": "c6f10f91",
   "metadata": {},
   "outputs": [],
   "source": [
    "finallistrelaxed: list = []"
   ]
  },
  {
   "cell_type": "code",
   "execution_count": 8,
   "id": "3cf17a33",
   "metadata": {},
   "outputs": [
    {
     "name": "stdout",
     "output_type": "stream",
     "text": [
      "RelaxImfeelingsocalmandcontentrightnowThegentlebreezeissoothingmysoulImtakingaleisurelystrollthroughtheparkenjoyingthepeacefulatmosphereThesoundofwavescrashingontheshoreisincrediblyrelaxingImlyinginahammockcompletelyateaseThiscozyblanketismakingmefeelsorelaxedandcozyImsippingonawarmcupoftealettingallmyworriesmeltawayThesoftmusicplayinginthebackgroundisputtingmeinastateoftranquilityImindulginginalongbubblebathfeelingallmystresswashawayThescentoflavenderisinstantlycalmingandhelpsmeunwindImloungingbythepoolbaskinginthesunswarmthandfeelingutterlyrelaxedTheflickeringcandlelightcreatesasereneambiancethatputsmeateaseImlyingonacomfortablecouchreadingmyfavoritebookwithnodistractionsaroundmeThesoundofrainfallingoutsideislullingmeintoastateofrelaxationImmeditatinginapeacefulgardenfindinginnerpeaceandtranquilityThesoftpillowsonmybedmakeitimpossiblenottofeelcompletelyrelaxedandateaseImenjoyingapicnicinnaturesurroundedbybeautifulsceneryandfeelingsocalmThegentlerustlingofleavesinthewindhasanincrediblysoothingeffectonmeImpracticingyogastretchingmybodyandmindtoachievedeeprelaxationThisspadayisexactlywhatIneededtounwindandrejuvenatemyselfSittingbythefireplacewithawarmcupofcocoamakesmefeelsorelaxedandcozyIlovelisteningtosoftjazzmusicwhilesippingonwineitputsmeinsucharelaxedmoodThesoundofbirdschirpingoutsidemywindowisadelightfulremindertoslowdownandrelaxImlyinginahammockfeelingthegentleswayasIdriftoffintoapeacefulnapThescentoffreshlybakedcookiesfillstheairinstantlyputtingmeateaseImwatchingabeautifulsunsetfeelinggratefulforthesimplepleasuresinlifeThesoftglowofcandlelightcreatesasereneatmospherethathelpsmeunwindafteralongdayImenjoyingaleisurelybikeridethroughthecountrysidefeelingcompletelyatpeacewithnatureThesoundofwavescrashingontheshoreislikenatureslullabysoothingmetosleepImsittinginacomfortablechairlisteningtomyfavoritemusicandlettingallmyworriesfadeawayThewarmthofthesunonmyskinmakesmefeelsorelaxedandcontentImlyinginahammockgazingupattheclearblueskyandfeelingcompletelycarefreeThesoftrustlingofleavesinthewindislikenaturessymphonycalmingmymindandbodyImenjoyingapicnicintheparkwithlovedonescherishingthesemomentsofpurerelaxationThesmelloffreshlycutgrassinstantlytransportsmetoastateoftranquilityandrelaxationImpracticingdeepbreathingexercisesallowingmyselftoletgoofanytensionorstressSittingbyatranquillakewatchingtheripplesonthewaterhasanincrediblycalmingeffectonmeImlyingonahammockunderswayingpalmtreesfeelingcompletelyatpeacewithmyselfandnatureThegentlecracklingsoundofafireplaceinstantlyputsmeinarelaxedstateofmindImtakingslowsipsfrommyfavoriteherbalteasavoringeachmomentandembracingrelaxationThesofttouchofalovedoneshandonmyshoulderinstantlymeltsawayanystressortensionImenjoyingaleisurelywalk\n",
      "{'RelaxImfeelingsocalmandcontentrightnowThegentlebreezeissoothingmysoulImtakingaleisurelystrollthroughtheparkenjoyingthepeacefulatmosphereThesoundofwavescrashingontheshoreisincrediblyrelaxingImlyinginahammockcompletelyateaseThiscozyblanketismakingmefeelsorelaxedandcozyImsippingonawarmcupoftealettingallmyworriesmeltawayThesoftmusicplayinginthebackgroundisputtingmeinastateoftranquilityImindulginginalongbubblebathfeelingallmystresswashawayThescentoflavenderisinstantlycalmingandhelpsmeunwindImloungingbythepoolbaskinginthesunswarmthandfeelingutterlyrelaxedTheflickeringcandlelightcreatesasereneambiancethatputsmeateaseImlyingonacomfortablecouchreadingmyfavoritebookwithnodistractionsaroundmeThesoundofrainfallingoutsideislullingmeintoastateofrelaxationImmeditatinginapeacefulgardenfindinginnerpeaceandtranquilityThesoftpillowsonmybedmakeitimpossiblenottofeelcompletelyrelaxedandateaseImenjoyingapicnicinnaturesurroundedbybeautifulsceneryandfeelingsocalmThegentlerustlingofleavesinthewindhasanincrediblysoothingeffectonmeImpracticingyogastretchingmybodyandmindtoachievedeeprelaxationThisspadayisexactlywhatIneededtounwindandrejuvenatemyselfSittingbythefireplacewithawarmcupofcocoamakesmefeelsorelaxedandcozyIlovelisteningtosoftjazzmusicwhilesippingonwineitputsmeinsucharelaxedmoodThesoundofbirdschirpingoutsidemywindowisadelightfulremindertoslowdownandrelaxImlyinginahammockfeelingthegentleswayasIdriftoffintoapeacefulnapThescentoffreshlybakedcookiesfillstheairinstantlyputtingmeateaseImwatchingabeautifulsunsetfeelinggratefulforthesimplepleasuresinlifeThesoftglowofcandlelightcreatesasereneatmospherethathelpsmeunwindafteralongdayImenjoyingaleisurelybikeridethroughthecountrysidefeelingcompletelyatpeacewithnatureThesoundofwavescrashingontheshoreislikenatureslullabysoothingmetosleepImsittinginacomfortablechairlisteningtomyfavoritemusicandlettingallmyworriesfadeawayThewarmthofthesunonmyskinmakesmefeelsorelaxedandcontentImlyinginahammockgazingupattheclearblueskyandfeelingcompletelycarefreeThesoftrustlingofleavesinthewindislikenaturessymphonycalmingmymindandbodyImenjoyingapicnicintheparkwithlovedonescherishingthesemomentsofpurerelaxationThesmelloffreshlycutgrassinstantlytransportsmetoastateoftranquilityandrelaxationImpracticingdeepbreathingexercisesallowingmyselftoletgoofanytensionorstressSittingbyatranquillakewatchingtheripplesonthewaterhasanincrediblycalmingeffectonmeImlyingonahammockunderswayingpalmtreesfeelingcompletelyatpeacewithmyselfandnatureThegentlecracklingsoundofafireplaceinstantlyputsmeinarelaxedstateofmindImtakingslowsipsfrommyfavoriteherbalteasavoringeachmomentandembracingrelaxationThesofttouchofalovedoneshandonmyshoulderinstantlymeltsawayanystressortensionImenjoyingaleisurelywalk': True}\n",
      "[({'RelaxImfeelingsocalmandcontentrightnowThegentlebreezeissoothingmysoulImtakingaleisurelystrollthroughtheparkenjoyingthepeacefulatmosphereThesoundofwavescrashingontheshoreisincrediblyrelaxingImlyinginahammockcompletelyateaseThiscozyblanketismakingmefeelsorelaxedandcozyImsippingonawarmcupoftealettingallmyworriesmeltawayThesoftmusicplayinginthebackgroundisputtingmeinastateoftranquilityImindulginginalongbubblebathfeelingallmystresswashawayThescentoflavenderisinstantlycalmingandhelpsmeunwindImloungingbythepoolbaskinginthesunswarmthandfeelingutterlyrelaxedTheflickeringcandlelightcreatesasereneambiancethatputsmeateaseImlyingonacomfortablecouchreadingmyfavoritebookwithnodistractionsaroundmeThesoundofrainfallingoutsideislullingmeintoastateofrelaxationImmeditatinginapeacefulgardenfindinginnerpeaceandtranquilityThesoftpillowsonmybedmakeitimpossiblenottofeelcompletelyrelaxedandateaseImenjoyingapicnicinnaturesurroundedbybeautifulsceneryandfeelingsocalmThegentlerustlingofleavesinthewindhasanincrediblysoothingeffectonmeImpracticingyogastretchingmybodyandmindtoachievedeeprelaxationThisspadayisexactlywhatIneededtounwindandrejuvenatemyselfSittingbythefireplacewithawarmcupofcocoamakesmefeelsorelaxedandcozyIlovelisteningtosoftjazzmusicwhilesippingonwineitputsmeinsucharelaxedmoodThesoundofbirdschirpingoutsidemywindowisadelightfulremindertoslowdownandrelaxImlyinginahammockfeelingthegentleswayasIdriftoffintoapeacefulnapThescentoffreshlybakedcookiesfillstheairinstantlyputtingmeateaseImwatchingabeautifulsunsetfeelinggratefulforthesimplepleasuresinlifeThesoftglowofcandlelightcreatesasereneatmospherethathelpsmeunwindafteralongdayImenjoyingaleisurelybikeridethroughthecountrysidefeelingcompletelyatpeacewithnatureThesoundofwavescrashingontheshoreislikenatureslullabysoothingmetosleepImsittinginacomfortablechairlisteningtomyfavoritemusicandlettingallmyworriesfadeawayThewarmthofthesunonmyskinmakesmefeelsorelaxedandcontentImlyinginahammockgazingupattheclearblueskyandfeelingcompletelycarefreeThesoftrustlingofleavesinthewindislikenaturessymphonycalmingmymindandbodyImenjoyingapicnicintheparkwithlovedonescherishingthesemomentsofpurerelaxationThesmelloffreshlycutgrassinstantlytransportsmetoastateoftranquilityandrelaxationImpracticingdeepbreathingexercisesallowingmyselftoletgoofanytensionorstressSittingbyatranquillakewatchingtheripplesonthewaterhasanincrediblycalmingeffectonmeImlyingonahammockunderswayingpalmtreesfeelingcompletelyatpeacewithmyselfandnatureThegentlecracklingsoundofafireplaceinstantlyputsmeinarelaxedstateofmindImtakingslowsipsfrommyfavoriteherbalteasavoringeachmomentandembracingrelaxationThesofttouchofalovedoneshandonmyshoulderinstantlymeltsawayanystressortensionImenjoyingaleisurelywalk': True}, 'Relaxed')]\n"
     ]
    }
   ],
   "source": [
    "tokens = tokenizer.tokenize(reviewtext)\n",
    "lst: list = []\n",
    "\n",
    "for x in tokens:\n",
    "    lst.append((x,True))\n",
    "\n",
    "d=dict(lst)\n",
    "print(reviewtext)\n",
    "print(d)\n",
    "\n",
    "finallistrelaxed.append((d,'Relaxed'))\n",
    "print(finallistrelaxed)"
   ]
  },
  {
   "cell_type": "markdown",
   "id": "c3bc596b",
   "metadata": {},
   "source": [
    "# Anxious"
   ]
  },
  {
   "cell_type": "code",
   "execution_count": 9,
   "id": "6584f6d0",
   "metadata": {},
   "outputs": [],
   "source": [
    "reviewtext2 = datacleaner(anxioustext)\n",
    "#print(reviewtext2)"
   ]
  },
  {
   "cell_type": "code",
   "execution_count": 10,
   "id": "2c51e989",
   "metadata": {},
   "outputs": [],
   "source": [
    "finallistanxious: list = []"
   ]
  },
  {
   "cell_type": "code",
   "execution_count": 12,
   "id": "b4c954d6",
   "metadata": {},
   "outputs": [
    {
     "name": "stdout",
     "output_type": "stream",
     "text": [
      "AnxietyIcantstopworryingaboutwhatmightgowrongMyheartracesandmypalmssweatwheneverIthinkaboutthefutureTheconstantfeelingofuneaseisoverwhelmingImalwaysonedgewaitingforsomethingbadtohappenMymindisconstantlyracingwithnegativethoughtsItfeelsliketheresaweightonmychestthatwontgoawayIcantrelaxorenjoyanythingbecauseofthisconstantanxietyIfeellikeeveryoneisjudgingmeandcriticizingmyeverymoveThefearoffailureparalyzesmefromtakinganyrisksMymindisfilledwithwhatifscenariosthatonlyfuelmyanxietyfurtherItshardtobreathewhentheanxietytakesoverImconstantlysecondguessingmyselfanddoubtingmyabilitiesThefeelingofimpendingdoomisalwayslingeringinthebackofmymindSocialsituationsmakemeincrediblyanxiousfearingjudgmentandrejectionItfeelsliketheresaneverendingknotinmystomachthatwontuntangleSleeplessnightsarearegularoccurrenceduetoracingthoughtsandworryMybodyfeelstenseandonhighalertallthetimeSmalltasksbecomeoverwhelmingbecauseoftheanxietytheytriggerImalwaysexpectingtheworstcasescenariotohappeninanysituationItsdifficulttoconcentrateorfocusonanythingwhenanxietytakesholdThefearofmakingmistakesconsumesmeleadingtoconstantselfdoubtMymindjumpsfromoneworrytoanotherneverfindingpeaceorcalmnessTheuncertaintyofthefuturefillsmewithdreadandrestlessnessPanicattacksstrikeunexpectedlyleavingmefeelinghelplessandoutofcontrolItsexhaustingtryingtokeepupappearanceswhilebattlinginnerturmoilIfeellikeImconstantlyonthevergeofabreakdownThefearofbeingjudgedorcriticizedbyothersisparalyzingMybodyfeelsphysicallydrainedfromtheconstantstateofanxietyItshardtotrustotherswhenanxietytellsmetheyreouttogetmeThesmallestsetbacksfeellikemajordisastersinmymindImalwaysanticipatingtheworstoutcomeeveninthemostmundanesituationsThefearofrejectionmakesitdifficulttoformmeaningfulconnectionswithothersMymindisaneverendingloopofnegativethoughtsandworstcasescenariosItshardtomakedecisionswhenanxietycloudsmyjudgmentandconfidenceThefeelingofbeingoverwhelmedisaconstantcompanioninmylifeImalwaysonguardreadyforanypotentialdangerorthreatThefearofdisappointingothersweighsheavilyonmyshouldersMybodyfeelstenseandrestlessunabletofindrelieffromtheanxietyItshardtoenjoyanythingwhenanxietyconstantlywhispersdoubtinmyearThefearoftheunknownkeepsmetrappedinacycleofworryandstressMymindplaystricksonmemakingmebelieveirrationalfearsarerealthreatsSocialinteractionsdrainmebecauseImconstantlyworriedaboutsayingordoingsomethingwrongThefeelingofbeingtrappedbyanxietyissuffocatingandisolatingIcantescapethefeelingthatsomethingterribleisabouttohappenatanymomentMyheartracesandmyhandsshakewheneverIhavetofaceanewchallengeortaskItfeelsliketheresaconstantbattlebetweenrationalityandirrationalfearsinmymindThefearoffailureholdsmebackfrompursuingmydreamsandgoalswholeheartedlyMybodyfeelsphysicallyexhaustedfromcarryingtheweightofanxietyeverydayItshardtotrustmyownjudgmentwhenanxietyconstantlytellsmeImmakingmistakesThefearofbeingvulnerablekeepsme\n",
      "{'AnxietyIcantstopworryingaboutwhatmightgowrongMyheartracesandmypalmssweatwheneverIthinkaboutthefutureTheconstantfeelingofuneaseisoverwhelmingImalwaysonedgewaitingforsomethingbadtohappenMymindisconstantlyracingwithnegativethoughtsItfeelsliketheresaweightonmychestthatwontgoawayIcantrelaxorenjoyanythingbecauseofthisconstantanxietyIfeellikeeveryoneisjudgingmeandcriticizingmyeverymoveThefearoffailureparalyzesmefromtakinganyrisksMymindisfilledwithwhatifscenariosthatonlyfuelmyanxietyfurtherItshardtobreathewhentheanxietytakesoverImconstantlysecondguessingmyselfanddoubtingmyabilitiesThefeelingofimpendingdoomisalwayslingeringinthebackofmymindSocialsituationsmakemeincrediblyanxiousfearingjudgmentandrejectionItfeelsliketheresaneverendingknotinmystomachthatwontuntangleSleeplessnightsarearegularoccurrenceduetoracingthoughtsandworryMybodyfeelstenseandonhighalertallthetimeSmalltasksbecomeoverwhelmingbecauseoftheanxietytheytriggerImalwaysexpectingtheworstcasescenariotohappeninanysituationItsdifficulttoconcentrateorfocusonanythingwhenanxietytakesholdThefearofmakingmistakesconsumesmeleadingtoconstantselfdoubtMymindjumpsfromoneworrytoanotherneverfindingpeaceorcalmnessTheuncertaintyofthefuturefillsmewithdreadandrestlessnessPanicattacksstrikeunexpectedlyleavingmefeelinghelplessandoutofcontrolItsexhaustingtryingtokeepupappearanceswhilebattlinginnerturmoilIfeellikeImconstantlyonthevergeofabreakdownThefearofbeingjudgedorcriticizedbyothersisparalyzingMybodyfeelsphysicallydrainedfromtheconstantstateofanxietyItshardtotrustotherswhenanxietytellsmetheyreouttogetmeThesmallestsetbacksfeellikemajordisastersinmymindImalwaysanticipatingtheworstoutcomeeveninthemostmundanesituationsThefearofrejectionmakesitdifficulttoformmeaningfulconnectionswithothersMymindisaneverendingloopofnegativethoughtsandworstcasescenariosItshardtomakedecisionswhenanxietycloudsmyjudgmentandconfidenceThefeelingofbeingoverwhelmedisaconstantcompanioninmylifeImalwaysonguardreadyforanypotentialdangerorthreatThefearofdisappointingothersweighsheavilyonmyshouldersMybodyfeelstenseandrestlessunabletofindrelieffromtheanxietyItshardtoenjoyanythingwhenanxietyconstantlywhispersdoubtinmyearThefearoftheunknownkeepsmetrappedinacycleofworryandstressMymindplaystricksonmemakingmebelieveirrationalfearsarerealthreatsSocialinteractionsdrainmebecauseImconstantlyworriedaboutsayingordoingsomethingwrongThefeelingofbeingtrappedbyanxietyissuffocatingandisolatingIcantescapethefeelingthatsomethingterribleisabouttohappenatanymomentMyheartracesandmyhandsshakewheneverIhavetofaceanewchallengeortaskItfeelsliketheresaconstantbattlebetweenrationalityandirrationalfearsinmymindThefearoffailureholdsmebackfrompursuingmydreamsandgoalswholeheartedlyMybodyfeelsphysicallyexhaustedfromcarryingtheweightofanxietyeverydayItshardtotrustmyownjudgmentwhenanxietyconstantlytellsmeImmakingmistakesThefearofbeingvulnerablekeepsme': True}\n",
      "[({'AnxietyIcantstopworryingaboutwhatmightgowrongMyheartracesandmypalmssweatwheneverIthinkaboutthefutureTheconstantfeelingofuneaseisoverwhelmingImalwaysonedgewaitingforsomethingbadtohappenMymindisconstantlyracingwithnegativethoughtsItfeelsliketheresaweightonmychestthatwontgoawayIcantrelaxorenjoyanythingbecauseofthisconstantanxietyIfeellikeeveryoneisjudgingmeandcriticizingmyeverymoveThefearoffailureparalyzesmefromtakinganyrisksMymindisfilledwithwhatifscenariosthatonlyfuelmyanxietyfurtherItshardtobreathewhentheanxietytakesoverImconstantlysecondguessingmyselfanddoubtingmyabilitiesThefeelingofimpendingdoomisalwayslingeringinthebackofmymindSocialsituationsmakemeincrediblyanxiousfearingjudgmentandrejectionItfeelsliketheresaneverendingknotinmystomachthatwontuntangleSleeplessnightsarearegularoccurrenceduetoracingthoughtsandworryMybodyfeelstenseandonhighalertallthetimeSmalltasksbecomeoverwhelmingbecauseoftheanxietytheytriggerImalwaysexpectingtheworstcasescenariotohappeninanysituationItsdifficulttoconcentrateorfocusonanythingwhenanxietytakesholdThefearofmakingmistakesconsumesmeleadingtoconstantselfdoubtMymindjumpsfromoneworrytoanotherneverfindingpeaceorcalmnessTheuncertaintyofthefuturefillsmewithdreadandrestlessnessPanicattacksstrikeunexpectedlyleavingmefeelinghelplessandoutofcontrolItsexhaustingtryingtokeepupappearanceswhilebattlinginnerturmoilIfeellikeImconstantlyonthevergeofabreakdownThefearofbeingjudgedorcriticizedbyothersisparalyzingMybodyfeelsphysicallydrainedfromtheconstantstateofanxietyItshardtotrustotherswhenanxietytellsmetheyreouttogetmeThesmallestsetbacksfeellikemajordisastersinmymindImalwaysanticipatingtheworstoutcomeeveninthemostmundanesituationsThefearofrejectionmakesitdifficulttoformmeaningfulconnectionswithothersMymindisaneverendingloopofnegativethoughtsandworstcasescenariosItshardtomakedecisionswhenanxietycloudsmyjudgmentandconfidenceThefeelingofbeingoverwhelmedisaconstantcompanioninmylifeImalwaysonguardreadyforanypotentialdangerorthreatThefearofdisappointingothersweighsheavilyonmyshouldersMybodyfeelstenseandrestlessunabletofindrelieffromtheanxietyItshardtoenjoyanythingwhenanxietyconstantlywhispersdoubtinmyearThefearoftheunknownkeepsmetrappedinacycleofworryandstressMymindplaystricksonmemakingmebelieveirrationalfearsarerealthreatsSocialinteractionsdrainmebecauseImconstantlyworriedaboutsayingordoingsomethingwrongThefeelingofbeingtrappedbyanxietyissuffocatingandisolatingIcantescapethefeelingthatsomethingterribleisabouttohappenatanymomentMyheartracesandmyhandsshakewheneverIhavetofaceanewchallengeortaskItfeelsliketheresaconstantbattlebetweenrationalityandirrationalfearsinmymindThefearoffailureholdsmebackfrompursuingmydreamsandgoalswholeheartedlyMybodyfeelsphysicallyexhaustedfromcarryingtheweightofanxietyeverydayItshardtotrustmyownjudgmentwhenanxietyconstantlytellsmeImmakingmistakesThefearofbeingvulnerablekeepsme': True}, 'Anxious'), ({'AnxietyIcantstopworryingaboutwhatmightgowrongMyheartracesandmypalmssweatwheneverIthinkaboutthefutureTheconstantfeelingofuneaseisoverwhelmingImalwaysonedgewaitingforsomethingbadtohappenMymindisconstantlyracingwithnegativethoughtsItfeelsliketheresaweightonmychestthatwontgoawayIcantrelaxorenjoyanythingbecauseofthisconstantanxietyIfeellikeeveryoneisjudgingmeandcriticizingmyeverymoveThefearoffailureparalyzesmefromtakinganyrisksMymindisfilledwithwhatifscenariosthatonlyfuelmyanxietyfurtherItshardtobreathewhentheanxietytakesoverImconstantlysecondguessingmyselfanddoubtingmyabilitiesThefeelingofimpendingdoomisalwayslingeringinthebackofmymindSocialsituationsmakemeincrediblyanxiousfearingjudgmentandrejectionItfeelsliketheresaneverendingknotinmystomachthatwontuntangleSleeplessnightsarearegularoccurrenceduetoracingthoughtsandworryMybodyfeelstenseandonhighalertallthetimeSmalltasksbecomeoverwhelmingbecauseoftheanxietytheytriggerImalwaysexpectingtheworstcasescenariotohappeninanysituationItsdifficulttoconcentrateorfocusonanythingwhenanxietytakesholdThefearofmakingmistakesconsumesmeleadingtoconstantselfdoubtMymindjumpsfromoneworrytoanotherneverfindingpeaceorcalmnessTheuncertaintyofthefuturefillsmewithdreadandrestlessnessPanicattacksstrikeunexpectedlyleavingmefeelinghelplessandoutofcontrolItsexhaustingtryingtokeepupappearanceswhilebattlinginnerturmoilIfeellikeImconstantlyonthevergeofabreakdownThefearofbeingjudgedorcriticizedbyothersisparalyzingMybodyfeelsphysicallydrainedfromtheconstantstateofanxietyItshardtotrustotherswhenanxietytellsmetheyreouttogetmeThesmallestsetbacksfeellikemajordisastersinmymindImalwaysanticipatingtheworstoutcomeeveninthemostmundanesituationsThefearofrejectionmakesitdifficulttoformmeaningfulconnectionswithothersMymindisaneverendingloopofnegativethoughtsandworstcasescenariosItshardtomakedecisionswhenanxietycloudsmyjudgmentandconfidenceThefeelingofbeingoverwhelmedisaconstantcompanioninmylifeImalwaysonguardreadyforanypotentialdangerorthreatThefearofdisappointingothersweighsheavilyonmyshouldersMybodyfeelstenseandrestlessunabletofindrelieffromtheanxietyItshardtoenjoyanythingwhenanxietyconstantlywhispersdoubtinmyearThefearoftheunknownkeepsmetrappedinacycleofworryandstressMymindplaystricksonmemakingmebelieveirrationalfearsarerealthreatsSocialinteractionsdrainmebecauseImconstantlyworriedaboutsayingordoingsomethingwrongThefeelingofbeingtrappedbyanxietyissuffocatingandisolatingIcantescapethefeelingthatsomethingterribleisabouttohappenatanymomentMyheartracesandmyhandsshakewheneverIhavetofaceanewchallengeortaskItfeelsliketheresaconstantbattlebetweenrationalityandirrationalfearsinmymindThefearoffailureholdsmebackfrompursuingmydreamsandgoalswholeheartedlyMybodyfeelsphysicallyexhaustedfromcarryingtheweightofanxietyeverydayItshardtotrustmyownjudgmentwhenanxietyconstantlytellsmeImmakingmistakesThefearofbeingvulnerablekeepsme': True}, 'Anxious')]\n"
     ]
    }
   ],
   "source": [
    "tokens = tokenizer.tokenize(reviewtext2)\n",
    "lst: list = []\n",
    "\n",
    "for x in tokens:\n",
    "    lst.append((x,True))\n",
    "\n",
    "d=dict(lst)\n",
    "print(reviewtext2)\n",
    "print(d)\n",
    "\n",
    "finallistanxious.append((d,'Anxious'))\n",
    "print(finallistanxious)"
   ]
  },
  {
   "cell_type": "markdown",
   "id": "35990008",
   "metadata": {},
   "source": [
    "# Train"
   ]
  },
  {
   "cell_type": "code",
   "execution_count": 20,
   "id": "f4813ae0",
   "metadata": {},
   "outputs": [],
   "source": [
    "from sklearn.model_selection import train_test_split\n",
    "train, test = train_test_split(finallistanxious, test_size = 0.2)"
   ]
  },
  {
   "cell_type": "code",
   "execution_count": 22,
   "id": "2c9233a7",
   "metadata": {},
   "outputs": [],
   "source": [
    "model=NaiveBayesClassifier.train(train)"
   ]
  },
  {
   "cell_type": "code",
   "execution_count": null,
   "id": "f13090cf",
   "metadata": {},
   "outputs": [],
   "source": []
  }
 ],
 "metadata": {
  "kernelspec": {
   "display_name": "Python 3 (ipykernel)",
   "language": "python",
   "name": "python3"
  },
  "language_info": {
   "codemirror_mode": {
    "name": "ipython",
    "version": 3
   },
   "file_extension": ".py",
   "mimetype": "text/x-python",
   "name": "python",
   "nbconvert_exporter": "python",
   "pygments_lexer": "ipython3",
   "version": "3.9.12"
  }
 },
 "nbformat": 4,
 "nbformat_minor": 5
}
