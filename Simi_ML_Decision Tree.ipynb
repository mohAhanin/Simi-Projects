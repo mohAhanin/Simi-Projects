{
 "cells": [
  {
   "cell_type": "code",
   "execution_count": 1,
   "id": "ffde29f0",
   "metadata": {},
   "outputs": [],
   "source": [
    "import numpy as np\n",
    "import pandas as pd\n",
    "import matplotlib.pyplot as plt\n",
    "%matplotlib inline"
   ]
  },
  {
   "cell_type": "code",
   "execution_count": 2,
   "id": "c624c6ab",
   "metadata": {},
   "outputs": [],
   "source": [
    "data = pd.read_csv('fake_decision tree_.csv')"
   ]
  },
  {
   "cell_type": "code",
   "execution_count": 3,
   "id": "2e23b98b",
   "metadata": {},
   "outputs": [],
   "source": [
    "df=pd.DataFrame(data)"
   ]
  },
  {
   "cell_type": "code",
   "execution_count": 4,
   "id": "cf588e2a",
   "metadata": {},
   "outputs": [
    {
     "data": {
      "text/html": [
       "<div>\n",
       "<style scoped>\n",
       "    .dataframe tbody tr th:only-of-type {\n",
       "        vertical-align: middle;\n",
       "    }\n",
       "\n",
       "    .dataframe tbody tr th {\n",
       "        vertical-align: top;\n",
       "    }\n",
       "\n",
       "    .dataframe thead th {\n",
       "        text-align: right;\n",
       "    }\n",
       "</style>\n",
       "<table border=\"1\" class=\"dataframe\">\n",
       "  <thead>\n",
       "    <tr style=\"text-align: right;\">\n",
       "      <th></th>\n",
       "      <th>Name</th>\n",
       "      <th>Age</th>\n",
       "      <th>Job</th>\n",
       "      <th>isAdmitted</th>\n",
       "      <th>University</th>\n",
       "    </tr>\n",
       "  </thead>\n",
       "  <tbody>\n",
       "    <tr>\n",
       "      <th>0</th>\n",
       "      <td>Adam Smith</td>\n",
       "      <td>28</td>\n",
       "      <td>Software Developer</td>\n",
       "      <td>1</td>\n",
       "      <td>University of California</td>\n",
       "    </tr>\n",
       "    <tr>\n",
       "      <th>1</th>\n",
       "      <td>Jessica Brown</td>\n",
       "      <td>35</td>\n",
       "      <td>Software Developer</td>\n",
       "      <td>0</td>\n",
       "      <td>Harvard University</td>\n",
       "    </tr>\n",
       "    <tr>\n",
       "      <th>2</th>\n",
       "      <td>Ryan Johnson</td>\n",
       "      <td>42</td>\n",
       "      <td>Software Developer</td>\n",
       "      <td>1</td>\n",
       "      <td>University of California</td>\n",
       "    </tr>\n",
       "    <tr>\n",
       "      <th>3</th>\n",
       "      <td>Rachel Lee</td>\n",
       "      <td>29</td>\n",
       "      <td>Software Developer</td>\n",
       "      <td>0</td>\n",
       "      <td>Harvard University</td>\n",
       "    </tr>\n",
       "    <tr>\n",
       "      <th>4</th>\n",
       "      <td>Andrew Chen</td>\n",
       "      <td>36</td>\n",
       "      <td>Software Developer</td>\n",
       "      <td>1</td>\n",
       "      <td>University of Michigan</td>\n",
       "    </tr>\n",
       "  </tbody>\n",
       "</table>\n",
       "</div>"
      ],
      "text/plain": [
       "            Name  Age                 Job isAdmitted                University\n",
       "0     Adam Smith   28  Software Developer          1  University of California\n",
       "1  Jessica Brown   35  Software Developer          0        Harvard University\n",
       "2   Ryan Johnson   42  Software Developer          1  University of California\n",
       "3     Rachel Lee   29  Software Developer          0        Harvard University\n",
       "4    Andrew Chen   36  Software Developer          1    University of Michigan"
      ]
     },
     "execution_count": 4,
     "metadata": {},
     "output_type": "execute_result"
    }
   ],
   "source": [
    "df.head(5)"
   ]
  },
  {
   "cell_type": "code",
   "execution_count": 5,
   "id": "2d25ace2",
   "metadata": {},
   "outputs": [
    {
     "data": {
      "text/plain": [
       "Index(['Name', 'Age', 'Job', 'isAdmitted', 'University'], dtype='object')"
      ]
     },
     "execution_count": 5,
     "metadata": {},
     "output_type": "execute_result"
    }
   ],
   "source": [
    "df.columns\n"
   ]
  },
  {
   "cell_type": "code",
   "execution_count": 6,
   "id": "b671b851",
   "metadata": {},
   "outputs": [
    {
     "data": {
      "text/plain": [
       "<AxesSubplot:ylabel='None'>"
      ]
     },
     "execution_count": 6,
     "metadata": {},
     "output_type": "execute_result"
    },
    {
     "data": {
      "image/png": "[encoded data removed]",
      "text/plain": [
       "<Figure size 432x288 with 1 Axes>"
      ]
     },
     "metadata": {},
     "output_type": "display_data"
    }
   ],
   "source": [
    "df.groupby('isAdmitted').size().plot(kind='pie', autopct='%.2f')"
   ]
  },
  {
   "cell_type": "code",
   "execution_count": 7,
   "id": "69651336",
   "metadata": {},
   "outputs": [
    {
     "data": {
      "text/plain": [
       "<AxesSubplot:>"
      ]
     },
     "execution_count": 7,
     "metadata": {},
     "output_type": "execute_result"
    },
    {
     "data": {
      "image/png": "[encoded data removed]",
      "text/plain": [
       "<Figure size 432x288 with 1 Axes>"
      ]
     },
     "metadata": {
      "needs_background": "light"
     },
     "output_type": "display_data"
    }
   ],
   "source": [
    "df['Age'].hist()"
   ]
  },
  {
   "cell_type": "code",
   "execution_count": 8,
   "id": "e5471483",
   "metadata": {},
   "outputs": [],
   "source": [
    "df=df.iloc[1:11,:]"
   ]
  },
  {
   "cell_type": "code",
   "execution_count": 9,
   "id": "ea01e291",
   "metadata": {},
   "outputs": [
    {
     "name": "stdout",
     "output_type": "stream",
     "text": [
      "35    1\n",
      "42    1\n",
      "29    1\n",
      "36    1\n",
      "31    1\n",
      "45    1\n",
      "33    1\n",
      "26    1\n",
      "39    1\n",
      "27    1\n",
      "Name: Age, dtype: int64\n",
      "Software Developer            4\n",
      "Human Resources Specialist    4\n",
      "Software Engineer             1\n",
      "Product Manager               1\n",
      "Name: Job, dtype: int64\n",
      "Harvard University                       3\n",
      "University of California                 3\n",
      "University of Michigan                   2\n",
      "Massachusetts Institute of Technology    1\n",
      "University of Southern California        1\n",
      "Name: University, dtype: int64\n"
     ]
    }
   ],
   "source": [
    "col_names = ['Age','Job','University']\n",
    "for col in col_names:\n",
    "    print(df[col].value_counts()) "
   ]
  },
  {
   "cell_type": "code",
   "execution_count": 10,
   "id": "a0b39bc1",
   "metadata": {},
   "outputs": [
    {
     "data": {
      "text/html": [
       "<div>\n",
       "<style scoped>\n",
       "    .dataframe tbody tr th:only-of-type {\n",
       "        vertical-align: middle;\n",
       "    }\n",
       "\n",
       "    .dataframe tbody tr th {\n",
       "        vertical-align: top;\n",
       "    }\n",
       "\n",
       "    .dataframe thead th {\n",
       "        text-align: right;\n",
       "    }\n",
       "</style>\n",
       "<table border=\"1\" class=\"dataframe\">\n",
       "  <thead>\n",
       "    <tr style=\"text-align: right;\">\n",
       "      <th></th>\n",
       "      <th>Name</th>\n",
       "      <th>Age</th>\n",
       "      <th>Job</th>\n",
       "      <th>isAdmitted</th>\n",
       "      <th>University</th>\n",
       "    </tr>\n",
       "  </thead>\n",
       "  <tbody>\n",
       "    <tr>\n",
       "      <th>1</th>\n",
       "      <td>Jessica Brown</td>\n",
       "      <td>35</td>\n",
       "      <td>Software Developer</td>\n",
       "      <td>0</td>\n",
       "      <td>Harvard University</td>\n",
       "    </tr>\n",
       "    <tr>\n",
       "      <th>2</th>\n",
       "      <td>Ryan Johnson</td>\n",
       "      <td>42</td>\n",
       "      <td>Software Developer</td>\n",
       "      <td>1</td>\n",
       "      <td>University of California</td>\n",
       "    </tr>\n",
       "    <tr>\n",
       "      <th>3</th>\n",
       "      <td>Rachel Lee</td>\n",
       "      <td>29</td>\n",
       "      <td>Software Developer</td>\n",
       "      <td>0</td>\n",
       "      <td>Harvard University</td>\n",
       "    </tr>\n",
       "    <tr>\n",
       "      <th>4</th>\n",
       "      <td>Andrew Chen</td>\n",
       "      <td>36</td>\n",
       "      <td>Software Developer</td>\n",
       "      <td>1</td>\n",
       "      <td>University of Michigan</td>\n",
       "    </tr>\n",
       "    <tr>\n",
       "      <th>5</th>\n",
       "      <td>Emily Davis</td>\n",
       "      <td>31</td>\n",
       "      <td>Human Resources Specialist</td>\n",
       "      <td>0</td>\n",
       "      <td>University of California</td>\n",
       "    </tr>\n",
       "    <tr>\n",
       "      <th>6</th>\n",
       "      <td>Jacob Garcia</td>\n",
       "      <td>45</td>\n",
       "      <td>Human Resources Specialist</td>\n",
       "      <td>1</td>\n",
       "      <td>Harvard University</td>\n",
       "    </tr>\n",
       "    <tr>\n",
       "      <th>7</th>\n",
       "      <td>Olivia Wilson</td>\n",
       "      <td>33</td>\n",
       "      <td>Human Resources Specialist</td>\n",
       "      <td>0</td>\n",
       "      <td>University of Michigan</td>\n",
       "    </tr>\n",
       "    <tr>\n",
       "      <th>8</th>\n",
       "      <td>Michael Nguyen</td>\n",
       "      <td>26</td>\n",
       "      <td>Human Resources Specialist</td>\n",
       "      <td>1</td>\n",
       "      <td>University of California</td>\n",
       "    </tr>\n",
       "    <tr>\n",
       "      <th>9</th>\n",
       "      <td>Sophia Kim</td>\n",
       "      <td>39</td>\n",
       "      <td>Software Engineer</td>\n",
       "      <td>0</td>\n",
       "      <td>Massachusetts Institute of Technology</td>\n",
       "    </tr>\n",
       "    <tr>\n",
       "      <th>10</th>\n",
       "      <td>Daniel Hernandez</td>\n",
       "      <td>27</td>\n",
       "      <td>Product Manager</td>\n",
       "      <td>1</td>\n",
       "      <td>University of Southern California</td>\n",
       "    </tr>\n",
       "  </tbody>\n",
       "</table>\n",
       "</div>"
      ],
      "text/plain": [
       "                Name  Age                         Job isAdmitted  \\\n",
       "1      Jessica Brown   35          Software Developer          0   \n",
       "2       Ryan Johnson   42          Software Developer          1   \n",
       "3         Rachel Lee   29          Software Developer          0   \n",
       "4        Andrew Chen   36          Software Developer          1   \n",
       "5        Emily Davis   31  Human Resources Specialist          0   \n",
       "6       Jacob Garcia   45  Human Resources Specialist          1   \n",
       "7      Olivia Wilson   33  Human Resources Specialist          0   \n",
       "8     Michael Nguyen   26  Human Resources Specialist          1   \n",
       "9         Sophia Kim   39           Software Engineer          0   \n",
       "10  Daniel Hernandez   27             Product Manager          1   \n",
       "\n",
       "                               University  \n",
       "1                      Harvard University  \n",
       "2                University of California  \n",
       "3                      Harvard University  \n",
       "4                  University of Michigan  \n",
       "5                University of California  \n",
       "6                      Harvard University  \n",
       "7                  University of Michigan  \n",
       "8                University of California  \n",
       "9   Massachusetts Institute of Technology  \n",
       "10      University of Southern California  "
      ]
     },
     "execution_count": 10,
     "metadata": {},
     "output_type": "execute_result"
    }
   ],
   "source": [
    "df"
   ]
  },
  {
   "cell_type": "code",
   "execution_count": 11,
   "id": "9c367672",
   "metadata": {},
   "outputs": [],
   "source": [
    "df['Job']=df['Job'].map({'Software Developer':1,'Human Resources Specialist':2,'Product Manager':3}) "
   ]
  },
  {
   "cell_type": "code",
   "execution_count": 12,
   "id": "47392016",
   "metadata": {},
   "outputs": [],
   "source": [
    "#df['isAdmitted']=df['isAdmitted'].map({'False':0,'True':1})"
   ]
  },
  {
   "cell_type": "code",
   "execution_count": 13,
   "id": "f5459375",
   "metadata": {},
   "outputs": [],
   "source": [
    "df['University']=df['University'].map({'Harvard University':1,'University of California':2,'University of Michigan':3,\n",
    "                                      'Massachusetts Institute of Technology':4,'University of Southern California':5})"
   ]
  },
  {
   "cell_type": "code",
   "execution_count": 14,
   "id": "c7b6d6b7",
   "metadata": {},
   "outputs": [
    {
     "data": {
      "text/html": [
       "<div>\n",
       "<style scoped>\n",
       "    .dataframe tbody tr th:only-of-type {\n",
       "        vertical-align: middle;\n",
       "    }\n",
       "\n",
       "    .dataframe tbody tr th {\n",
       "        vertical-align: top;\n",
       "    }\n",
       "\n",
       "    .dataframe thead th {\n",
       "        text-align: right;\n",
       "    }\n",
       "</style>\n",
       "<table border=\"1\" class=\"dataframe\">\n",
       "  <thead>\n",
       "    <tr style=\"text-align: right;\">\n",
       "      <th></th>\n",
       "      <th>Name</th>\n",
       "      <th>Age</th>\n",
       "      <th>Job</th>\n",
       "      <th>isAdmitted</th>\n",
       "      <th>University</th>\n",
       "    </tr>\n",
       "  </thead>\n",
       "  <tbody>\n",
       "    <tr>\n",
       "      <th>1</th>\n",
       "      <td>Jessica Brown</td>\n",
       "      <td>35</td>\n",
       "      <td>1.0</td>\n",
       "      <td>0</td>\n",
       "      <td>1</td>\n",
       "    </tr>\n",
       "    <tr>\n",
       "      <th>2</th>\n",
       "      <td>Ryan Johnson</td>\n",
       "      <td>42</td>\n",
       "      <td>1.0</td>\n",
       "      <td>1</td>\n",
       "      <td>2</td>\n",
       "    </tr>\n",
       "    <tr>\n",
       "      <th>3</th>\n",
       "      <td>Rachel Lee</td>\n",
       "      <td>29</td>\n",
       "      <td>1.0</td>\n",
       "      <td>0</td>\n",
       "      <td>1</td>\n",
       "    </tr>\n",
       "    <tr>\n",
       "      <th>4</th>\n",
       "      <td>Andrew Chen</td>\n",
       "      <td>36</td>\n",
       "      <td>1.0</td>\n",
       "      <td>1</td>\n",
       "      <td>3</td>\n",
       "    </tr>\n",
       "    <tr>\n",
       "      <th>5</th>\n",
       "      <td>Emily Davis</td>\n",
       "      <td>31</td>\n",
       "      <td>2.0</td>\n",
       "      <td>0</td>\n",
       "      <td>2</td>\n",
       "    </tr>\n",
       "    <tr>\n",
       "      <th>6</th>\n",
       "      <td>Jacob Garcia</td>\n",
       "      <td>45</td>\n",
       "      <td>2.0</td>\n",
       "      <td>1</td>\n",
       "      <td>1</td>\n",
       "    </tr>\n",
       "    <tr>\n",
       "      <th>7</th>\n",
       "      <td>Olivia Wilson</td>\n",
       "      <td>33</td>\n",
       "      <td>2.0</td>\n",
       "      <td>0</td>\n",
       "      <td>3</td>\n",
       "    </tr>\n",
       "    <tr>\n",
       "      <th>8</th>\n",
       "      <td>Michael Nguyen</td>\n",
       "      <td>26</td>\n",
       "      <td>2.0</td>\n",
       "      <td>1</td>\n",
       "      <td>2</td>\n",
       "    </tr>\n",
       "    <tr>\n",
       "      <th>9</th>\n",
       "      <td>Sophia Kim</td>\n",
       "      <td>39</td>\n",
       "      <td>NaN</td>\n",
       "      <td>0</td>\n",
       "      <td>4</td>\n",
       "    </tr>\n",
       "    <tr>\n",
       "      <th>10</th>\n",
       "      <td>Daniel Hernandez</td>\n",
       "      <td>27</td>\n",
       "      <td>3.0</td>\n",
       "      <td>1</td>\n",
       "      <td>5</td>\n",
       "    </tr>\n",
       "  </tbody>\n",
       "</table>\n",
       "</div>"
      ],
      "text/plain": [
       "                Name  Age  Job isAdmitted  University\n",
       "1      Jessica Brown   35  1.0          0           1\n",
       "2       Ryan Johnson   42  1.0          1           2\n",
       "3         Rachel Lee   29  1.0          0           1\n",
       "4        Andrew Chen   36  1.0          1           3\n",
       "5        Emily Davis   31  2.0          0           2\n",
       "6       Jacob Garcia   45  2.0          1           1\n",
       "7      Olivia Wilson   33  2.0          0           3\n",
       "8     Michael Nguyen   26  2.0          1           2\n",
       "9         Sophia Kim   39  NaN          0           4\n",
       "10  Daniel Hernandez   27  3.0          1           5"
      ]
     },
     "execution_count": 14,
     "metadata": {},
     "output_type": "execute_result"
    }
   ],
   "source": [
    "df"
   ]
  },
  {
   "cell_type": "code",
   "execution_count": 15,
   "id": "5eb6a7e5",
   "metadata": {},
   "outputs": [],
   "source": [
    "df.dropna(inplace=True)"
   ]
  },
  {
   "cell_type": "code",
   "execution_count": 16,
   "id": "5948e2fd",
   "metadata": {},
   "outputs": [
    {
     "data": {
      "text/html": [
       "<div>\n",
       "<style scoped>\n",
       "    .dataframe tbody tr th:only-of-type {\n",
       "        vertical-align: middle;\n",
       "    }\n",
       "\n",
       "    .dataframe tbody tr th {\n",
       "        vertical-align: top;\n",
       "    }\n",
       "\n",
       "    .dataframe thead th {\n",
       "        text-align: right;\n",
       "    }\n",
       "</style>\n",
       "<table border=\"1\" class=\"dataframe\">\n",
       "  <thead>\n",
       "    <tr style=\"text-align: right;\">\n",
       "      <th></th>\n",
       "      <th>Name</th>\n",
       "      <th>Age</th>\n",
       "      <th>Job</th>\n",
       "      <th>isAdmitted</th>\n",
       "      <th>University</th>\n",
       "    </tr>\n",
       "  </thead>\n",
       "  <tbody>\n",
       "    <tr>\n",
       "      <th>1</th>\n",
       "      <td>Jessica Brown</td>\n",
       "      <td>35</td>\n",
       "      <td>1.0</td>\n",
       "      <td>0</td>\n",
       "      <td>1</td>\n",
       "    </tr>\n",
       "    <tr>\n",
       "      <th>2</th>\n",
       "      <td>Ryan Johnson</td>\n",
       "      <td>42</td>\n",
       "      <td>1.0</td>\n",
       "      <td>1</td>\n",
       "      <td>2</td>\n",
       "    </tr>\n",
       "    <tr>\n",
       "      <th>3</th>\n",
       "      <td>Rachel Lee</td>\n",
       "      <td>29</td>\n",
       "      <td>1.0</td>\n",
       "      <td>0</td>\n",
       "      <td>1</td>\n",
       "    </tr>\n",
       "    <tr>\n",
       "      <th>4</th>\n",
       "      <td>Andrew Chen</td>\n",
       "      <td>36</td>\n",
       "      <td>1.0</td>\n",
       "      <td>1</td>\n",
       "      <td>3</td>\n",
       "    </tr>\n",
       "    <tr>\n",
       "      <th>5</th>\n",
       "      <td>Emily Davis</td>\n",
       "      <td>31</td>\n",
       "      <td>2.0</td>\n",
       "      <td>0</td>\n",
       "      <td>2</td>\n",
       "    </tr>\n",
       "    <tr>\n",
       "      <th>6</th>\n",
       "      <td>Jacob Garcia</td>\n",
       "      <td>45</td>\n",
       "      <td>2.0</td>\n",
       "      <td>1</td>\n",
       "      <td>1</td>\n",
       "    </tr>\n",
       "    <tr>\n",
       "      <th>7</th>\n",
       "      <td>Olivia Wilson</td>\n",
       "      <td>33</td>\n",
       "      <td>2.0</td>\n",
       "      <td>0</td>\n",
       "      <td>3</td>\n",
       "    </tr>\n",
       "    <tr>\n",
       "      <th>8</th>\n",
       "      <td>Michael Nguyen</td>\n",
       "      <td>26</td>\n",
       "      <td>2.0</td>\n",
       "      <td>1</td>\n",
       "      <td>2</td>\n",
       "    </tr>\n",
       "    <tr>\n",
       "      <th>10</th>\n",
       "      <td>Daniel Hernandez</td>\n",
       "      <td>27</td>\n",
       "      <td>3.0</td>\n",
       "      <td>1</td>\n",
       "      <td>5</td>\n",
       "    </tr>\n",
       "  </tbody>\n",
       "</table>\n",
       "</div>"
      ],
      "text/plain": [
       "                Name  Age  Job isAdmitted  University\n",
       "1      Jessica Brown   35  1.0          0           1\n",
       "2       Ryan Johnson   42  1.0          1           2\n",
       "3         Rachel Lee   29  1.0          0           1\n",
       "4        Andrew Chen   36  1.0          1           3\n",
       "5        Emily Davis   31  2.0          0           2\n",
       "6       Jacob Garcia   45  2.0          1           1\n",
       "7      Olivia Wilson   33  2.0          0           3\n",
       "8     Michael Nguyen   26  2.0          1           2\n",
       "10  Daniel Hernandez   27  3.0          1           5"
      ]
     },
     "execution_count": 16,
     "metadata": {},
     "output_type": "execute_result"
    }
   ],
   "source": [
    "df"
   ]
  },
  {
   "cell_type": "code",
   "execution_count": 17,
   "id": "5e573ffa",
   "metadata": {},
   "outputs": [
    {
     "data": {
      "text/plain": [
       "Name          0\n",
       "Age           0\n",
       "Job           0\n",
       "isAdmitted    0\n",
       "University    0\n",
       "dtype: int64"
      ]
     },
     "execution_count": 17,
     "metadata": {},
     "output_type": "execute_result"
    }
   ],
   "source": [
    "df.isnull().sum()"
   ]
  },
  {
   "cell_type": "code",
   "execution_count": 18,
   "id": "d5c5328a",
   "metadata": {},
   "outputs": [],
   "source": [
    "y=df['isAdmitted']"
   ]
  },
  {
   "cell_type": "code",
   "execution_count": 19,
   "id": "39cc5212",
   "metadata": {},
   "outputs": [],
   "source": [
    "x=df[['Job','Age','University']]"
   ]
  },
  {
   "cell_type": "code",
   "execution_count": 20,
   "id": "7bb731fe",
   "metadata": {},
   "outputs": [],
   "source": [
    "from sklearn.tree import DecisionTreeClassifier"
   ]
  },
  {
   "cell_type": "code",
   "execution_count": 21,
   "id": "499e33d4",
   "metadata": {},
   "outputs": [],
   "source": [
    "decisiontree = DecisionTreeClassifier()"
   ]
  },
  {
   "cell_type": "code",
   "execution_count": 22,
   "id": "5af91122",
   "metadata": {},
   "outputs": [],
   "source": [
    "model=decisiontree.fit(x,y)"
   ]
  },
  {
   "cell_type": "code",
   "execution_count": 23,
   "id": "64664774",
   "metadata": {},
   "outputs": [],
   "source": [
    "from sklearn import tree"
   ]
  },
  {
   "cell_type": "code",
   "execution_count": 24,
   "id": "4c1ea41a",
   "metadata": {},
   "outputs": [],
   "source": [
    "rules:str = tree.export_text(model)"
   ]
  },
  {
   "cell_type": "code",
   "execution_count": 25,
   "id": "811f3736",
   "metadata": {},
   "outputs": [],
   "source": [
    "with open('fake.txt','w')  as f:\n",
    "    f.write(rules)"
   ]
  },
  {
   "cell_type": "code",
   "execution_count": 26,
   "id": "14816ff0",
   "metadata": {},
   "outputs": [],
   "source": [
    "rules = rules.replace('feature_1 ','Age')\n",
    "rules = rules.replace('class: 0', 'rejected')\n",
    "rules = rules.replace('class: 1', 'approved')"
   ]
  },
  {
   "cell_type": "code",
   "execution_count": 27,
   "id": "6a916ea5",
   "metadata": {},
   "outputs": [],
   "source": [
    "from sklearn.tree import export_text"
   ]
  },
  {
   "cell_type": "code",
   "execution_count": 28,
   "id": "419f451e",
   "metadata": {},
   "outputs": [
    {
     "data": {
      "text/plain": [
       "'|--- Age <= 35.50\\n|   |--- Age <= 28.00\\n|   |   |--- class: 1\\n|   |--- Age >  28.00\\n|   |   |--- class: 0\\n|--- Age >  35.50\\n|   |--- class: 1\\n'"
      ]
     },
     "execution_count": 28,
     "metadata": {},
     "output_type": "execute_result"
    }
   ],
   "source": [
    "tree_rules = export_text(decisiontree, feature_names=list(x.columns))\n",
    "tree_rules"
   ]
  },
  {
   "cell_type": "code",
   "execution_count": 29,
   "id": "093433f6",
   "metadata": {},
   "outputs": [],
   "source": [
    "def get_lineage(tree, feature_names):\n",
    "     left      = tree.tree_.children_left\n",
    "     right     = tree.tree_.children_right\n",
    "     threshold = tree.tree_.threshold\n",
    "     features  = [feature_names[i] for i in tree.tree_.feature]\n",
    "\n",
    "     # get ids of child nodes\n",
    "     idx = np.argwhere(left == -1)[:,0]     \n",
    "\n",
    "     def recurse(left, right, child, lineage=None):          \n",
    "          if lineage is None:\n",
    "               lineage = [child]\n",
    "          if child in left:\n",
    "               parent = np.where(left == child)[0].item()\n",
    "               split = 'l'\n",
    "          else:\n",
    "               parent = np.where(right == child)[0].item()\n",
    "               split = 'r'\n",
    "\n",
    "          lineage.append((parent, split, threshold[parent], features[parent]))\n",
    "\n",
    "          if parent == 0:\n",
    "               lineage.reverse()\n",
    "               return lineage\n",
    "          else:\n",
    "               return recurse(left, right, parent, lineage)\n",
    "\n",
    "     for child in idx:\n",
    "          for node in recurse(left, right, child):\n",
    "               print(node)"
   ]
  },
  {
   "cell_type": "code",
   "execution_count": 30,
   "id": "69e730df",
   "metadata": {},
   "outputs": [
    {
     "name": "stdout",
     "output_type": "stream",
     "text": [
      "(0, 'l', 35.5, 'Age')\n",
      "(1, 'l', 28.0, 'Age')\n",
      "2\n",
      "(0, 'l', 35.5, 'Age')\n",
      "(1, 'r', 28.0, 'Age')\n",
      "3\n",
      "(0, 'r', 35.5, 'Age')\n",
      "4\n"
     ]
    }
   ],
   "source": [
    "get_lineage(decisiontree, df.columns)"
   ]
  },
  {
   "cell_type": "code",
   "execution_count": 31,
   "id": "248a43ef",
   "metadata": {},
   "outputs": [
    {
     "data": {
      "image/png": "[encoded data removed]",
      "text/plain": [
       "<Figure size 504x504 with 1 Axes>"
      ]
     },
     "metadata": {
      "needs_background": "light"
     },
     "output_type": "display_data"
    }
   ],
   "source": [
    "import matplotlib.image as pltimage\n",
    "fig = plt.figure(figsize=(7,7))\n",
    "tree.plot_tree(decisiontree, feature_names=['Job','Age','University'],class_names=['yes','no'],filled=True)\n",
    "fig.savefig('tree.png')"
   ]
  },
  {
   "cell_type": "code",
   "execution_count": null,
   "id": "8f810d59",
   "metadata": {},
   "outputs": [],
   "source": []
  },
  {
   "cell_type": "code",
   "execution_count": null,
   "id": "2b0818bd",
   "metadata": {},
   "outputs": [],
   "source": []
  }
 ],
 "metadata": {
  "kernelspec": {
   "display_name": "Python 3 (ipykernel)",
   "language": "python",
   "name": "python3"
  },
  "language_info": {
   "codemirror_mode": {
    "name": "ipython",
    "version": 3
   },
   "file_extension": ".py",
   "mimetype": "text/x-python",
   "name": "python",
   "nbconvert_exporter": "python",
   "pygments_lexer": "ipython3",
   "version": "3.9.12"
  }
 },
 "nbformat": 4,
 "nbformat_minor": 5
}
