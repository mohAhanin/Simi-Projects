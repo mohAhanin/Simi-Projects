{
 "cells": [
  {
   "cell_type": "code",
   "execution_count": 1,
   "id": "ffde29f0",
   "metadata": {},
   "outputs": [],
   "source": [
    "import numpy as np\n",
    "import pandas as pd\n",
    "import matplotlib.pyplot as plt\n",
    "%matplotlib inline"
   ]
  },
  {
   "cell_type": "code",
   "execution_count": 2,
   "id": "c624c6ab",
   "metadata": {},
   "outputs": [],
   "source": [
    "data = pd.read_csv('fake_decision tree_.csv')"
   ]
  },
  {
   "cell_type": "code",
   "execution_count": 3,
   "id": "2e23b98b",
   "metadata": {},
   "outputs": [],
   "source": [
    "df=pd.DataFrame(data)"
   ]
  },
  {
   "cell_type": "code",
   "execution_count": 4,
   "id": "cf588e2a",
   "metadata": {},
   "outputs": [
    {
     "data": {
      "text/html": [
       "<div>\n",
       "<style scoped>\n",
       "    .dataframe tbody tr th:only-of-type {\n",
       "        vertical-align: middle;\n",
       "    }\n",
       "\n",
       "    .dataframe tbody tr th {\n",
       "        vertical-align: top;\n",
       "    }\n",
       "\n",
       "    .dataframe thead th {\n",
       "        text-align: right;\n",
       "    }\n",
       "</style>\n",
       "<table border=\"1\" class=\"dataframe\">\n",
       "  <thead>\n",
       "    <tr style=\"text-align: right;\">\n",
       "      <th></th>\n",
       "      <th>Name</th>\n",
       "      <th>Age</th>\n",
       "      <th>Job</th>\n",
       "      <th>isAdmitted</th>\n",
       "      <th>University</th>\n",
       "    </tr>\n",
       "  </thead>\n",
       "  <tbody>\n",
       "    <tr>\n",
       "      <th>0</th>\n",
       "      <td>Adam Smith</td>\n",
       "      <td>28</td>\n",
       "      <td>Software Developer</td>\n",
       "      <td>True</td>\n",
       "      <td>University of California</td>\n",
       "    </tr>\n",
       "    <tr>\n",
       "      <th>1</th>\n",
       "      <td>Jessica Brown</td>\n",
       "      <td>35</td>\n",
       "      <td>Software Developer</td>\n",
       "      <td>False</td>\n",
       "      <td>Harvard University</td>\n",
       "    </tr>\n",
       "    <tr>\n",
       "      <th>2</th>\n",
       "      <td>Ryan Johnson</td>\n",
       "      <td>42</td>\n",
       "      <td>Software Developer</td>\n",
       "      <td>True</td>\n",
       "      <td>University of California</td>\n",
       "    </tr>\n",
       "    <tr>\n",
       "      <th>3</th>\n",
       "      <td>Rachel Lee</td>\n",
       "      <td>29</td>\n",
       "      <td>Software Developer</td>\n",
       "      <td>False</td>\n",
       "      <td>Harvard University</td>\n",
       "    </tr>\n",
       "    <tr>\n",
       "      <th>4</th>\n",
       "      <td>Andrew Chen</td>\n",
       "      <td>36</td>\n",
       "      <td>Software Developer</td>\n",
       "      <td>True</td>\n",
       "      <td>University of Michigan</td>\n",
       "    </tr>\n",
       "  </tbody>\n",
       "</table>\n",
       "</div>"
      ],
      "text/plain": [
       "            Name  Age                 Job  isAdmitted  \\\n",
       "0     Adam Smith   28  Software Developer        True   \n",
       "1  Jessica Brown   35  Software Developer       False   \n",
       "2   Ryan Johnson   42  Software Developer        True   \n",
       "3     Rachel Lee   29  Software Developer       False   \n",
       "4    Andrew Chen   36  Software Developer        True   \n",
       "\n",
       "                 University  \n",
       "0  University of California  \n",
       "1        Harvard University  \n",
       "2  University of California  \n",
       "3        Harvard University  \n",
       "4    University of Michigan  "
      ]
     },
     "execution_count": 4,
     "metadata": {},
     "output_type": "execute_result"
    }
   ],
   "source": [
    "df.head(5)"
   ]
  },
  {
   "cell_type": "code",
   "execution_count": 5,
   "id": "2d25ace2",
   "metadata": {},
   "outputs": [
    {
     "data": {
      "text/plain": [
       "Index(['Name', 'Age', 'Job', 'isAdmitted', 'University'], dtype='object')"
      ]
     },
     "execution_count": 5,
     "metadata": {},
     "output_type": "execute_result"
    }
   ],
   "source": [
    "df.columns\n"
   ]
  },
  {
   "cell_type": "code",
   "execution_count": 6,
   "id": "b671b851",
   "metadata": {},
   "outputs": [
    {
     "data": {
      "text/plain": [
       "<AxesSubplot:ylabel='None'>"
      ]
     },
     "execution_count": 6,
     "metadata": {},
     "output_type": "execute_result"
    },
    {
     "data": {
      "image/png": "[encoded data removed]",
      "text/plain": [
       "<Figure size 432x288 with 1 Axes>"
      ]
     },
     "metadata": {},
     "output_type": "display_data"
    }
   ],
   "source": [
    "df.groupby('isAdmitted').size().plot(kind='pie', autopct='%.2f')"
   ]
  },
  {
   "cell_type": "code",
   "execution_count": 7,
   "id": "69651336",
   "metadata": {},
   "outputs": [
    {
     "data": {
      "text/plain": [
       "<AxesSubplot:>"
      ]
     },
     "execution_count": 7,
     "metadata": {},
     "output_type": "execute_result"
    },
    {
     "data": {
      "image/png": "[encoded data removed]",
      "text/plain": [
       "<Figure size 432x288 with 1 Axes>"
      ]
     },
     "metadata": {
      "needs_background": "light"
     },
     "output_type": "display_data"
    }
   ],
   "source": [
    "df['Age'].hist()"
   ]
  },
  {
   "cell_type": "code",
   "execution_count": 8,
   "id": "e5471483",
   "metadata": {},
   "outputs": [],
   "source": [
    "df=df.iloc[1:11,:]"
   ]
  },
  {
   "cell_type": "code",
   "execution_count": 9,
   "id": "ea01e291",
   "metadata": {},
   "outputs": [
    {
     "name": "stdout",
     "output_type": "stream",
     "text": [
      "35    1\n",
      "42    1\n",
      "29    1\n",
      "36    1\n",
      "31    1\n",
      "45    1\n",
      "33    1\n",
      "26    1\n",
      "39    1\n",
      "27    1\n",
      "Name: Age, dtype: int64\n",
      "Software Developer            4\n",
      "Human Resources Specialist    4\n",
      "Software Engineer             1\n",
      "Product Manager               1\n",
      "Name: Job, dtype: int64\n",
      "Harvard University                       3\n",
      "University of California                 3\n",
      "University of Michigan                   2\n",
      "Massachusetts Institute of Technology    1\n",
      "University of Southern California        1\n",
      "Name: University, dtype: int64\n"
     ]
    }
   ],
   "source": [
    "col_names = ['Age','Job','University']\n",
    "for col in col_names:\n",
    "    print(df[col].value_counts()) "
   ]
  },
  {
   "cell_type": "code",
   "execution_count": 10,
   "id": "a0b39bc1",
   "metadata": {},
   "outputs": [
    {
     "data": {
      "text/html": [
       "<div>\n",
       "<style scoped>\n",
       "    .dataframe tbody tr th:only-of-type {\n",
       "        vertical-align: middle;\n",
       "    }\n",
       "\n",
       "    .dataframe tbody tr th {\n",
       "        vertical-align: top;\n",
       "    }\n",
       "\n",
       "    .dataframe thead th {\n",
       "        text-align: right;\n",
       "    }\n",
       "</style>\n",
       "<table border=\"1\" class=\"dataframe\">\n",
       "  <thead>\n",
       "    <tr style=\"text-align: right;\">\n",
       "      <th></th>\n",
       "      <th>Name</th>\n",
       "      <th>Age</th>\n",
       "      <th>Job</th>\n",
       "      <th>isAdmitted</th>\n",
       "      <th>University</th>\n",
       "    </tr>\n",
       "  </thead>\n",
       "  <tbody>\n",
       "    <tr>\n",
       "      <th>1</th>\n",
       "      <td>Jessica Brown</td>\n",
       "      <td>35</td>\n",
       "      <td>Software Developer</td>\n",
       "      <td>False</td>\n",
       "      <td>Harvard University</td>\n",
       "    </tr>\n",
       "    <tr>\n",
       "      <th>2</th>\n",
       "      <td>Ryan Johnson</td>\n",
       "      <td>42</td>\n",
       "      <td>Software Developer</td>\n",
       "      <td>True</td>\n",
       "      <td>University of California</td>\n",
       "    </tr>\n",
       "    <tr>\n",
       "      <th>3</th>\n",
       "      <td>Rachel Lee</td>\n",
       "      <td>29</td>\n",
       "      <td>Software Developer</td>\n",
       "      <td>False</td>\n",
       "      <td>Harvard University</td>\n",
       "    </tr>\n",
       "    <tr>\n",
       "      <th>4</th>\n",
       "      <td>Andrew Chen</td>\n",
       "      <td>36</td>\n",
       "      <td>Software Developer</td>\n",
       "      <td>True</td>\n",
       "      <td>University of Michigan</td>\n",
       "    </tr>\n",
       "    <tr>\n",
       "      <th>5</th>\n",
       "      <td>Emily Davis</td>\n",
       "      <td>31</td>\n",
       "      <td>Human Resources Specialist</td>\n",
       "      <td>False</td>\n",
       "      <td>University of California</td>\n",
       "    </tr>\n",
       "    <tr>\n",
       "      <th>6</th>\n",
       "      <td>Jacob Garcia</td>\n",
       "      <td>45</td>\n",
       "      <td>Human Resources Specialist</td>\n",
       "      <td>True</td>\n",
       "      <td>Harvard University</td>\n",
       "    </tr>\n",
       "    <tr>\n",
       "      <th>7</th>\n",
       "      <td>Olivia Wilson</td>\n",
       "      <td>33</td>\n",
       "      <td>Human Resources Specialist</td>\n",
       "      <td>False</td>\n",
       "      <td>University of Michigan</td>\n",
       "    </tr>\n",
       "    <tr>\n",
       "      <th>8</th>\n",
       "      <td>Michael Nguyen</td>\n",
       "      <td>26</td>\n",
       "      <td>Human Resources Specialist</td>\n",
       "      <td>True</td>\n",
       "      <td>University of California</td>\n",
       "    </tr>\n",
       "    <tr>\n",
       "      <th>9</th>\n",
       "      <td>Sophia Kim</td>\n",
       "      <td>39</td>\n",
       "      <td>Software Engineer</td>\n",
       "      <td>False</td>\n",
       "      <td>Massachusetts Institute of Technology</td>\n",
       "    </tr>\n",
       "    <tr>\n",
       "      <th>10</th>\n",
       "      <td>Daniel Hernandez</td>\n",
       "      <td>27</td>\n",
       "      <td>Product Manager</td>\n",
       "      <td>True</td>\n",
       "      <td>University of Southern California</td>\n",
       "    </tr>\n",
       "  </tbody>\n",
       "</table>\n",
       "</div>"
      ],
      "text/plain": [
       "                Name  Age                         Job  isAdmitted  \\\n",
       "1      Jessica Brown   35          Software Developer       False   \n",
       "2       Ryan Johnson   42          Software Developer        True   \n",
       "3         Rachel Lee   29          Software Developer       False   \n",
       "4        Andrew Chen   36          Software Developer        True   \n",
       "5        Emily Davis   31  Human Resources Specialist       False   \n",
       "6       Jacob Garcia   45  Human Resources Specialist        True   \n",
       "7      Olivia Wilson   33  Human Resources Specialist       False   \n",
       "8     Michael Nguyen   26  Human Resources Specialist        True   \n",
       "9         Sophia Kim   39           Software Engineer       False   \n",
       "10  Daniel Hernandez   27             Product Manager        True   \n",
       "\n",
       "                               University  \n",
       "1                      Harvard University  \n",
       "2                University of California  \n",
       "3                      Harvard University  \n",
       "4                  University of Michigan  \n",
       "5                University of California  \n",
       "6                      Harvard University  \n",
       "7                  University of Michigan  \n",
       "8                University of California  \n",
       "9   Massachusetts Institute of Technology  \n",
       "10      University of Southern California  "
      ]
     },
     "execution_count": 10,
     "metadata": {},
     "output_type": "execute_result"
    }
   ],
   "source": [
    "df"
   ]
  },
  {
   "cell_type": "code",
   "execution_count": 11,
   "id": "9c367672",
   "metadata": {},
   "outputs": [],
   "source": [
    "df['Job']=df['Job'].map({'Software Developer':1,'Human Resources Specialist':2,'Product Manager':3}) "
   ]
  },
  {
   "cell_type": "code",
   "execution_count": 12,
   "id": "47392016",
   "metadata": {},
   "outputs": [],
   "source": [
    "df['isAdmitted']=df['isAdmitted'].map({'False':0,'True':1})"
   ]
  },
  {
   "cell_type": "code",
   "execution_count": 13,
   "id": "f5459375",
   "metadata": {},
   "outputs": [],
   "source": [
    "df['University']=df['University'].map({'Harvard University':1,'University of California':2,'University of Michigan':3,\n",
    "                                      'Massachusetts Institute of Technology':4,'University of Southern California':5})"
   ]
  },
  {
   "cell_type": "code",
   "execution_count": 14,
   "id": "c7b6d6b7",
   "metadata": {},
   "outputs": [
    {
     "data": {
      "text/html": [
       "<div>\n",
       "<style scoped>\n",
       "    .dataframe tbody tr th:only-of-type {\n",
       "        vertical-align: middle;\n",
       "    }\n",
       "\n",
       "    .dataframe tbody tr th {\n",
       "        vertical-align: top;\n",
       "    }\n",
       "\n",
       "    .dataframe thead th {\n",
       "        text-align: right;\n",
       "    }\n",
       "</style>\n",
       "<table border=\"1\" class=\"dataframe\">\n",
       "  <thead>\n",
       "    <tr style=\"text-align: right;\">\n",
       "      <th></th>\n",
       "      <th>Name</th>\n",
       "      <th>Age</th>\n",
       "      <th>Job</th>\n",
       "      <th>isAdmitted</th>\n",
       "      <th>University</th>\n",
       "    </tr>\n",
       "  </thead>\n",
       "  <tbody>\n",
       "    <tr>\n",
       "      <th>1</th>\n",
       "      <td>Jessica Brown</td>\n",
       "      <td>35</td>\n",
       "      <td>1.0</td>\n",
       "      <td>NaN</td>\n",
       "      <td>1</td>\n",
       "    </tr>\n",
       "    <tr>\n",
       "      <th>2</th>\n",
       "      <td>Ryan Johnson</td>\n",
       "      <td>42</td>\n",
       "      <td>1.0</td>\n",
       "      <td>NaN</td>\n",
       "      <td>2</td>\n",
       "    </tr>\n",
       "    <tr>\n",
       "      <th>3</th>\n",
       "      <td>Rachel Lee</td>\n",
       "      <td>29</td>\n",
       "      <td>1.0</td>\n",
       "      <td>NaN</td>\n",
       "      <td>1</td>\n",
       "    </tr>\n",
       "    <tr>\n",
       "      <th>4</th>\n",
       "      <td>Andrew Chen</td>\n",
       "      <td>36</td>\n",
       "      <td>1.0</td>\n",
       "      <td>NaN</td>\n",
       "      <td>3</td>\n",
       "    </tr>\n",
       "    <tr>\n",
       "      <th>5</th>\n",
       "      <td>Emily Davis</td>\n",
       "      <td>31</td>\n",
       "      <td>2.0</td>\n",
       "      <td>NaN</td>\n",
       "      <td>2</td>\n",
       "    </tr>\n",
       "    <tr>\n",
       "      <th>6</th>\n",
       "      <td>Jacob Garcia</td>\n",
       "      <td>45</td>\n",
       "      <td>2.0</td>\n",
       "      <td>NaN</td>\n",
       "      <td>1</td>\n",
       "    </tr>\n",
       "    <tr>\n",
       "      <th>7</th>\n",
       "      <td>Olivia Wilson</td>\n",
       "      <td>33</td>\n",
       "      <td>2.0</td>\n",
       "      <td>NaN</td>\n",
       "      <td>3</td>\n",
       "    </tr>\n",
       "    <tr>\n",
       "      <th>8</th>\n",
       "      <td>Michael Nguyen</td>\n",
       "      <td>26</td>\n",
       "      <td>2.0</td>\n",
       "      <td>NaN</td>\n",
       "      <td>2</td>\n",
       "    </tr>\n",
       "    <tr>\n",
       "      <th>9</th>\n",
       "      <td>Sophia Kim</td>\n",
       "      <td>39</td>\n",
       "      <td>NaN</td>\n",
       "      <td>NaN</td>\n",
       "      <td>4</td>\n",
       "    </tr>\n",
       "    <tr>\n",
       "      <th>10</th>\n",
       "      <td>Daniel Hernandez</td>\n",
       "      <td>27</td>\n",
       "      <td>3.0</td>\n",
       "      <td>NaN</td>\n",
       "      <td>5</td>\n",
       "    </tr>\n",
       "  </tbody>\n",
       "</table>\n",
       "</div>"
      ],
      "text/plain": [
       "                Name  Age  Job  isAdmitted  University\n",
       "1      Jessica Brown   35  1.0         NaN           1\n",
       "2       Ryan Johnson   42  1.0         NaN           2\n",
       "3         Rachel Lee   29  1.0         NaN           1\n",
       "4        Andrew Chen   36  1.0         NaN           3\n",
       "5        Emily Davis   31  2.0         NaN           2\n",
       "6       Jacob Garcia   45  2.0         NaN           1\n",
       "7      Olivia Wilson   33  2.0         NaN           3\n",
       "8     Michael Nguyen   26  2.0         NaN           2\n",
       "9         Sophia Kim   39  NaN         NaN           4\n",
       "10  Daniel Hernandez   27  3.0         NaN           5"
      ]
     },
     "execution_count": 14,
     "metadata": {},
     "output_type": "execute_result"
    }
   ],
   "source": [
    "df"
   ]
  },
  {
   "cell_type": "code",
   "execution_count": 15,
   "id": "5eb6a7e5",
   "metadata": {},
   "outputs": [
    {
     "data": {
      "text/html": [
       "<div>\n",
       "<style scoped>\n",
       "    .dataframe tbody tr th:only-of-type {\n",
       "        vertical-align: middle;\n",
       "    }\n",
       "\n",
       "    .dataframe tbody tr th {\n",
       "        vertical-align: top;\n",
       "    }\n",
       "\n",
       "    .dataframe thead th {\n",
       "        text-align: right;\n",
       "    }\n",
       "</style>\n",
       "<table border=\"1\" class=\"dataframe\">\n",
       "  <thead>\n",
       "    <tr style=\"text-align: right;\">\n",
       "      <th></th>\n",
       "      <th>Name</th>\n",
       "      <th>Age</th>\n",
       "      <th>Job</th>\n",
       "      <th>isAdmitted</th>\n",
       "      <th>University</th>\n",
       "    </tr>\n",
       "  </thead>\n",
       "  <tbody>\n",
       "  </tbody>\n",
       "</table>\n",
       "</div>"
      ],
      "text/plain": [
       "Empty DataFrame\n",
       "Columns: [Name, Age, Job, isAdmitted, University]\n",
       "Index: []"
      ]
     },
     "execution_count": 15,
     "metadata": {},
     "output_type": "execute_result"
    }
   ],
   "source": []
  },
  {
   "cell_type": "code",
   "execution_count": null,
   "id": "5948e2fd",
   "metadata": {},
   "outputs": [],
   "source": []
  }
 ],
 "metadata": {
  "kernelspec": {
   "display_name": "Python 3 (ipykernel)",
   "language": "python",
   "name": "python3"
  },
  "language_info": {
   "codemirror_mode": {
    "name": "ipython",
    "version": 3
   },
   "file_extension": ".py",
   "mimetype": "text/x-python",
   "name": "python",
   "nbconvert_exporter": "python",
   "pygments_lexer": "ipython3",
   "version": "3.9.12"
  }
 },
 "nbformat": 4,
 "nbformat_minor": 5
}
