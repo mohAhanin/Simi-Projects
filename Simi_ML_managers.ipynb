{
 "cells": [
  {
   "cell_type": "code",
   "execution_count": 1,
   "id": "94b314d0",
   "metadata": {},
   "outputs": [],
   "source": [
    "import pyodbc"
   ]
  },
  {
   "cell_type": "code",
   "execution_count": 2,
   "id": "159d4cc7",
   "metadata": {},
   "outputs": [],
   "source": [
    "connection=pyodbc.connect(driver='{SQL Server}'\n",
    "                          ,host='DESKTOP-F324UIT\\SQLEXPRESS'\n",
    "                          ,database='MachineLearning'\n",
    "                          ,trusted_connection='true'\n",
    "                          ,user='sa',password=123)"
   ]
  },
  {
   "cell_type": "code",
   "execution_count": 3,
   "id": "a253a796",
   "metadata": {},
   "outputs": [
    {
     "name": "stdout",
     "output_type": "stream",
     "text": [
      "name:\n",
      "ali\n"
     ]
    }
   ],
   "source": [
    "name=input('name:\\n')"
   ]
  },
  {
   "cell_type": "code",
   "execution_count": 4,
   "id": "87cc2815",
   "metadata": {},
   "outputs": [],
   "source": [
    "db=connection.cursor()"
   ]
  },
  {
   "cell_type": "code",
   "execution_count": 5,
   "id": "8378c097",
   "metadata": {},
   "outputs": [],
   "source": [
    "r=db.execute('SElECT *FROM managers WHERE name= ?',[name])"
   ]
  },
  {
   "cell_type": "code",
   "execution_count": 6,
   "id": "cba4b347",
   "metadata": {},
   "outputs": [],
   "source": [
    "r=r.fetchall()\n"
   ]
  },
  {
   "cell_type": "code",
   "execution_count": 7,
   "id": "aa69e68b",
   "metadata": {},
   "outputs": [
    {
     "name": "stdout",
     "output_type": "stream",
     "text": [
      "(8, 'Ali', 'Khaledi', 'akhalidi34@gmail.com')\n"
     ]
    }
   ],
   "source": [
    "for x in r:\n",
    "    print(x)"
   ]
  },
  {
   "cell_type": "code",
   "execution_count": 8,
   "id": "63e9ec11",
   "metadata": {},
   "outputs": [
    {
     "name": "stdout",
     "output_type": "stream",
     "text": [
      "email\n",
      "nazirz@gamil.com\n"
     ]
    }
   ],
   "source": [
    "mail=input('email\\n')"
   ]
  },
  {
   "cell_type": "code",
   "execution_count": 9,
   "id": "50a51ca4",
   "metadata": {},
   "outputs": [],
   "source": [
    "r=db.execute('SELECT * FROM managers WHERE email=?', [mail])\n"
   ]
  },
  {
   "cell_type": "code",
   "execution_count": 10,
   "id": "30e89471",
   "metadata": {},
   "outputs": [],
   "source": [
    "r=r.fetchall()"
   ]
  },
  {
   "cell_type": "code",
   "execution_count": 11,
   "id": "f3430016",
   "metadata": {},
   "outputs": [],
   "source": [
    "for x in r:\n",
    "    print(x)\n",
    "    "
   ]
  }
 ],
 "metadata": {
  "kernelspec": {
   "display_name": "Python 3 (ipykernel)",
   "language": "python",
   "name": "python3"
  },
  "language_info": {
   "codemirror_mode": {
    "name": "ipython",
    "version": 3
   },
   "file_extension": ".py",
   "mimetype": "text/x-python",
   "name": "python",
   "nbconvert_exporter": "python",
   "pygments_lexer": "ipython3",
   "version": "3.9.12"
  }
 },
 "nbformat": 4,
 "nbformat_minor": 5
}
