{
 "cells": [
  {
   "cell_type": "code",
   "execution_count": 1,
   "id": "27ef5cfa",
   "metadata": {},
   "outputs": [],
   "source": [
    "import pandas as pd"
   ]
  },
  {
   "cell_type": "code",
   "execution_count": 2,
   "id": "36d61328",
   "metadata": {},
   "outputs": [],
   "source": [
    "data=pd.read_csv('cars.csv')"
   ]
  },
  {
   "cell_type": "code",
   "execution_count": 3,
   "id": "64c2a094",
   "metadata": {},
   "outputs": [
    {
     "data": {
      "text/html": [
       "<div>\n",
       "<style scoped>\n",
       "    .dataframe tbody tr th:only-of-type {\n",
       "        vertical-align: middle;\n",
       "    }\n",
       "\n",
       "    .dataframe tbody tr th {\n",
       "        vertical-align: top;\n",
       "    }\n",
       "\n",
       "    .dataframe thead th {\n",
       "        text-align: right;\n",
       "    }\n",
       "</style>\n",
       "<table border=\"1\" class=\"dataframe\">\n",
       "  <thead>\n",
       "    <tr style=\"text-align: right;\">\n",
       "      <th></th>\n",
       "      <th>Dimensions.Height</th>\n",
       "      <th>Dimensions.Length</th>\n",
       "      <th>Dimensions.Width</th>\n",
       "      <th>Fuel Information.City mpg</th>\n",
       "      <th>Identification.Make</th>\n",
       "    </tr>\n",
       "  </thead>\n",
       "  <tbody>\n",
       "    <tr>\n",
       "      <th>0</th>\n",
       "      <td>140</td>\n",
       "      <td>143</td>\n",
       "      <td>202</td>\n",
       "      <td>18</td>\n",
       "      <td>Audi</td>\n",
       "    </tr>\n",
       "    <tr>\n",
       "      <th>1</th>\n",
       "      <td>140</td>\n",
       "      <td>143</td>\n",
       "      <td>202</td>\n",
       "      <td>22</td>\n",
       "      <td>Audi</td>\n",
       "    </tr>\n",
       "    <tr>\n",
       "      <th>2</th>\n",
       "      <td>140</td>\n",
       "      <td>143</td>\n",
       "      <td>202</td>\n",
       "      <td>21</td>\n",
       "      <td>Audi</td>\n",
       "    </tr>\n",
       "    <tr>\n",
       "      <th>3</th>\n",
       "      <td>140</td>\n",
       "      <td>143</td>\n",
       "      <td>202</td>\n",
       "      <td>21</td>\n",
       "      <td>Audi</td>\n",
       "    </tr>\n",
       "    <tr>\n",
       "      <th>4</th>\n",
       "      <td>140</td>\n",
       "      <td>143</td>\n",
       "      <td>202</td>\n",
       "      <td>21</td>\n",
       "      <td>Audi</td>\n",
       "    </tr>\n",
       "    <tr>\n",
       "      <th>...</th>\n",
       "      <td>...</td>\n",
       "      <td>...</td>\n",
       "      <td>...</td>\n",
       "      <td>...</td>\n",
       "      <td>...</td>\n",
       "    </tr>\n",
       "    <tr>\n",
       "      <th>391</th>\n",
       "      <td>137</td>\n",
       "      <td>190</td>\n",
       "      <td>62</td>\n",
       "      <td>21</td>\n",
       "      <td>Volkswagen</td>\n",
       "    </tr>\n",
       "    <tr>\n",
       "      <th>392</th>\n",
       "      <td>137</td>\n",
       "      <td>190</td>\n",
       "      <td>62</td>\n",
       "      <td>18</td>\n",
       "      <td>Volkswagen</td>\n",
       "    </tr>\n",
       "    <tr>\n",
       "      <th>393</th>\n",
       "      <td>137</td>\n",
       "      <td>190</td>\n",
       "      <td>62</td>\n",
       "      <td>17</td>\n",
       "      <td>Volkswagen</td>\n",
       "    </tr>\n",
       "    <tr>\n",
       "      <th>394</th>\n",
       "      <td>179</td>\n",
       "      <td>52</td>\n",
       "      <td>237</td>\n",
       "      <td>16</td>\n",
       "      <td>Audi</td>\n",
       "    </tr>\n",
       "    <tr>\n",
       "      <th>395</th>\n",
       "      <td>179</td>\n",
       "      <td>52</td>\n",
       "      <td>220</td>\n",
       "      <td>18</td>\n",
       "      <td>Audi</td>\n",
       "    </tr>\n",
       "  </tbody>\n",
       "</table>\n",
       "<p>396 rows × 5 columns</p>\n",
       "</div>"
      ],
      "text/plain": [
       "     Dimensions.Height  Dimensions.Length  Dimensions.Width  \\\n",
       "0                  140                143               202   \n",
       "1                  140                143               202   \n",
       "2                  140                143               202   \n",
       "3                  140                143               202   \n",
       "4                  140                143               202   \n",
       "..                 ...                ...               ...   \n",
       "391                137                190                62   \n",
       "392                137                190                62   \n",
       "393                137                190                62   \n",
       "394                179                 52               237   \n",
       "395                179                 52               220   \n",
       "\n",
       "     Fuel Information.City mpg Identification.Make  \n",
       "0                           18                Audi  \n",
       "1                           22                Audi  \n",
       "2                           21                Audi  \n",
       "3                           21                Audi  \n",
       "4                           21                Audi  \n",
       "..                         ...                 ...  \n",
       "391                         21          Volkswagen  \n",
       "392                         18          Volkswagen  \n",
       "393                         17          Volkswagen  \n",
       "394                         16                Audi  \n",
       "395                         18                Audi  \n",
       "\n",
       "[396 rows x 5 columns]"
      ]
     },
     "execution_count": 3,
     "metadata": {},
     "output_type": "execute_result"
    }
   ],
   "source": [
    "df=pd.DataFrame(data)\n",
    "df.head(-3)"
   ]
  },
  {
   "cell_type": "code",
   "execution_count": 51,
   "id": "5f824bf4",
   "metadata": {
    "scrolled": false
   },
   "outputs": [
    {
     "data": {
      "text/html": [
       "<div>\n",
       "<style scoped>\n",
       "    .dataframe tbody tr th:only-of-type {\n",
       "        vertical-align: middle;\n",
       "    }\n",
       "\n",
       "    .dataframe tbody tr th {\n",
       "        vertical-align: top;\n",
       "    }\n",
       "\n",
       "    .dataframe thead th {\n",
       "        text-align: right;\n",
       "    }\n",
       "</style>\n",
       "<table border=\"1\" class=\"dataframe\">\n",
       "  <thead>\n",
       "    <tr style=\"text-align: right;\">\n",
       "      <th></th>\n",
       "      <th>Dimensions.Height</th>\n",
       "      <th>Dimensions.Length</th>\n",
       "      <th>Dimensions.Width</th>\n",
       "      <th>Fuel Information.City mpg</th>\n",
       "    </tr>\n",
       "  </thead>\n",
       "  <tbody>\n",
       "    <tr>\n",
       "      <th>count</th>\n",
       "      <td>399.000000</td>\n",
       "      <td>399.000000</td>\n",
       "      <td>399.000000</td>\n",
       "      <td>399.000000</td>\n",
       "    </tr>\n",
       "    <tr>\n",
       "      <th>mean</th>\n",
       "      <td>143.378446</td>\n",
       "      <td>136.889724</td>\n",
       "      <td>144.872180</td>\n",
       "      <td>19.243108</td>\n",
       "    </tr>\n",
       "    <tr>\n",
       "      <th>std</th>\n",
       "      <td>67.221674</td>\n",
       "      <td>74.788935</td>\n",
       "      <td>76.026749</td>\n",
       "      <td>4.899343</td>\n",
       "    </tr>\n",
       "    <tr>\n",
       "      <th>min</th>\n",
       "      <td>1.000000</td>\n",
       "      <td>7.000000</td>\n",
       "      <td>3.000000</td>\n",
       "      <td>8.000000</td>\n",
       "    </tr>\n",
       "    <tr>\n",
       "      <th>25%</th>\n",
       "      <td>92.000000</td>\n",
       "      <td>66.000000</td>\n",
       "      <td>62.000000</td>\n",
       "      <td>17.000000</td>\n",
       "    </tr>\n",
       "    <tr>\n",
       "      <th>50%</th>\n",
       "      <td>172.000000</td>\n",
       "      <td>155.000000</td>\n",
       "      <td>160.000000</td>\n",
       "      <td>20.000000</td>\n",
       "    </tr>\n",
       "    <tr>\n",
       "      <th>75%</th>\n",
       "      <td>193.000000</td>\n",
       "      <td>202.000000</td>\n",
       "      <td>222.000000</td>\n",
       "      <td>22.000000</td>\n",
       "    </tr>\n",
       "    <tr>\n",
       "      <th>max</th>\n",
       "      <td>247.000000</td>\n",
       "      <td>243.000000</td>\n",
       "      <td>248.000000</td>\n",
       "      <td>38.000000</td>\n",
       "    </tr>\n",
       "  </tbody>\n",
       "</table>\n",
       "</div>"
      ],
      "text/plain": [
       "       Dimensions.Height  Dimensions.Length  Dimensions.Width  \\\n",
       "count         399.000000         399.000000        399.000000   \n",
       "mean          143.378446         136.889724        144.872180   \n",
       "std            67.221674          74.788935         76.026749   \n",
       "min             1.000000           7.000000          3.000000   \n",
       "25%            92.000000          66.000000         62.000000   \n",
       "50%           172.000000         155.000000        160.000000   \n",
       "75%           193.000000         202.000000        222.000000   \n",
       "max           247.000000         243.000000        248.000000   \n",
       "\n",
       "       Fuel Information.City mpg  \n",
       "count                 399.000000  \n",
       "mean                   19.243108  \n",
       "std                     4.899343  \n",
       "min                     8.000000  \n",
       "25%                    17.000000  \n",
       "50%                    20.000000  \n",
       "75%                    22.000000  \n",
       "max                    38.000000  "
      ]
     },
     "execution_count": 51,
     "metadata": {},
     "output_type": "execute_result"
    }
   ],
   "source": [
    "df.describe()"
   ]
  },
  {
   "cell_type": "code",
   "execution_count": 53,
   "id": "64d2c872",
   "metadata": {},
   "outputs": [
    {
     "name": "stdout",
     "output_type": "stream",
     "text": [
      "<class 'pandas.core.frame.DataFrame'>\n",
      "RangeIndex: 399 entries, 0 to 398\n",
      "Data columns (total 5 columns):\n",
      " #   Column                     Non-Null Count  Dtype \n",
      "---  ------                     --------------  ----- \n",
      " 0   Dimensions.Height          399 non-null    int64 \n",
      " 1   Dimensions.Length          399 non-null    int64 \n",
      " 2   Dimensions.Width           399 non-null    int64 \n",
      " 3   Fuel Information.City mpg  399 non-null    int64 \n",
      " 4   Identification.Make        399 non-null    object\n",
      "dtypes: int64(4), object(1)\n",
      "memory usage: 15.7+ KB\n"
     ]
    }
   ],
   "source": [
    "df.info()"
   ]
  },
  {
   "cell_type": "code",
   "execution_count": 54,
   "id": "deff619e",
   "metadata": {},
   "outputs": [
    {
     "data": {
      "text/plain": [
       "Dimensions.Height            0\n",
       "Dimensions.Length            0\n",
       "Dimensions.Width             0\n",
       "Fuel Information.City mpg    0\n",
       "Identification.Make          0\n",
       "dtype: int64"
      ]
     },
     "execution_count": 54,
     "metadata": {},
     "output_type": "execute_result"
    }
   ],
   "source": [
    "df.isnull().sum()"
   ]
  },
  {
   "cell_type": "code",
   "execution_count": 5,
   "id": "2c3d4ca5",
   "metadata": {},
   "outputs": [
    {
     "data": {
      "text/plain": [
       "<seaborn.axisgrid.PairGrid at 0x1ea8c89e1c0>"
      ]
     },
     "execution_count": 5,
     "metadata": {},
     "output_type": "execute_result"
    },
    {
     "data": {
      "image/png": "[encoded data removed]",
      "text/plain": [
       "<Figure size 720x720 with 20 Axes>"
      ]
     },
     "metadata": {
      "needs_background": "light"
     },
     "output_type": "display_data"
    }
   ],
   "source": [
    "import seaborn as sns\n",
    "sns.pairplot(df)"
   ]
  },
  {
   "cell_type": "code",
   "execution_count": 6,
   "id": "e2dc5dca",
   "metadata": {},
   "outputs": [
    {
     "data": {
      "text/html": [
       "<div>\n",
       "<style scoped>\n",
       "    .dataframe tbody tr th:only-of-type {\n",
       "        vertical-align: middle;\n",
       "    }\n",
       "\n",
       "    .dataframe tbody tr th {\n",
       "        vertical-align: top;\n",
       "    }\n",
       "\n",
       "    .dataframe thead th {\n",
       "        text-align: right;\n",
       "    }\n",
       "</style>\n",
       "<table border=\"1\" class=\"dataframe\">\n",
       "  <thead>\n",
       "    <tr style=\"text-align: right;\">\n",
       "      <th></th>\n",
       "      <th>Dimensions.Height</th>\n",
       "      <th>Dimensions.Length</th>\n",
       "      <th>Dimensions.Width</th>\n",
       "      <th>Fuel Information.City mpg</th>\n",
       "    </tr>\n",
       "  </thead>\n",
       "  <tbody>\n",
       "    <tr>\n",
       "      <th>0</th>\n",
       "      <td>140</td>\n",
       "      <td>143</td>\n",
       "      <td>202</td>\n",
       "      <td>18</td>\n",
       "    </tr>\n",
       "    <tr>\n",
       "      <th>1</th>\n",
       "      <td>140</td>\n",
       "      <td>143</td>\n",
       "      <td>202</td>\n",
       "      <td>22</td>\n",
       "    </tr>\n",
       "    <tr>\n",
       "      <th>2</th>\n",
       "      <td>140</td>\n",
       "      <td>143</td>\n",
       "      <td>202</td>\n",
       "      <td>21</td>\n",
       "    </tr>\n",
       "    <tr>\n",
       "      <th>3</th>\n",
       "      <td>140</td>\n",
       "      <td>143</td>\n",
       "      <td>202</td>\n",
       "      <td>21</td>\n",
       "    </tr>\n",
       "    <tr>\n",
       "      <th>4</th>\n",
       "      <td>140</td>\n",
       "      <td>143</td>\n",
       "      <td>202</td>\n",
       "      <td>21</td>\n",
       "    </tr>\n",
       "    <tr>\n",
       "      <th>5</th>\n",
       "      <td>91</td>\n",
       "      <td>17</td>\n",
       "      <td>62</td>\n",
       "      <td>16</td>\n",
       "    </tr>\n",
       "    <tr>\n",
       "      <th>6</th>\n",
       "      <td>91</td>\n",
       "      <td>17</td>\n",
       "      <td>62</td>\n",
       "      <td>17</td>\n",
       "    </tr>\n",
       "    <tr>\n",
       "      <th>7</th>\n",
       "      <td>201</td>\n",
       "      <td>221</td>\n",
       "      <td>191</td>\n",
       "      <td>13</td>\n",
       "    </tr>\n",
       "    <tr>\n",
       "      <th>8</th>\n",
       "      <td>201</td>\n",
       "      <td>221</td>\n",
       "      <td>191</td>\n",
       "      <td>14</td>\n",
       "    </tr>\n",
       "    <tr>\n",
       "      <th>9</th>\n",
       "      <td>147</td>\n",
       "      <td>96</td>\n",
       "      <td>34</td>\n",
       "      <td>22</td>\n",
       "    </tr>\n",
       "  </tbody>\n",
       "</table>\n",
       "</div>"
      ],
      "text/plain": [
       "   Dimensions.Height  Dimensions.Length  Dimensions.Width  \\\n",
       "0                140                143               202   \n",
       "1                140                143               202   \n",
       "2                140                143               202   \n",
       "3                140                143               202   \n",
       "4                140                143               202   \n",
       "5                 91                 17                62   \n",
       "6                 91                 17                62   \n",
       "7                201                221               191   \n",
       "8                201                221               191   \n",
       "9                147                 96                34   \n",
       "\n",
       "   Fuel Information.City mpg  \n",
       "0                         18  \n",
       "1                         22  \n",
       "2                         21  \n",
       "3                         21  \n",
       "4                         21  \n",
       "5                         16  \n",
       "6                         17  \n",
       "7                         13  \n",
       "8                         14  \n",
       "9                         22  "
      ]
     },
     "execution_count": 6,
     "metadata": {},
     "output_type": "execute_result"
    }
   ],
   "source": [
    "x=df.iloc[:,:4]\n",
    "x.head(10)"
   ]
  },
  {
   "cell_type": "code",
   "execution_count": 7,
   "id": "cef32def",
   "metadata": {},
   "outputs": [
    {
     "data": {
      "text/plain": [
       "0            Audi\n",
       "1            Audi\n",
       "2            Audi\n",
       "3            Audi\n",
       "4            Audi\n",
       "          ...    \n",
       "391    Volkswagen\n",
       "392    Volkswagen\n",
       "393    Volkswagen\n",
       "394          Audi\n",
       "395          Audi\n",
       "Name: Identification.Make, Length: 396, dtype: object"
      ]
     },
     "execution_count": 7,
     "metadata": {},
     "output_type": "execute_result"
    }
   ],
   "source": [
    "y=df['Identification.Make']\n",
    "y.head(-3)"
   ]
  },
  {
   "cell_type": "code",
   "execution_count": 8,
   "id": "4ce8874f",
   "metadata": {},
   "outputs": [
    {
     "name": "stdout",
     "output_type": "stream",
     "text": [
      "Features : (399, 4)\n",
      "*********\n",
      "Labels : (399,)\n"
     ]
    }
   ],
   "source": [
    "print(f'Features :',x.shape)\n",
    "print('*********')\n",
    "print(f'Labels :',y.shape)"
   ]
  },
  {
   "cell_type": "markdown",
   "id": "aeaaf3e0",
   "metadata": {},
   "source": [
    "# Naive Bayes Gaussian"
   ]
  },
  {
   "cell_type": "code",
   "execution_count": 9,
   "id": "cb646488",
   "metadata": {},
   "outputs": [],
   "source": [
    "from sklearn.model_selection import train_test_split\n",
    "xtrain, xtest, ytrain, ytest = train_test_split(x,y,test_size=.33)\n",
    "from sklearn.naive_bayes import GaussianNB"
   ]
  },
  {
   "cell_type": "code",
   "execution_count": 10,
   "id": "92f18088",
   "metadata": {},
   "outputs": [],
   "source": [
    "gaussian=GaussianNB()"
   ]
  },
  {
   "cell_type": "code",
   "execution_count": 11,
   "id": "bbdda561",
   "metadata": {},
   "outputs": [
    {
     "data": {
      "text/plain": [
       "GaussianNB()"
      ]
     },
     "execution_count": 11,
     "metadata": {},
     "output_type": "execute_result"
    }
   ],
   "source": [
    "gaussian.fit(xtrain,ytrain)"
   ]
  },
  {
   "cell_type": "code",
   "execution_count": 12,
   "id": "c6986cf0",
   "metadata": {},
   "outputs": [],
   "source": [
    "# gaussian.predict([])"
   ]
  },
  {
   "cell_type": "code",
   "execution_count": 13,
   "id": "b3e1b141",
   "metadata": {},
   "outputs": [
    {
     "data": {
      "text/html": [
       "<div>\n",
       "<style scoped>\n",
       "    .dataframe tbody tr th:only-of-type {\n",
       "        vertical-align: middle;\n",
       "    }\n",
       "\n",
       "    .dataframe tbody tr th {\n",
       "        vertical-align: top;\n",
       "    }\n",
       "\n",
       "    .dataframe thead th {\n",
       "        text-align: right;\n",
       "    }\n",
       "</style>\n",
       "<table border=\"1\" class=\"dataframe\">\n",
       "  <thead>\n",
       "    <tr style=\"text-align: right;\">\n",
       "      <th></th>\n",
       "      <th>Dimensions.Height</th>\n",
       "      <th>Dimensions.Length</th>\n",
       "      <th>Dimensions.Width</th>\n",
       "      <th>Fuel Information.City mpg</th>\n",
       "    </tr>\n",
       "  </thead>\n",
       "  <tbody>\n",
       "    <tr>\n",
       "      <th>45</th>\n",
       "      <td>167</td>\n",
       "      <td>168</td>\n",
       "      <td>247</td>\n",
       "      <td>21</td>\n",
       "    </tr>\n",
       "    <tr>\n",
       "      <th>31</th>\n",
       "      <td>22</td>\n",
       "      <td>60</td>\n",
       "      <td>219</td>\n",
       "      <td>8</td>\n",
       "    </tr>\n",
       "    <tr>\n",
       "      <th>227</th>\n",
       "      <td>247</td>\n",
       "      <td>200</td>\n",
       "      <td>105</td>\n",
       "      <td>15</td>\n",
       "    </tr>\n",
       "    <tr>\n",
       "      <th>194</th>\n",
       "      <td>208</td>\n",
       "      <td>93</td>\n",
       "      <td>186</td>\n",
       "      <td>25</td>\n",
       "    </tr>\n",
       "    <tr>\n",
       "      <th>339</th>\n",
       "      <td>224</td>\n",
       "      <td>177</td>\n",
       "      <td>118</td>\n",
       "      <td>18</td>\n",
       "    </tr>\n",
       "    <tr>\n",
       "      <th>...</th>\n",
       "      <td>...</td>\n",
       "      <td>...</td>\n",
       "      <td>...</td>\n",
       "      <td>...</td>\n",
       "    </tr>\n",
       "    <tr>\n",
       "      <th>276</th>\n",
       "      <td>102</td>\n",
       "      <td>202</td>\n",
       "      <td>196</td>\n",
       "      <td>11</td>\n",
       "    </tr>\n",
       "    <tr>\n",
       "      <th>289</th>\n",
       "      <td>172</td>\n",
       "      <td>19</td>\n",
       "      <td>242</td>\n",
       "      <td>23</td>\n",
       "    </tr>\n",
       "    <tr>\n",
       "      <th>91</th>\n",
       "      <td>247</td>\n",
       "      <td>200</td>\n",
       "      <td>105</td>\n",
       "      <td>15</td>\n",
       "    </tr>\n",
       "    <tr>\n",
       "      <th>364</th>\n",
       "      <td>13</td>\n",
       "      <td>14</td>\n",
       "      <td>229</td>\n",
       "      <td>26</td>\n",
       "    </tr>\n",
       "    <tr>\n",
       "      <th>316</th>\n",
       "      <td>177</td>\n",
       "      <td>202</td>\n",
       "      <td>244</td>\n",
       "      <td>21</td>\n",
       "    </tr>\n",
       "  </tbody>\n",
       "</table>\n",
       "<p>126 rows × 4 columns</p>\n",
       "</div>"
      ],
      "text/plain": [
       "     Dimensions.Height  Dimensions.Length  Dimensions.Width  \\\n",
       "45                 167                168               247   \n",
       "31                  22                 60               219   \n",
       "227                247                200               105   \n",
       "194                208                 93               186   \n",
       "339                224                177               118   \n",
       "..                 ...                ...               ...   \n",
       "276                102                202               196   \n",
       "289                172                 19               242   \n",
       "91                 247                200               105   \n",
       "364                 13                 14               229   \n",
       "316                177                202               244   \n",
       "\n",
       "     Fuel Information.City mpg  \n",
       "45                          21  \n",
       "31                           8  \n",
       "227                         15  \n",
       "194                         25  \n",
       "339                         18  \n",
       "..                         ...  \n",
       "276                         11  \n",
       "289                         23  \n",
       "91                          15  \n",
       "364                         26  \n",
       "316                         21  \n",
       "\n",
       "[126 rows x 4 columns]"
      ]
     },
     "execution_count": 13,
     "metadata": {},
     "output_type": "execute_result"
    }
   ],
   "source": [
    "xtest.head(-6)"
   ]
  },
  {
   "cell_type": "code",
   "execution_count": 14,
   "id": "d62e3acb",
   "metadata": {},
   "outputs": [
    {
     "data": {
      "text/plain": [
       "45          Volvo\n",
       "31      Chevrolet\n",
       "227         Volvo\n",
       "194          Ford\n",
       "339        Toyota\n",
       "          ...    \n",
       "68          Volvo\n",
       "182        Toyota\n",
       "220        Toyota\n",
       "281    Volkswagen\n",
       "325        Toyota\n",
       "Name: Identification.Make, Length: 132, dtype: object"
      ]
     },
     "execution_count": 14,
     "metadata": {},
     "output_type": "execute_result"
    }
   ],
   "source": [
    "ytest"
   ]
  },
  {
   "cell_type": "code",
   "execution_count": 15,
   "id": "64233174",
   "metadata": {},
   "outputs": [],
   "source": [
    "# pr=[119,230,44,19]\n",
    "# p=gaussian.predict([pr])\n",
    "# print(p)"
   ]
  },
  {
   "cell_type": "code",
   "execution_count": 16,
   "id": "46bcf0ec",
   "metadata": {},
   "outputs": [
    {
     "name": "stdout",
     "output_type": "stream",
     "text": [
      "Naive Bayes score:  0.49242424242424243\n"
     ]
    }
   ],
   "source": [
    "print(\"Naive Bayes score: \",gaussian.score(xtest,ytest))"
   ]
  },
  {
   "cell_type": "markdown",
   "id": "9fe68268",
   "metadata": {},
   "source": [
    "# Decision Tree"
   ]
  },
  {
   "cell_type": "markdown",
   "id": "fd3f7171",
   "metadata": {},
   "source": [
    "criterion=gini"
   ]
  },
  {
   "cell_type": "code",
   "execution_count": 17,
   "id": "ce4a2799",
   "metadata": {},
   "outputs": [],
   "source": [
    "from sklearn.tree import DecisionTreeClassifier"
   ]
  },
  {
   "cell_type": "code",
   "execution_count": 18,
   "id": "1203b48a",
   "metadata": {},
   "outputs": [
    {
     "data": {
      "text/plain": [
       "DecisionTreeClassifier(max_depth=40, random_state=0)"
      ]
     },
     "execution_count": 18,
     "metadata": {},
     "output_type": "execute_result"
    }
   ],
   "source": [
    "model=DecisionTreeClassifier(criterion='gini',max_depth=40,random_state=0)\n",
    "model.fit(xtrain,ytrain)"
   ]
  },
  {
   "cell_type": "code",
   "execution_count": 19,
   "id": "98fa22e4",
   "metadata": {},
   "outputs": [],
   "source": [
    "y_model_pred=model.predict(xtest)"
   ]
  },
  {
   "cell_type": "code",
   "execution_count": 20,
   "id": "21293389",
   "metadata": {},
   "outputs": [
    {
     "name": "stdout",
     "output_type": "stream",
     "text": [
      "model accuracy score with criterion gini Index : 0.9545\n"
     ]
    }
   ],
   "source": [
    "from sklearn.metrics import accuracy_score\n",
    "print('model accuracy score with criterion gini Index : {0:0.4f}'.format(accuracy_score(ytest,y_model_pred)))"
   ]
  },
  {
   "cell_type": "code",
   "execution_count": 21,
   "id": "e57b4737",
   "metadata": {},
   "outputs": [],
   "source": [
    "#compare the train set and test set accuracy"
   ]
  },
  {
   "cell_type": "code",
   "execution_count": 22,
   "id": "b3dbf19d",
   "metadata": {},
   "outputs": [
    {
     "data": {
      "text/plain": [
       "array(['Toyota', 'Ford', 'Audi', 'Volvo', 'Volkswagen', 'Honda', 'Ford',\n",
       "       'Nissan', 'Volkswagen', 'Volkswagen', 'Audi', 'Toyota', 'Nissan',\n",
       "       'Volvo', 'Volvo', 'Toyota', 'Bentley', 'Audi', 'BMW', 'Toyota',\n",
       "       'Volkswagen', 'Honda', 'Honda', 'Volvo', 'Toyota', 'Toyota',\n",
       "       'Audi', 'Toyota', 'Nissan', 'Volvo', 'Nissan', 'Audi', 'Nissan',\n",
       "       'Chevrolet', 'Ford', 'Volvo', 'Volvo', 'Chevrolet', 'Toyota',\n",
       "       'Nissan', 'Toyota', 'Volvo', 'Chevrolet', 'Rolls-Royce', 'Maybach',\n",
       "       'Toyota', 'Honda', 'Bentley', 'Maybach', 'Toyota', 'Ford',\n",
       "       'Toyota', 'Audi', 'Volvo', 'Toyota', 'Nissan', 'Volkswagen',\n",
       "       'Ford', 'Honda', 'Chevrolet', 'Toyota', 'Nissan', 'Ford',\n",
       "       'Bentley', 'Ford', 'Audi', 'Rolls-Royce', 'Ford', 'Volvo', 'Volvo',\n",
       "       'Bentley', 'Volkswagen', 'Honda', 'Nissan', 'Ford', 'Ford',\n",
       "       'Toyota', 'Bentley', 'Ford', 'Nissan', 'Nissan', 'Chevrolet',\n",
       "       'Volkswagen', 'Nissan', 'Toyota', 'Volvo', 'Honda', 'Volvo',\n",
       "       'Volvo', 'Ford', 'Nissan', 'Volkswagen', 'Volvo', 'Honda',\n",
       "       'Volkswagen', 'Nissan', 'Toyota', 'Maybach', 'Volvo', 'Chevrolet',\n",
       "       'Toyota', 'Toyota', 'Volvo', 'Chevrolet', 'Volkswagen', 'Toyota',\n",
       "       'Bentley', 'Rolls-Royce', 'Bentley', 'Rolls-Royce', 'Volvo',\n",
       "       'Honda', 'Volkswagen', 'Bentley', 'Volvo', 'Bentley', 'Honda',\n",
       "       'Toyota', 'Audi', 'Nissan', 'Audi', 'Toyota', 'Toyota', 'Audi',\n",
       "       'Chevrolet', 'Volkswagen', 'Maybach', 'Chevrolet', 'Volkswagen',\n",
       "       'Volkswagen', 'Rolls-Royce', 'Maybach', 'Volvo', 'Audi', 'Volvo',\n",
       "       'Toyota', 'Volvo', 'Nissan', 'Audi', 'Ford', 'Audi', 'Toyota',\n",
       "       'Toyota', 'Maybach', 'Volkswagen', 'Toyota', 'Honda', 'Toyota',\n",
       "       'Toyota', 'Volkswagen', 'Acura', 'Chevrolet', 'Volkswagen', 'BMW',\n",
       "       'Honda', 'Bentley', 'Toyota', 'Nissan', 'Bentley', 'Ford', 'Volvo',\n",
       "       'Volvo', 'Chevrolet', 'Volkswagen', 'Volkswagen', 'Volvo',\n",
       "       'Rolls-Royce', 'Ford', 'Chevrolet', 'Audi', 'Audi', 'Ford',\n",
       "       'Volkswagen', 'Toyota', 'Bentley', 'Toyota', 'Chevrolet',\n",
       "       'Chevrolet', 'Toyota', 'Volvo', 'Toyota', 'Volkswagen', 'Toyota',\n",
       "       'Honda', 'Volvo', 'Toyota', 'Toyota', 'Honda', 'Audi', 'Toyota',\n",
       "       'Chevrolet', 'Honda', 'Volkswagen', 'Honda', 'Nissan', 'Honda',\n",
       "       'Honda', 'Honda', 'Toyota', 'Bentley', 'Audi', 'Volvo', 'Nissan',\n",
       "       'Ford', 'Audi', 'Ford', 'Toyota', 'Toyota', 'Maybach', 'Ford',\n",
       "       'Chevrolet', 'Nissan', 'Toyota', 'Ford', 'Volkswagen', 'Nissan',\n",
       "       'Toyota', 'Volkswagen', 'Honda', 'Volvo', 'Nissan', 'Toyota',\n",
       "       'Toyota', 'Honda', 'Toyota', 'Chevrolet', 'Bentley', 'Toyota',\n",
       "       'Volvo', 'Honda', 'Audi', 'Toyota', 'Chevrolet', 'Volkswagen',\n",
       "       'Volvo', 'Volvo', 'Nissan', 'Chevrolet', 'Nissan', 'Maybach',\n",
       "       'Audi', 'Ford', 'Audi', 'Toyota', 'Chevrolet', 'Nissan', 'Ford',\n",
       "       'Volvo', 'Acura', 'Toyota', 'Toyota', 'Ford', 'Nissan', 'Bentley',\n",
       "       'Audi', 'Honda', 'Toyota', 'Audi', 'BMW', 'Volkswagen',\n",
       "       'Chevrolet', 'Audi', 'Volvo', 'Audi', 'Audi', 'Audi', 'Chevrolet'],\n",
       "      dtype=object)"
      ]
     },
     "execution_count": 22,
     "metadata": {},
     "output_type": "execute_result"
    }
   ],
   "source": [
    "y_pred_train_model=model.predict(xtrain)\n",
    "y_pred_train_model"
   ]
  },
  {
   "cell_type": "code",
   "execution_count": 23,
   "id": "29f59c62",
   "metadata": {},
   "outputs": [
    {
     "name": "stdout",
     "output_type": "stream",
     "text": [
      "Training-set accuracy score: 1.0000\n"
     ]
    }
   ],
   "source": [
    "print('Training-set accuracy score: {0:0.4f}'. format(accuracy_score(ytrain, y_pred_train_model)))"
   ]
  },
  {
   "cell_type": "code",
   "execution_count": 24,
   "id": "3c8701fe",
   "metadata": {},
   "outputs": [
    {
     "name": "stdout",
     "output_type": "stream",
     "text": [
      "Training set score: 1.0000\n",
      "Test set score: 0.9545\n"
     ]
    }
   ],
   "source": [
    "print('Training set score: {:.4f}'.format(model.score(xtrain, ytrain)))\n",
    "\n",
    "print('Test set score: {:.4f}'.format(model.score(xtest, ytest)))"
   ]
  },
  {
   "cell_type": "code",
   "execution_count": 25,
   "id": "be9b11fd",
   "metadata": {},
   "outputs": [],
   "source": [
    "import matplotlib.pyplot as plt"
   ]
  },
  {
   "cell_type": "code",
   "execution_count": 26,
   "id": "34be3f96",
   "metadata": {},
   "outputs": [
    {
     "data": {
      "text/plain": [
       "[Text(0.6674510542168675, 0.9583333333333334, 'X[2] <= 241.0\\ngini = 0.89\\nsamples = 267\\nvalue = [2, 27, 3, 15, 22, 23, 23, 8, 26, 6, 52, 26, 34]'),\n",
       " Text(0.46893825301204817, 0.875, 'X[3] <= 23.5\\ngini = 0.88\\nsamples = 237\\nvalue = [2, 24, 3, 15, 22, 23, 23, 8, 26, 6, 52, 3, 30]'),\n",
       " Text(0.2164909638554217, 0.7916666666666666, 'X[3] <= 11.5\\ngini = 0.873\\nsamples = 197\\nvalue = [2, 24, 3, 15, 17, 0, 23, 8, 25, 6, 41, 3, 30]'),\n",
       " Text(0.04819277108433735, 0.7083333333333334, 'X[2] <= 186.5\\ngini = 0.661\\nsamples = 29\\nvalue = [0, 0, 0, 14, 3, 0, 0, 8, 0, 4, 0, 0, 0]'),\n",
       " Text(0.024096385542168676, 0.625, 'gini = 0.0\\nsamples = 14\\nvalue = [0, 0, 0, 14, 0, 0, 0, 0, 0, 0, 0, 0, 0]'),\n",
       " Text(0.07228915662650602, 0.625, 'X[2] <= 191.5\\ngini = 0.604\\nsamples = 15\\nvalue = [0, 0, 0, 0, 3, 0, 0, 8, 0, 4, 0, 0, 0]'),\n",
       " Text(0.04819277108433735, 0.5416666666666666, 'gini = 0.0\\nsamples = 8\\nvalue = [0, 0, 0, 0, 0, 0, 0, 8, 0, 0, 0, 0, 0]'),\n",
       " Text(0.0963855421686747, 0.5416666666666666, 'X[3] <= 10.5\\ngini = 0.49\\nsamples = 7\\nvalue = [0, 0, 0, 0, 3, 0, 0, 0, 0, 4, 0, 0, 0]'),\n",
       " Text(0.07228915662650602, 0.4583333333333333, 'gini = 0.0\\nsamples = 3\\nvalue = [0, 0, 0, 0, 3, 0, 0, 0, 0, 0, 0, 0, 0]'),\n",
       " Text(0.12048192771084337, 0.4583333333333333, 'gini = 0.0\\nsamples = 4\\nvalue = [0, 0, 0, 0, 0, 0, 0, 0, 0, 4, 0, 0, 0]'),\n",
       " Text(0.38478915662650603, 0.7083333333333334, 'X[0] <= 55.5\\ngini = 0.839\\nsamples = 168\\nvalue = [2, 24, 3, 1, 14, 0, 23, 0, 25, 2, 41, 3, 30]'),\n",
       " Text(0.1686746987951807, 0.625, 'X[2] <= 85.0\\ngini = 0.559\\nsamples = 34\\nvalue = [0, 0, 0, 0, 1, 0, 0, 0, 19, 2, 12, 0, 0]'),\n",
       " Text(0.14457831325301204, 0.5416666666666666, 'gini = 0.0\\nsamples = 19\\nvalue = [0, 0, 0, 0, 0, 0, 0, 0, 19, 0, 0, 0, 0]'),\n",
       " Text(0.1927710843373494, 0.5416666666666666, 'X[3] <= 14.0\\ngini = 0.338\\nsamples = 15\\nvalue = [0, 0, 0, 0, 1, 0, 0, 0, 0, 2, 12, 0, 0]'),\n",
       " Text(0.1686746987951807, 0.4583333333333333, 'X[0] <= 18.5\\ngini = 0.444\\nsamples = 3\\nvalue = [0, 0, 0, 0, 1, 0, 0, 0, 0, 2, 0, 0, 0]'),\n",
       " Text(0.14457831325301204, 0.375, 'gini = 0.0\\nsamples = 2\\nvalue = [0, 0, 0, 0, 0, 0, 0, 0, 0, 2, 0, 0, 0]'),\n",
       " Text(0.1927710843373494, 0.375, 'gini = 0.0\\nsamples = 1\\nvalue = [0, 0, 0, 0, 1, 0, 0, 0, 0, 0, 0, 0, 0]'),\n",
       " Text(0.21686746987951808, 0.4583333333333333, 'gini = 0.0\\nsamples = 12\\nvalue = [0, 0, 0, 0, 0, 0, 0, 0, 0, 0, 12, 0, 0]'),\n",
       " Text(0.6009036144578314, 0.625, 'X[2] <= 180.0\\ngini = 0.829\\nsamples = 134\\nvalue = [2, 24, 3, 1, 13, 0, 23, 0, 6, 0, 29, 3, 30]'),\n",
       " Text(0.4246987951807229, 0.5416666666666666, 'X[1] <= 144.5\\ngini = 0.759\\nsamples = 88\\nvalue = [2, 7, 0, 1, 0, 0, 23, 0, 2, 0, 28, 3, 22]'),\n",
       " Text(0.2891566265060241, 0.4583333333333333, 'X[1] <= 64.5\\ngini = 0.673\\nsamples = 36\\nvalue = [2, 7, 0, 0, 0, 0, 17, 0, 0, 0, 1, 0, 9]'),\n",
       " Text(0.24096385542168675, 0.375, 'X[0] <= 106.0\\ngini = 0.551\\nsamples = 15\\nvalue = [2, 4, 0, 0, 0, 0, 0, 0, 0, 0, 0, 0, 9]'),\n",
       " Text(0.21686746987951808, 0.2916666666666667, 'gini = 0.0\\nsamples = 3\\nvalue = [0, 3, 0, 0, 0, 0, 0, 0, 0, 0, 0, 0, 0]'),\n",
       " Text(0.26506024096385544, 0.2916666666666667, 'X[1] <= 40.0\\ngini = 0.403\\nsamples = 12\\nvalue = [2, 1, 0, 0, 0, 0, 0, 0, 0, 0, 0, 0, 9]'),\n",
       " Text(0.24096385542168675, 0.20833333333333334, 'gini = 0.0\\nsamples = 9\\nvalue = [0, 0, 0, 0, 0, 0, 0, 0, 0, 0, 0, 0, 9]'),\n",
       " Text(0.2891566265060241, 0.20833333333333334, 'X[0] <= 180.0\\ngini = 0.444\\nsamples = 3\\nvalue = [2, 1, 0, 0, 0, 0, 0, 0, 0, 0, 0, 0, 0]'),\n",
       " Text(0.26506024096385544, 0.125, 'gini = 0.0\\nsamples = 2\\nvalue = [2, 0, 0, 0, 0, 0, 0, 0, 0, 0, 0, 0, 0]'),\n",
       " Text(0.3132530120481928, 0.125, 'gini = 0.0\\nsamples = 1\\nvalue = [0, 1, 0, 0, 0, 0, 0, 0, 0, 0, 0, 0, 0]'),\n",
       " Text(0.3373493975903614, 0.375, 'X[2] <= 44.0\\ngini = 0.322\\nsamples = 21\\nvalue = [0, 3, 0, 0, 0, 0, 17, 0, 0, 0, 1, 0, 0]'),\n",
       " Text(0.3132530120481928, 0.2916666666666667, 'gini = 0.0\\nsamples = 3\\nvalue = [0, 3, 0, 0, 0, 0, 0, 0, 0, 0, 0, 0, 0]'),\n",
       " Text(0.3614457831325301, 0.2916666666666667, 'X[0] <= 110.0\\ngini = 0.105\\nsamples = 18\\nvalue = [0, 0, 0, 0, 0, 0, 17, 0, 0, 0, 1, 0, 0]'),\n",
       " Text(0.3373493975903614, 0.20833333333333334, 'gini = 0.0\\nsamples = 1\\nvalue = [0, 0, 0, 0, 0, 0, 0, 0, 0, 0, 1, 0, 0]'),\n",
       " Text(0.3855421686746988, 0.20833333333333334, 'gini = 0.0\\nsamples = 17\\nvalue = [0, 0, 0, 0, 0, 0, 17, 0, 0, 0, 0, 0, 0]'),\n",
       " Text(0.5602409638554217, 0.4583333333333333, 'X[1] <= 199.0\\ngini = 0.649\\nsamples = 52\\nvalue = [0, 0, 0, 1, 0, 0, 6, 0, 2, 0, 27, 3, 13]'),\n",
       " Text(0.4819277108433735, 0.375, 'X[0] <= 161.5\\ngini = 0.196\\nsamples = 28\\nvalue = [0, 0, 0, 1, 0, 0, 0, 0, 0, 0, 25, 2, 0]'),\n",
       " Text(0.4578313253012048, 0.2916666666666667, 'X[3] <= 14.5\\ngini = 0.444\\nsamples = 3\\nvalue = [0, 0, 0, 1, 0, 0, 0, 0, 0, 0, 0, 2, 0]'),\n",
       " Text(0.43373493975903615, 0.20833333333333334, 'gini = 0.0\\nsamples = 1\\nvalue = [0, 0, 0, 1, 0, 0, 0, 0, 0, 0, 0, 0, 0]'),\n",
       " Text(0.4819277108433735, 0.20833333333333334, 'gini = 0.0\\nsamples = 2\\nvalue = [0, 0, 0, 0, 0, 0, 0, 0, 0, 0, 0, 2, 0]'),\n",
       " Text(0.5060240963855421, 0.2916666666666667, 'gini = 0.0\\nsamples = 25\\nvalue = [0, 0, 0, 0, 0, 0, 0, 0, 0, 0, 25, 0, 0]'),\n",
       " Text(0.6385542168674698, 0.375, 'X[2] <= 65.5\\ngini = 0.628\\nsamples = 24\\nvalue = [0, 0, 0, 0, 0, 0, 6, 0, 2, 0, 2, 1, 13]'),\n",
       " Text(0.5783132530120482, 0.2916666666666667, 'X[2] <= 50.5\\ngini = 0.645\\nsamples = 11\\nvalue = [0, 0, 0, 0, 0, 0, 6, 0, 2, 0, 1, 1, 1]'),\n",
       " Text(0.5301204819277109, 0.20833333333333334, 'X[2] <= 16.0\\ngini = 0.625\\nsamples = 4\\nvalue = [0, 0, 0, 0, 0, 0, 0, 0, 2, 0, 1, 0, 1]'),\n",
       " Text(0.5060240963855421, 0.125, 'gini = 0.0\\nsamples = 2\\nvalue = [0, 0, 0, 0, 0, 0, 0, 0, 2, 0, 0, 0, 0]'),\n",
       " Text(0.5542168674698795, 0.125, 'X[1] <= 223.0\\ngini = 0.5\\nsamples = 2\\nvalue = [0, 0, 0, 0, 0, 0, 0, 0, 0, 0, 1, 0, 1]'),\n",
       " Text(0.5301204819277109, 0.041666666666666664, 'gini = 0.0\\nsamples = 1\\nvalue = [0, 0, 0, 0, 0, 0, 0, 0, 0, 0, 1, 0, 0]'),\n",
       " Text(0.5783132530120482, 0.041666666666666664, 'gini = 0.0\\nsamples = 1\\nvalue = [0, 0, 0, 0, 0, 0, 0, 0, 0, 0, 0, 0, 1]'),\n",
       " Text(0.6265060240963856, 0.20833333333333334, 'X[1] <= 227.5\\ngini = 0.245\\nsamples = 7\\nvalue = [0, 0, 0, 0, 0, 0, 6, 0, 0, 0, 0, 1, 0]'),\n",
       " Text(0.6024096385542169, 0.125, 'gini = 0.0\\nsamples = 1\\nvalue = [0, 0, 0, 0, 0, 0, 0, 0, 0, 0, 0, 1, 0]'),\n",
       " Text(0.6506024096385542, 0.125, 'gini = 0.0\\nsamples = 6\\nvalue = [0, 0, 0, 0, 0, 0, 6, 0, 0, 0, 0, 0, 0]'),\n",
       " Text(0.6987951807228916, 0.2916666666666667, 'X[2] <= 119.0\\ngini = 0.142\\nsamples = 13\\nvalue = [0, 0, 0, 0, 0, 0, 0, 0, 0, 0, 1, 0, 12]'),\n",
       " Text(0.6746987951807228, 0.20833333333333334, 'gini = 0.0\\nsamples = 12\\nvalue = [0, 0, 0, 0, 0, 0, 0, 0, 0, 0, 0, 0, 12]'),\n",
       " Text(0.7228915662650602, 0.20833333333333334, 'gini = 0.0\\nsamples = 1\\nvalue = [0, 0, 0, 0, 0, 0, 0, 0, 0, 0, 1, 0, 0]'),\n",
       " Text(0.7771084337349398, 0.5416666666666666, 'X[0] <= 130.0\\ngini = 0.741\\nsamples = 46\\nvalue = [0, 17, 3, 0, 13, 0, 0, 0, 4, 0, 1, 0, 8]'),\n",
       " Text(0.7108433734939759, 0.4583333333333333, 'X[1] <= 19.5\\ngini = 0.36\\nsamples = 17\\nvalue = [0, 4, 0, 0, 13, 0, 0, 0, 0, 0, 0, 0, 0]'),\n",
       " Text(0.6867469879518072, 0.375, 'gini = 0.0\\nsamples = 4\\nvalue = [0, 4, 0, 0, 0, 0, 0, 0, 0, 0, 0, 0, 0]'),\n",
       " Text(0.7349397590361446, 0.375, 'gini = 0.0\\nsamples = 13\\nvalue = [0, 0, 0, 0, 13, 0, 0, 0, 0, 0, 0, 0, 0]'),\n",
       " Text(0.8433734939759037, 0.4583333333333333, 'X[2] <= 221.0\\ngini = 0.692\\nsamples = 29\\nvalue = [0, 13, 3, 0, 0, 0, 0, 0, 4, 0, 1, 0, 8]'),\n",
       " Text(0.7831325301204819, 0.375, 'X[3] <= 13.0\\ngini = 0.337\\nsamples = 14\\nvalue = [0, 11, 3, 0, 0, 0, 0, 0, 0, 0, 0, 0, 0]'),\n",
       " Text(0.7590361445783133, 0.2916666666666667, 'gini = 0.0\\nsamples = 3\\nvalue = [0, 0, 3, 0, 0, 0, 0, 0, 0, 0, 0, 0, 0]'),\n",
       " Text(0.8072289156626506, 0.2916666666666667, 'gini = 0.0\\nsamples = 11\\nvalue = [0, 11, 0, 0, 0, 0, 0, 0, 0, 0, 0, 0, 0]'),\n",
       " Text(0.9036144578313253, 0.375, 'X[3] <= 19.0\\ngini = 0.622\\nsamples = 15\\nvalue = [0, 2, 0, 0, 0, 0, 0, 0, 4, 0, 1, 0, 8]'),\n",
       " Text(0.8554216867469879, 0.2916666666666667, 'X[2] <= 229.5\\ngini = 0.444\\nsamples = 6\\nvalue = [0, 2, 0, 0, 0, 0, 0, 0, 4, 0, 0, 0, 0]'),\n",
       " Text(0.8313253012048193, 0.20833333333333334, 'gini = 0.0\\nsamples = 4\\nvalue = [0, 0, 0, 0, 0, 0, 0, 0, 4, 0, 0, 0, 0]'),\n",
       " Text(0.8795180722891566, 0.20833333333333334, 'gini = 0.0\\nsamples = 2\\nvalue = [0, 2, 0, 0, 0, 0, 0, 0, 0, 0, 0, 0, 0]'),\n",
       " Text(0.9518072289156626, 0.2916666666666667, 'X[3] <= 21.5\\ngini = 0.198\\nsamples = 9\\nvalue = [0, 0, 0, 0, 0, 0, 0, 0, 0, 0, 1, 0, 8]'),\n",
       " Text(0.927710843373494, 0.20833333333333334, 'gini = 0.0\\nsamples = 8\\nvalue = [0, 0, 0, 0, 0, 0, 0, 0, 0, 0, 0, 0, 8]'),\n",
       " Text(0.9759036144578314, 0.20833333333333334, 'gini = 0.0\\nsamples = 1\\nvalue = [0, 0, 0, 0, 0, 0, 0, 0, 0, 0, 1, 0, 0]'),\n",
       " Text(0.7213855421686747, 0.7916666666666666, 'X[2] <= 206.0\\ngini = 0.578\\nsamples = 40\\nvalue = [0, 0, 0, 0, 5, 23, 0, 0, 1, 0, 11, 0, 0]'),\n",
       " Text(0.6731927710843374, 0.7083333333333334, 'X[0] <= 217.0\\ngini = 0.293\\nsamples = 28\\nvalue = [0, 0, 0, 0, 5, 23, 0, 0, 0, 0, 0, 0, 0]'),\n",
       " Text(0.6490963855421686, 0.625, 'gini = 0.0\\nsamples = 23\\nvalue = [0, 0, 0, 0, 0, 23, 0, 0, 0, 0, 0, 0, 0]'),\n",
       " Text(0.697289156626506, 0.625, 'gini = 0.0\\nsamples = 5\\nvalue = [0, 0, 0, 0, 5, 0, 0, 0, 0, 0, 0, 0, 0]'),\n",
       " Text(0.7695783132530121, 0.7083333333333334, 'X[3] <= 25.5\\ngini = 0.153\\nsamples = 12\\nvalue = [0, 0, 0, 0, 0, 0, 0, 0, 1, 0, 11, 0, 0]'),\n",
       " Text(0.7454819277108434, 0.625, 'gini = 0.0\\nsamples = 1\\nvalue = [0, 0, 0, 0, 0, 0, 0, 0, 1, 0, 0, 0, 0]'),\n",
       " Text(0.7936746987951807, 0.625, 'gini = 0.0\\nsamples = 11\\nvalue = [0, 0, 0, 0, 0, 0, 0, 0, 0, 0, 11, 0, 0]'),\n",
       " Text(0.8659638554216867, 0.875, 'X[0] <= 169.5\\ngini = 0.384\\nsamples = 30\\nvalue = [0, 3, 0, 0, 0, 0, 0, 0, 0, 0, 0, 23, 4]'),\n",
       " Text(0.8418674698795181, 0.7916666666666666, 'X[2] <= 247.5\\ngini = 0.49\\nsamples = 7\\nvalue = [0, 3, 0, 0, 0, 0, 0, 0, 0, 0, 0, 0, 4]'),\n",
       " Text(0.8177710843373494, 0.7083333333333334, 'gini = 0.0\\nsamples = 4\\nvalue = [0, 0, 0, 0, 0, 0, 0, 0, 0, 0, 0, 0, 4]'),\n",
       " Text(0.8659638554216867, 0.7083333333333334, 'gini = 0.0\\nsamples = 3\\nvalue = [0, 3, 0, 0, 0, 0, 0, 0, 0, 0, 0, 0, 0]'),\n",
       " Text(0.8900602409638554, 0.7916666666666666, 'gini = 0.0\\nsamples = 23\\nvalue = [0, 0, 0, 0, 0, 0, 0, 0, 0, 0, 0, 23, 0]')]"
      ]
     },
     "execution_count": 26,
     "metadata": {},
     "output_type": "execute_result"
    },
    {
     "data": {
      "image/png": "[encoded data removed]",
      "text/plain": [
       "<Figure size 864x576 with 1 Axes>"
      ]
     },
     "metadata": {
      "needs_background": "light"
     },
     "output_type": "display_data"
    }
   ],
   "source": [
    "plt.figure(figsize=(12,8))\n",
    "\n",
    "from sklearn import tree\n",
    "\n",
    "tree.plot_tree(model.fit(xtrain, ytrain)) "
   ]
  },
  {
   "cell_type": "code",
   "execution_count": 27,
   "id": "8003020e",
   "metadata": {},
   "outputs": [
    {
     "name": "stdout",
     "output_type": "stream",
     "text": [
      "['Audi']\n"
     ]
    },
    {
     "name": "stderr",
     "output_type": "stream",
     "text": [
      "D:\\anaconda\\lib\\site-packages\\sklearn\\base.py:450: UserWarning: X does not have valid feature names, but DecisionTreeClassifier was fitted with feature names\n",
      "  warnings.warn(\n"
     ]
    }
   ],
   "source": [
    "pr=[143,196,203,21]\n",
    "p=model.predict([pr])\n",
    "print(p)"
   ]
  },
  {
   "cell_type": "markdown",
   "id": "43fbb9b9",
   "metadata": {},
   "source": [
    "decision tree CLASSIFIER with entropy"
   ]
  },
  {
   "cell_type": "code",
   "execution_count": 28,
   "id": "e1c21428",
   "metadata": {},
   "outputs": [],
   "source": [
    "model2=DecisionTreeClassifier (criterion='entropy', max_depth=30, random_state=0)"
   ]
  },
  {
   "cell_type": "code",
   "execution_count": 29,
   "id": "c0266779",
   "metadata": {},
   "outputs": [
    {
     "data": {
      "text/plain": [
       "DecisionTreeClassifier(criterion='entropy', max_depth=30, random_state=0)"
      ]
     },
     "execution_count": 29,
     "metadata": {},
     "output_type": "execute_result"
    }
   ],
   "source": [
    "model2.fit(xtrain,ytrain)"
   ]
  },
  {
   "cell_type": "code",
   "execution_count": 30,
   "id": "f218f846",
   "metadata": {},
   "outputs": [],
   "source": [
    "y_pred_en = model2.predict(xtest)"
   ]
  },
  {
   "cell_type": "code",
   "execution_count": 31,
   "id": "358630c5",
   "metadata": {},
   "outputs": [
    {
     "name": "stdout",
     "output_type": "stream",
     "text": [
      "Model accuracy score with criterion entropy: 0.9394\n"
     ]
    }
   ],
   "source": [
    "from sklearn.metrics import accuracy_score\n",
    "print('Model accuracy score with criterion entropy: {0:0.4f}'. format(accuracy_score(ytest, y_pred_en)))"
   ]
  },
  {
   "cell_type": "code",
   "execution_count": 32,
   "id": "96dc7fc4",
   "metadata": {},
   "outputs": [
    {
     "data": {
      "text/plain": [
       "array(['Toyota', 'Ford', 'Audi', 'Volvo', 'Volkswagen', 'Honda', 'Ford',\n",
       "       'Nissan', 'Volkswagen', 'Volkswagen', 'Audi', 'Toyota', 'Nissan',\n",
       "       'Volvo', 'Volvo', 'Toyota', 'Bentley', 'Audi', 'BMW', 'Toyota',\n",
       "       'Volkswagen', 'Honda', 'Honda', 'Volvo', 'Toyota', 'Toyota',\n",
       "       'Audi', 'Toyota', 'Nissan', 'Volvo', 'Nissan', 'Audi', 'Nissan',\n",
       "       'Chevrolet', 'Ford', 'Volvo', 'Volvo', 'Chevrolet', 'Toyota',\n",
       "       'Nissan', 'Toyota', 'Volvo', 'Chevrolet', 'Rolls-Royce', 'Maybach',\n",
       "       'Toyota', 'Honda', 'Bentley', 'Maybach', 'Toyota', 'Ford',\n",
       "       'Toyota', 'Audi', 'Volvo', 'Toyota', 'Nissan', 'Volkswagen',\n",
       "       'Ford', 'Honda', 'Chevrolet', 'Toyota', 'Nissan', 'Ford',\n",
       "       'Bentley', 'Ford', 'Audi', 'Rolls-Royce', 'Ford', 'Volvo', 'Volvo',\n",
       "       'Bentley', 'Volkswagen', 'Honda', 'Nissan', 'Ford', 'Ford',\n",
       "       'Toyota', 'Bentley', 'Ford', 'Nissan', 'Nissan', 'Chevrolet',\n",
       "       'Volkswagen', 'Nissan', 'Toyota', 'Volvo', 'Honda', 'Volvo',\n",
       "       'Volvo', 'Ford', 'Nissan', 'Volkswagen', 'Volvo', 'Honda',\n",
       "       'Volkswagen', 'Nissan', 'Toyota', 'Maybach', 'Volvo', 'Chevrolet',\n",
       "       'Toyota', 'Toyota', 'Volvo', 'Chevrolet', 'Volkswagen', 'Toyota',\n",
       "       'Bentley', 'Rolls-Royce', 'Bentley', 'Rolls-Royce', 'Volvo',\n",
       "       'Honda', 'Volkswagen', 'Bentley', 'Volvo', 'Bentley', 'Honda',\n",
       "       'Toyota', 'Audi', 'Nissan', 'Audi', 'Toyota', 'Toyota', 'Audi',\n",
       "       'Chevrolet', 'Volkswagen', 'Maybach', 'Chevrolet', 'Volkswagen',\n",
       "       'Volkswagen', 'Rolls-Royce', 'Maybach', 'Volvo', 'Audi', 'Volvo',\n",
       "       'Toyota', 'Volvo', 'Nissan', 'Audi', 'Ford', 'Audi', 'Toyota',\n",
       "       'Toyota', 'Maybach', 'Volkswagen', 'Toyota', 'Honda', 'Toyota',\n",
       "       'Toyota', 'Volkswagen', 'Acura', 'Chevrolet', 'Volkswagen', 'BMW',\n",
       "       'Honda', 'Bentley', 'Toyota', 'Nissan', 'Bentley', 'Ford', 'Volvo',\n",
       "       'Volvo', 'Chevrolet', 'Volkswagen', 'Volkswagen', 'Volvo',\n",
       "       'Rolls-Royce', 'Ford', 'Chevrolet', 'Audi', 'Audi', 'Ford',\n",
       "       'Volkswagen', 'Toyota', 'Bentley', 'Toyota', 'Chevrolet',\n",
       "       'Chevrolet', 'Toyota', 'Volvo', 'Toyota', 'Volkswagen', 'Toyota',\n",
       "       'Honda', 'Volvo', 'Toyota', 'Toyota', 'Honda', 'Audi', 'Toyota',\n",
       "       'Chevrolet', 'Honda', 'Volkswagen', 'Honda', 'Nissan', 'Honda',\n",
       "       'Honda', 'Honda', 'Toyota', 'Bentley', 'Audi', 'Volvo', 'Nissan',\n",
       "       'Ford', 'Audi', 'Ford', 'Toyota', 'Toyota', 'Maybach', 'Ford',\n",
       "       'Chevrolet', 'Nissan', 'Toyota', 'Ford', 'Volkswagen', 'Nissan',\n",
       "       'Toyota', 'Volkswagen', 'Honda', 'Volvo', 'Nissan', 'Toyota',\n",
       "       'Toyota', 'Honda', 'Toyota', 'Chevrolet', 'Bentley', 'Toyota',\n",
       "       'Volvo', 'Honda', 'Audi', 'Toyota', 'Chevrolet', 'Volkswagen',\n",
       "       'Volvo', 'Volvo', 'Nissan', 'Chevrolet', 'Nissan', 'Maybach',\n",
       "       'Audi', 'Ford', 'Audi', 'Toyota', 'Chevrolet', 'Nissan', 'Ford',\n",
       "       'Volvo', 'Acura', 'Toyota', 'Toyota', 'Ford', 'Nissan', 'Bentley',\n",
       "       'Audi', 'Honda', 'Toyota', 'Audi', 'BMW', 'Volkswagen',\n",
       "       'Chevrolet', 'Audi', 'Volvo', 'Audi', 'Audi', 'Audi', 'Chevrolet'],\n",
       "      dtype=object)"
      ]
     },
     "execution_count": 32,
     "metadata": {},
     "output_type": "execute_result"
    }
   ],
   "source": [
    "y_pred_train_en = model2.predict(xtrain)\n",
    "\n",
    "y_pred_train_en"
   ]
  },
  {
   "cell_type": "code",
   "execution_count": 33,
   "id": "90020749",
   "metadata": {},
   "outputs": [
    {
     "name": "stdout",
     "output_type": "stream",
     "text": [
      "Training-set accuracy score: 1.0000\n"
     ]
    }
   ],
   "source": [
    "print('Training-set accuracy score: {0:0.4f}'. format(accuracy_score(ytrain, y_pred_train_en)))"
   ]
  },
  {
   "cell_type": "code",
   "execution_count": 34,
   "id": "69da6131",
   "metadata": {},
   "outputs": [
    {
     "name": "stdout",
     "output_type": "stream",
     "text": [
      "Training set score: 1.0000\n",
      "Test set score: 0.9394\n"
     ]
    }
   ],
   "source": [
    "print('Training set score: {:.4f}'.format(model2.score(xtrain, ytrain)))\n",
    "\n",
    "print('Test set score: {:.4f}'.format(model2.score(xtest, ytest)))"
   ]
  },
  {
   "cell_type": "code",
   "execution_count": 35,
   "id": "e4a64e1e",
   "metadata": {},
   "outputs": [
    {
     "data": {
      "text/plain": [
       "[Text(0.31505102040816324, 0.95, 'X[3] <= 13.5\\nentropy = 3.367\\nsamples = 267\\nvalue = [2, 27, 3, 15, 22, 23, 23, 8, 26, 6, 52, 26, 34]'),\n",
       " Text(0.10204081632653061, 0.85, 'X[0] <= 93.5\\nentropy = 2.487\\nsamples = 43\\nvalue = [0, 0, 3, 15, 6, 0, 0, 8, 4, 6, 1, 0, 0]'),\n",
       " Text(0.061224489795918366, 0.75, 'X[2] <= 206.5\\nentropy = 1.747\\nsamples = 19\\nvalue = [0, 0, 0, 0, 6, 0, 0, 8, 0, 4, 1, 0, 0]'),\n",
       " Text(0.04081632653061224, 0.65, 'X[3] <= 10.5\\nentropy = 1.239\\nsamples = 13\\nvalue = [0, 0, 0, 0, 0, 0, 0, 8, 0, 4, 1, 0, 0]'),\n",
       " Text(0.02040816326530612, 0.55, 'entropy = 0.0\\nsamples = 8\\nvalue = [0, 0, 0, 0, 0, 0, 0, 8, 0, 0, 0, 0, 0]'),\n",
       " Text(0.061224489795918366, 0.55, 'X[0] <= 65.5\\nentropy = 0.722\\nsamples = 5\\nvalue = [0, 0, 0, 0, 0, 0, 0, 0, 0, 4, 1, 0, 0]'),\n",
       " Text(0.04081632653061224, 0.45, 'entropy = 0.0\\nsamples = 4\\nvalue = [0, 0, 0, 0, 0, 0, 0, 0, 0, 4, 0, 0, 0]'),\n",
       " Text(0.08163265306122448, 0.45, 'entropy = 0.0\\nsamples = 1\\nvalue = [0, 0, 0, 0, 0, 0, 0, 0, 0, 0, 1, 0, 0]'),\n",
       " Text(0.08163265306122448, 0.65, 'entropy = 0.0\\nsamples = 6\\nvalue = [0, 0, 0, 0, 6, 0, 0, 0, 0, 0, 0, 0, 0]'),\n",
       " Text(0.14285714285714285, 0.75, 'X[2] <= 187.5\\nentropy = 1.528\\nsamples = 24\\nvalue = [0, 0, 3, 15, 0, 0, 0, 0, 4, 2, 0, 0, 0]'),\n",
       " Text(0.12244897959183673, 0.65, 'entropy = 0.0\\nsamples = 15\\nvalue = [0, 0, 0, 15, 0, 0, 0, 0, 0, 0, 0, 0, 0]'),\n",
       " Text(0.16326530612244897, 0.65, 'X[2] <= 211.5\\nentropy = 1.53\\nsamples = 9\\nvalue = [0, 0, 3, 0, 0, 0, 0, 0, 4, 2, 0, 0, 0]'),\n",
       " Text(0.14285714285714285, 0.55, 'X[3] <= 11.5\\nentropy = 0.971\\nsamples = 5\\nvalue = [0, 0, 3, 0, 0, 0, 0, 0, 0, 2, 0, 0, 0]'),\n",
       " Text(0.12244897959183673, 0.45, 'entropy = 0.0\\nsamples = 2\\nvalue = [0, 0, 0, 0, 0, 0, 0, 0, 0, 2, 0, 0, 0]'),\n",
       " Text(0.16326530612244897, 0.45, 'entropy = 0.0\\nsamples = 3\\nvalue = [0, 0, 3, 0, 0, 0, 0, 0, 0, 0, 0, 0, 0]'),\n",
       " Text(0.1836734693877551, 0.55, 'entropy = 0.0\\nsamples = 4\\nvalue = [0, 0, 0, 0, 0, 0, 0, 0, 4, 0, 0, 0, 0]'),\n",
       " Text(0.5280612244897959, 0.85, 'X[2] <= 59.5\\nentropy = 2.963\\nsamples = 224\\nvalue = [2, 27, 0, 0, 16, 23, 23, 0, 22, 0, 51, 26, 34]'),\n",
       " Text(0.29591836734693877, 0.75, 'X[0] <= 149.5\\nentropy = 2.072\\nsamples = 63\\nvalue = [0, 3, 0, 0, 0, 2, 20, 0, 21, 0, 15, 0, 2]'),\n",
       " Text(0.24489795918367346, 0.65, 'X[0] <= 143.0\\nentropy = 0.893\\nsamples = 26\\nvalue = [0, 3, 0, 0, 0, 0, 0, 0, 21, 0, 0, 0, 2]'),\n",
       " Text(0.22448979591836735, 0.55, 'X[0] <= 82.0\\nentropy = 0.426\\nsamples = 23\\nvalue = [0, 0, 0, 0, 0, 0, 0, 0, 21, 0, 0, 0, 2]'),\n",
       " Text(0.20408163265306123, 0.45, 'entropy = 0.0\\nsamples = 19\\nvalue = [0, 0, 0, 0, 0, 0, 0, 0, 19, 0, 0, 0, 0]'),\n",
       " Text(0.24489795918367346, 0.45, 'X[1] <= 236.0\\nentropy = 1.0\\nsamples = 4\\nvalue = [0, 0, 0, 0, 0, 0, 0, 0, 2, 0, 0, 0, 2]'),\n",
       " Text(0.22448979591836735, 0.35, 'entropy = 0.0\\nsamples = 2\\nvalue = [0, 0, 0, 0, 0, 0, 0, 0, 0, 0, 0, 0, 2]'),\n",
       " Text(0.2653061224489796, 0.35, 'entropy = 0.0\\nsamples = 2\\nvalue = [0, 0, 0, 0, 0, 0, 0, 0, 2, 0, 0, 0, 0]'),\n",
       " Text(0.2653061224489796, 0.55, 'entropy = 0.0\\nsamples = 3\\nvalue = [0, 3, 0, 0, 0, 0, 0, 0, 0, 0, 0, 0, 0]'),\n",
       " Text(0.3469387755102041, 0.65, 'X[2] <= 42.5\\nentropy = 1.235\\nsamples = 37\\nvalue = [0, 0, 0, 0, 0, 2, 20, 0, 0, 0, 15, 0, 0]'),\n",
       " Text(0.30612244897959184, 0.55, 'X[0] <= 185.5\\nentropy = 0.592\\nsamples = 14\\nvalue = [0, 0, 0, 0, 0, 2, 0, 0, 0, 0, 12, 0, 0]'),\n",
       " Text(0.2857142857142857, 0.45, 'entropy = 0.0\\nsamples = 2\\nvalue = [0, 0, 0, 0, 0, 2, 0, 0, 0, 0, 0, 0, 0]'),\n",
       " Text(0.32653061224489793, 0.45, 'entropy = 0.0\\nsamples = 12\\nvalue = [0, 0, 0, 0, 0, 0, 0, 0, 0, 0, 12, 0, 0]'),\n",
       " Text(0.3877551020408163, 0.55, 'X[0] <= 200.5\\nentropy = 0.559\\nsamples = 23\\nvalue = [0, 0, 0, 0, 0, 0, 20, 0, 0, 0, 3, 0, 0]'),\n",
       " Text(0.3673469387755102, 0.45, 'entropy = 0.0\\nsamples = 20\\nvalue = [0, 0, 0, 0, 0, 0, 20, 0, 0, 0, 0, 0, 0]'),\n",
       " Text(0.40816326530612246, 0.45, 'entropy = 0.0\\nsamples = 3\\nvalue = [0, 0, 0, 0, 0, 0, 0, 0, 0, 0, 3, 0, 0]'),\n",
       " Text(0.7602040816326531, 0.75, 'X[3] <= 21.5\\nentropy = 2.726\\nsamples = 161\\nvalue = [2, 24, 0, 0, 16, 21, 3, 0, 1, 0, 36, 26, 32]'),\n",
       " Text(0.6020408163265306, 0.65, 'X[2] <= 109.0\\nentropy = 2.317\\nsamples = 99\\nvalue = [2, 23, 0, 0, 11, 0, 3, 0, 0, 0, 24, 4, 32]'),\n",
       " Text(0.5, 0.55, 'X[2] <= 65.5\\nentropy = 1.689\\nsamples = 32\\nvalue = [2, 4, 0, 0, 0, 0, 3, 0, 0, 0, 0, 3, 20]'),\n",
       " Text(0.4489795918367347, 0.45, 'X[0] <= 114.5\\nentropy = 1.0\\nsamples = 6\\nvalue = [0, 3, 0, 0, 0, 0, 0, 0, 0, 0, 0, 3, 0]'),\n",
       " Text(0.42857142857142855, 0.35, 'entropy = 0.0\\nsamples = 3\\nvalue = [0, 3, 0, 0, 0, 0, 0, 0, 0, 0, 0, 0, 0]'),\n",
       " Text(0.46938775510204084, 0.35, 'entropy = 0.0\\nsamples = 3\\nvalue = [0, 0, 0, 0, 0, 0, 0, 0, 0, 0, 0, 3, 0]'),\n",
       " Text(0.5510204081632653, 0.45, 'X[0] <= 173.5\\nentropy = 1.116\\nsamples = 26\\nvalue = [2, 1, 0, 0, 0, 0, 3, 0, 0, 0, 0, 0, 20]'),\n",
       " Text(0.5102040816326531, 0.35, 'X[1] <= 182.0\\nentropy = 1.53\\nsamples = 9\\nvalue = [2, 0, 0, 0, 0, 0, 3, 0, 0, 0, 0, 0, 4]'),\n",
       " Text(0.4897959183673469, 0.25, 'X[2] <= 96.0\\nentropy = 0.971\\nsamples = 5\\nvalue = [2, 0, 0, 0, 0, 0, 3, 0, 0, 0, 0, 0, 0]'),\n",
       " Text(0.46938775510204084, 0.15, 'entropy = 0.0\\nsamples = 2\\nvalue = [2, 0, 0, 0, 0, 0, 0, 0, 0, 0, 0, 0, 0]'),\n",
       " Text(0.5102040816326531, 0.15, 'entropy = 0.0\\nsamples = 3\\nvalue = [0, 0, 0, 0, 0, 0, 3, 0, 0, 0, 0, 0, 0]'),\n",
       " Text(0.5306122448979592, 0.25, 'entropy = 0.0\\nsamples = 4\\nvalue = [0, 0, 0, 0, 0, 0, 0, 0, 0, 0, 0, 0, 4]'),\n",
       " Text(0.5918367346938775, 0.35, 'X[3] <= 18.5\\nentropy = 0.323\\nsamples = 17\\nvalue = [0, 1, 0, 0, 0, 0, 0, 0, 0, 0, 0, 0, 16]'),\n",
       " Text(0.5714285714285714, 0.25, 'entropy = 0.0\\nsamples = 14\\nvalue = [0, 0, 0, 0, 0, 0, 0, 0, 0, 0, 0, 0, 14]'),\n",
       " Text(0.6122448979591837, 0.25, 'X[2] <= 75.5\\nentropy = 0.918\\nsamples = 3\\nvalue = [0, 1, 0, 0, 0, 0, 0, 0, 0, 0, 0, 0, 2]'),\n",
       " Text(0.5918367346938775, 0.15, 'entropy = 0.0\\nsamples = 1\\nvalue = [0, 0, 0, 0, 0, 0, 0, 0, 0, 0, 0, 0, 1]'),\n",
       " Text(0.6326530612244898, 0.15, 'X[2] <= 89.5\\nentropy = 1.0\\nsamples = 2\\nvalue = [0, 1, 0, 0, 0, 0, 0, 0, 0, 0, 0, 0, 1]'),\n",
       " Text(0.6122448979591837, 0.05, 'entropy = 0.0\\nsamples = 1\\nvalue = [0, 1, 0, 0, 0, 0, 0, 0, 0, 0, 0, 0, 0]'),\n",
       " Text(0.6530612244897959, 0.05, 'entropy = 0.0\\nsamples = 1\\nvalue = [0, 0, 0, 0, 0, 0, 0, 0, 0, 0, 0, 0, 1]'),\n",
       " Text(0.7040816326530612, 0.55, 'X[2] <= 185.0\\nentropy = 2.009\\nsamples = 67\\nvalue = [0, 19, 0, 0, 11, 0, 0, 0, 0, 0, 24, 1, 12]'),\n",
       " Text(0.6530612244897959, 0.45, 'X[2] <= 157.0\\nentropy = 0.906\\nsamples = 28\\nvalue = [0, 0, 0, 0, 9, 0, 0, 0, 0, 0, 19, 0, 0]'),\n",
       " Text(0.6326530612244898, 0.35, 'entropy = 0.0\\nsamples = 19\\nvalue = [0, 0, 0, 0, 0, 0, 0, 0, 0, 0, 19, 0, 0]'),\n",
       " Text(0.673469387755102, 0.35, 'entropy = 0.0\\nsamples = 9\\nvalue = [0, 0, 0, 0, 9, 0, 0, 0, 0, 0, 0, 0, 0]'),\n",
       " Text(0.7551020408163265, 0.45, 'X[0] <= 88.5\\nentropy = 1.764\\nsamples = 39\\nvalue = [0, 19, 0, 0, 2, 0, 0, 0, 0, 0, 5, 1, 12]'),\n",
       " Text(0.7142857142857143, 0.35, 'X[0] <= 53.0\\nentropy = 0.863\\nsamples = 7\\nvalue = [0, 0, 0, 0, 2, 0, 0, 0, 0, 0, 5, 0, 0]'),\n",
       " Text(0.6938775510204082, 0.25, 'entropy = 0.0\\nsamples = 5\\nvalue = [0, 0, 0, 0, 0, 0, 0, 0, 0, 0, 5, 0, 0]'),\n",
       " Text(0.7346938775510204, 0.25, 'entropy = 0.0\\nsamples = 2\\nvalue = [0, 0, 0, 0, 2, 0, 0, 0, 0, 0, 0, 0, 0]'),\n",
       " Text(0.7959183673469388, 0.35, 'X[0] <= 161.5\\nentropy = 1.133\\nsamples = 32\\nvalue = [0, 19, 0, 0, 0, 0, 0, 0, 0, 0, 0, 1, 12]'),\n",
       " Text(0.7755102040816326, 0.25, 'entropy = 0.0\\nsamples = 15\\nvalue = [0, 15, 0, 0, 0, 0, 0, 0, 0, 0, 0, 0, 0]'),\n",
       " Text(0.8163265306122449, 0.25, 'X[3] <= 19.0\\nentropy = 1.086\\nsamples = 17\\nvalue = [0, 4, 0, 0, 0, 0, 0, 0, 0, 0, 0, 1, 12]'),\n",
       " Text(0.7959183673469388, 0.15, 'entropy = 0.0\\nsamples = 4\\nvalue = [0, 4, 0, 0, 0, 0, 0, 0, 0, 0, 0, 0, 0]'),\n",
       " Text(0.8367346938775511, 0.15, 'X[1] <= 185.5\\nentropy = 0.391\\nsamples = 13\\nvalue = [0, 0, 0, 0, 0, 0, 0, 0, 0, 0, 0, 1, 12]'),\n",
       " Text(0.8163265306122449, 0.05, 'entropy = 0.0\\nsamples = 12\\nvalue = [0, 0, 0, 0, 0, 0, 0, 0, 0, 0, 0, 0, 12]'),\n",
       " Text(0.8571428571428571, 0.05, 'entropy = 0.0\\nsamples = 1\\nvalue = [0, 0, 0, 0, 0, 0, 0, 0, 0, 0, 0, 1, 0]'),\n",
       " Text(0.9183673469387755, 0.65, 'X[2] <= 213.0\\nentropy = 2.003\\nsamples = 62\\nvalue = [0, 1, 0, 0, 5, 21, 0, 0, 1, 0, 12, 22, 0]'),\n",
       " Text(0.8775510204081632, 0.55, 'X[0] <= 217.0\\nentropy = 0.909\\nsamples = 27\\nvalue = [0, 1, 0, 0, 5, 21, 0, 0, 0, 0, 0, 0, 0]'),\n",
       " Text(0.8571428571428571, 0.45, 'X[2] <= 195.0\\nentropy = 0.267\\nsamples = 22\\nvalue = [0, 1, 0, 0, 0, 21, 0, 0, 0, 0, 0, 0, 0]'),\n",
       " Text(0.8367346938775511, 0.35, 'entropy = 0.0\\nsamples = 21\\nvalue = [0, 0, 0, 0, 0, 21, 0, 0, 0, 0, 0, 0, 0]'),\n",
       " Text(0.8775510204081632, 0.35, 'entropy = 0.0\\nsamples = 1\\nvalue = [0, 1, 0, 0, 0, 0, 0, 0, 0, 0, 0, 0, 0]'),\n",
       " Text(0.8979591836734694, 0.45, 'entropy = 0.0\\nsamples = 5\\nvalue = [0, 0, 0, 0, 5, 0, 0, 0, 0, 0, 0, 0, 0]'),\n",
       " Text(0.9591836734693877, 0.55, 'X[2] <= 235.5\\nentropy = 1.097\\nsamples = 35\\nvalue = [0, 0, 0, 0, 0, 0, 0, 0, 1, 0, 12, 22, 0]'),\n",
       " Text(0.9387755102040817, 0.45, 'X[3] <= 25.5\\nentropy = 0.391\\nsamples = 13\\nvalue = [0, 0, 0, 0, 0, 0, 0, 0, 1, 0, 12, 0, 0]'),\n",
       " Text(0.9183673469387755, 0.35, 'X[2] <= 226.5\\nentropy = 1.0\\nsamples = 2\\nvalue = [0, 0, 0, 0, 0, 0, 0, 0, 1, 0, 1, 0, 0]'),\n",
       " Text(0.8979591836734694, 0.25, 'entropy = 0.0\\nsamples = 1\\nvalue = [0, 0, 0, 0, 0, 0, 0, 0, 0, 0, 1, 0, 0]'),\n",
       " Text(0.9387755102040817, 0.25, 'entropy = 0.0\\nsamples = 1\\nvalue = [0, 0, 0, 0, 0, 0, 0, 0, 1, 0, 0, 0, 0]'),\n",
       " Text(0.9591836734693877, 0.35, 'entropy = 0.0\\nsamples = 11\\nvalue = [0, 0, 0, 0, 0, 0, 0, 0, 0, 0, 11, 0, 0]'),\n",
       " Text(0.9795918367346939, 0.45, 'entropy = 0.0\\nsamples = 22\\nvalue = [0, 0, 0, 0, 0, 0, 0, 0, 0, 0, 0, 22, 0]')]"
      ]
     },
     "execution_count": 35,
     "metadata": {},
     "output_type": "execute_result"
    },
    {
     "data": {
      "image/png": "[encoded data removed]",
      "text/plain": [
       "<Figure size 864x576 with 1 Axes>"
      ]
     },
     "metadata": {
      "needs_background": "light"
     },
     "output_type": "display_data"
    }
   ],
   "source": [
    "plt.figure(figsize=(12,8))\n",
    "\n",
    "from sklearn import tree\n",
    "\n",
    "tree.plot_tree(model2.fit(xtrain, ytrain)) "
   ]
  },
  {
   "cell_type": "code",
   "execution_count": 36,
   "id": "5f7df675",
   "metadata": {},
   "outputs": [
    {
     "name": "stdout",
     "output_type": "stream",
     "text": [
      "['Audi']\n"
     ]
    },
    {
     "name": "stderr",
     "output_type": "stream",
     "text": [
      "D:\\anaconda\\lib\\site-packages\\sklearn\\base.py:450: UserWarning: X does not have valid feature names, but DecisionTreeClassifier was fitted with feature names\n",
      "  warnings.warn(\n"
     ]
    }
   ],
   "source": [
    "pr=[143,196,203,21]\n",
    "p=model2.predict([pr])\n",
    "print(p)"
   ]
  },
  {
   "cell_type": "code",
   "execution_count": 37,
   "id": "336c2276",
   "metadata": {},
   "outputs": [
    {
     "name": "stdout",
     "output_type": "stream",
     "text": [
      "              precision    recall  f1-score   support\n",
      "\n",
      "        Audi       1.00      0.70      0.82        10\n",
      "         BMW       0.50      1.00      0.67         1\n",
      "     Bentley       0.67      1.00      0.80         2\n",
      "   Chevrolet       1.00      1.00      1.00         9\n",
      "        Ford       0.80      1.00      0.89         8\n",
      "       Honda       1.00      0.93      0.96        14\n",
      "     Maybach       1.00      1.00      1.00         5\n",
      "      Nissan       0.67      1.00      0.80         8\n",
      " Rolls-Royce       1.00      1.00      1.00         4\n",
      "      Toyota       1.00      0.91      0.95        34\n",
      "  Volkswagen       1.00      1.00      1.00        14\n",
      "       Volvo       1.00      0.96      0.98        23\n",
      "\n",
      "    accuracy                           0.94       132\n",
      "   macro avg       0.89      0.96      0.91       132\n",
      "weighted avg       0.96      0.94      0.94       132\n",
      "\n"
     ]
    }
   ],
   "source": [
    "from sklearn.metrics import classification_report\n",
    "print(classification_report(ytest, y_pred_en))"
   ]
  },
  {
   "cell_type": "markdown",
   "id": "b7e5e3f9",
   "metadata": {},
   "source": [
    "\n",
    "\n",
    "# Random Forrest"
   ]
  },
  {
   "cell_type": "markdown",
   "id": "4637ab9c",
   "metadata": {},
   "source": [
    "# Random forest classifier model with default parameters\n"
   ]
  },
  {
   "cell_type": "code",
   "execution_count": 38,
   "id": "bdcab182",
   "metadata": {},
   "outputs": [
    {
     "name": "stdout",
     "output_type": "stream",
     "text": [
      "Model accuracy score with 10 decision trees :0.9621\n"
     ]
    }
   ],
   "source": [
    "from sklearn.ensemble import RandomForestClassifier\n",
    "model=RandomForestClassifier(random_state=0)\n",
    "model.fit(xtrain,ytrain)\n",
    "y_pred=model.predict(xtest)\n",
    "from sklearn.metrics import accuracy_score\n",
    "print('Model accuracy score with 10 decision trees :{0:0.4f}'.format(accuracy_score(ytest,y_pred)))"
   ]
  },
  {
   "cell_type": "markdown",
   "id": "463eeb26",
   "metadata": {},
   "source": [
    "# Random forest classifier model with parameter n_estimators=100"
   ]
  },
  {
   "cell_type": "code",
   "execution_count": 39,
   "id": "3d387579",
   "metadata": {},
   "outputs": [],
   "source": [
    "model2=RandomForestClassifier(n_estimators=100,random_state=0)"
   ]
  },
  {
   "cell_type": "code",
   "execution_count": 40,
   "id": "86188ce7",
   "metadata": {},
   "outputs": [
    {
     "data": {
      "text/plain": [
       "RandomForestClassifier(random_state=0)"
      ]
     },
     "execution_count": 40,
     "metadata": {},
     "output_type": "execute_result"
    }
   ],
   "source": [
    "model2.fit(xtrain,ytrain)"
   ]
  },
  {
   "cell_type": "code",
   "execution_count": 41,
   "id": "5a003e7a",
   "metadata": {},
   "outputs": [
    {
     "name": "stdout",
     "output_type": "stream",
     "text": [
      "Model accuracy score with 100 decision trees :0.9621\n"
     ]
    }
   ],
   "source": [
    "y_pred_100=model2.predict(xtest)\n",
    "print('Model accuracy score with 100 decision trees :{0:0.4f}'.format(accuracy_score(ytest,y_pred_100)))"
   ]
  },
  {
   "cell_type": "markdown",
   "id": "41626629",
   "metadata": {},
   "source": [
    "# finding most important features with Random forest model\n"
   ]
  },
  {
   "cell_type": "code",
   "execution_count": 42,
   "id": "8da40fda",
   "metadata": {},
   "outputs": [],
   "source": [
    "clf=RandomForestClassifier(n_estimators=100,random_state=0)"
   ]
  },
  {
   "cell_type": "code",
   "execution_count": 43,
   "id": "aafb8722",
   "metadata": {},
   "outputs": [
    {
     "data": {
      "text/plain": [
       "RandomForestClassifier(random_state=0)"
      ]
     },
     "execution_count": 43,
     "metadata": {},
     "output_type": "execute_result"
    }
   ],
   "source": [
    "clf.fit(xtrain,ytrain)"
   ]
  },
  {
   "cell_type": "code",
   "execution_count": 44,
   "id": "8f307a91",
   "metadata": {},
   "outputs": [],
   "source": [
    "#feature importance variable -> feature importance score"
   ]
  },
  {
   "cell_type": "code",
   "execution_count": 45,
   "id": "247ac22c",
   "metadata": {},
   "outputs": [
    {
     "data": {
      "text/plain": [
       "Dimensions.Width             0.339995\n",
       "Dimensions.Height            0.273415\n",
       "Fuel Information.City mpg    0.212791\n",
       "Dimensions.Length            0.173799\n",
       "dtype: float64"
      ]
     },
     "execution_count": 45,
     "metadata": {},
     "output_type": "execute_result"
    }
   ],
   "source": [
    "feature_scores=pd.Series(clf.feature_importances_,index=xtrain.columns).sort_values(ascending=False)\n",
    "feature_scores"
   ]
  },
  {
   "cell_type": "code",
   "execution_count": 46,
   "id": "7a442e7b",
   "metadata": {},
   "outputs": [],
   "source": [
    "#dimension width is the most important one"
   ]
  },
  {
   "cell_type": "markdown",
   "id": "ee79600b",
   "metadata": {},
   "source": [
    "# visualize feature scores of the features"
   ]
  },
  {
   "cell_type": "code",
   "execution_count": 47,
   "id": "611d0261",
   "metadata": {},
   "outputs": [
    {
     "data": {
      "text/plain": [
       "Text(0, 0.5, 'Features')"
      ]
     },
     "execution_count": 47,
     "metadata": {},
     "output_type": "execute_result"
    },
    {
     "data": {
      "image/png": "[encoded data removed]",
      "text/plain": [
       "<Figure size 432x288 with 1 Axes>"
      ]
     },
     "metadata": {
      "needs_background": "light"
     },
     "output_type": "display_data"
    }
   ],
   "source": [
    "sns.barplot(x=feature_scores,y=feature_scores.index)\n",
    "plt.xlabel('Feature Importance score')\n",
    "plt.ylabel('Features')"
   ]
  },
  {
   "cell_type": "code",
   "execution_count": 48,
   "id": "c0dbbdad",
   "metadata": {},
   "outputs": [
    {
     "name": "stdout",
     "output_type": "stream",
     "text": [
      "              precision    recall  f1-score   support\n",
      "\n",
      "        Audi       1.00      1.00      1.00        10\n",
      "         BMW       1.00      1.00      1.00         1\n",
      "     Bentley       1.00      1.00      1.00         2\n",
      "   Chevrolet       1.00      1.00      1.00         9\n",
      "        Ford       1.00      1.00      1.00         8\n",
      "       Honda       1.00      0.93      0.96        14\n",
      "     Maybach       1.00      1.00      1.00         5\n",
      "      Nissan       0.62      1.00      0.76         8\n",
      " Rolls-Royce       1.00      1.00      1.00         4\n",
      "      Toyota       1.00      0.91      0.95        34\n",
      "  Volkswagen       1.00      1.00      1.00        14\n",
      "       Volvo       1.00      0.96      0.98        23\n",
      "\n",
      "    accuracy                           0.96       132\n",
      "   macro avg       0.97      0.98      0.97       132\n",
      "weighted avg       0.98      0.96      0.97       132\n",
      "\n"
     ]
    }
   ],
   "source": [
    "from sklearn.metrics import classification_report\n",
    "print(classification_report(ytest,y_pred))"
   ]
  },
  {
   "cell_type": "code",
   "execution_count": 49,
   "id": "8d2e8db9",
   "metadata": {},
   "outputs": [
    {
     "name": "stdout",
     "output_type": "stream",
     "text": [
      "['Audi']\n"
     ]
    },
    {
     "name": "stderr",
     "output_type": "stream",
     "text": [
      "D:\\anaconda\\lib\\site-packages\\sklearn\\base.py:450: UserWarning: X does not have valid feature names, but RandomForestClassifier was fitted with feature names\n",
      "  warnings.warn(\n"
     ]
    }
   ],
   "source": [
    "pr=[143,196,203,21]\n",
    "p=clf.predict([pr])\n",
    "print(p)"
   ]
  },
  {
   "cell_type": "code",
   "execution_count": null,
   "id": "699a25eb",
   "metadata": {},
   "outputs": [],
   "source": []
  }
 ],
 "metadata": {
  "kernelspec": {
   "display_name": "Python 3 (ipykernel)",
   "language": "python",
   "name": "python3"
  },
  "language_info": {
   "codemirror_mode": {
    "name": "ipython",
    "version": 3
   },
   "file_extension": ".py",
   "mimetype": "text/x-python",
   "name": "python",
   "nbconvert_exporter": "python",
   "pygments_lexer": "ipython3",
   "version": "3.9.12"
  }
 },
 "nbformat": 4,
 "nbformat_minor": 5
}
