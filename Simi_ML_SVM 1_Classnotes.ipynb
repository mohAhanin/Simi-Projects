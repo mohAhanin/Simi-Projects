{
 "cells": [
  {
   "cell_type": "code",
   "execution_count": 1,
   "id": "23d65862",
   "metadata": {},
   "outputs": [],
   "source": [
    "#svm"
   ]
  },
  {
   "cell_type": "code",
   "execution_count": 2,
   "id": "07532e5a",
   "metadata": {},
   "outputs": [],
   "source": [
    "#Classification"
   ]
  },
  {
   "cell_type": "code",
   "execution_count": 3,
   "id": "d926eee9",
   "metadata": {},
   "outputs": [],
   "source": [
    "import numpy as np"
   ]
  },
  {
   "cell_type": "code",
   "execution_count": 4,
   "id": "a4761724",
   "metadata": {},
   "outputs": [],
   "source": [
    "import matplotlib.pyplot as plt"
   ]
  },
  {
   "cell_type": "code",
   "execution_count": 5,
   "id": "06d83e9b",
   "metadata": {},
   "outputs": [],
   "source": [
    "from matplotlib import style"
   ]
  },
  {
   "cell_type": "code",
   "execution_count": 6,
   "id": "1a4af4a4",
   "metadata": {},
   "outputs": [],
   "source": [
    "from sklearn import svm"
   ]
  },
  {
   "cell_type": "code",
   "execution_count": 7,
   "id": "31b7ba94",
   "metadata": {},
   "outputs": [],
   "source": [
    "X=np.array([\n",
    "    [1,2],\n",
    "    [5,8],\n",
    "    [1.5,1.8],\n",
    "    [8,8],\n",
    "    [1,0.6],\n",
    "    [9,11],\n",
    "    [2,2],\n",
    "    [3,2.5],\n",
    "    [10,6],\n",
    "    [6,7]\n",
    "])"
   ]
  },
  {
   "cell_type": "code",
   "execution_count": 8,
   "id": "38cb6f4d",
   "metadata": {},
   "outputs": [],
   "source": [
    "y = ['A','B','A','B','A','B','A','A','B','B']"
   ]
  },
  {
   "cell_type": "code",
   "execution_count": 9,
   "id": "336f14ad",
   "metadata": {},
   "outputs": [
    {
     "data": {
      "text/plain": [
       "<matplotlib.collections.PathCollection at 0x259759256a0>"
      ]
     },
     "execution_count": 9,
     "metadata": {},
     "output_type": "execute_result"
    },
    {
     "data": {
      "image/png": "[encoded data removed]",
      "text/plain": [
       "<Figure size 432x288 with 1 Axes>"
      ]
     },
     "metadata": {
      "needs_background": "light"
     },
     "output_type": "display_data"
    }
   ],
   "source": [
    "plt.scatter(X[: , 0],X[:,1])"
   ]
  },
  {
   "cell_type": "code",
   "execution_count": 10,
   "id": "6d37a16d",
   "metadata": {},
   "outputs": [],
   "source": [
    "model = svm.SVC(kernel='linear')"
   ]
  },
  {
   "cell_type": "code",
   "execution_count": 11,
   "id": "c2d01e1b",
   "metadata": {},
   "outputs": [
    {
     "data": {
      "text/plain": [
       "SVC(kernel='linear')"
      ]
     },
     "execution_count": 11,
     "metadata": {},
     "output_type": "execute_result"
    }
   ],
   "source": [
    "model.fit(X,y)"
   ]
  },
  {
   "cell_type": "code",
   "execution_count": 12,
   "id": "34916955",
   "metadata": {},
   "outputs": [],
   "source": [
    "p=model.predict([[0.58,0.76]])"
   ]
  },
  {
   "cell_type": "code",
   "execution_count": 13,
   "id": "4967e214",
   "metadata": {},
   "outputs": [
    {
     "name": "stdout",
     "output_type": "stream",
     "text": [
      "['A']\n"
     ]
    }
   ],
   "source": [
    "print(p)"
   ]
  },
  {
   "cell_type": "code",
   "execution_count": null,
   "id": "eacf678f",
   "metadata": {},
   "outputs": [],
   "source": []
  },
  {
   "cell_type": "code",
   "execution_count": null,
   "id": "d23deed1",
   "metadata": {},
   "outputs": [],
   "source": []
  },
  {
   "cell_type": "code",
   "execution_count": null,
   "id": "05439819",
   "metadata": {},
   "outputs": [],
   "source": []
  },
  {
   "cell_type": "code",
   "execution_count": 14,
   "id": "cd4d0c87",
   "metadata": {},
   "outputs": [],
   "source": [
    "w=model.coef_[0]"
   ]
  },
  {
   "cell_type": "code",
   "execution_count": 15,
   "id": "27454644",
   "metadata": {},
   "outputs": [],
   "source": [
    "p=-w[0]/w[1]"
   ]
  },
  {
   "cell_type": "code",
   "execution_count": 16,
   "id": "611706b8",
   "metadata": {},
   "outputs": [],
   "source": [
    "xx=np.linspace(min(X[: , 0]),max(X[:,1]))"
   ]
  },
  {
   "cell_type": "code",
   "execution_count": 17,
   "id": "f391e293",
   "metadata": {},
   "outputs": [],
   "source": [
    "yy=p*xx-model.intercept_[0]/w[1]"
   ]
  },
  {
   "cell_type": "code",
   "execution_count": 18,
   "id": "e97eff58",
   "metadata": {},
   "outputs": [
    {
     "data": {
      "text/plain": [
       "<matplotlib.collections.PathCollection at 0x25975a35d30>"
      ]
     },
     "execution_count": 18,
     "metadata": {},
     "output_type": "execute_result"
    },
    {
     "data": {
      "image/png": "[encoded data removed]",
      "text/plain": [
       "<Figure size 432x288 with 1 Axes>"
      ]
     },
     "metadata": {
      "needs_background": "light"
     },
     "output_type": "display_data"
    }
   ],
   "source": [
    "plt.plot(xx,yy,c='y')\n",
    "plt.scatter(X[: , 0],X[:,1])"
   ]
  },
  {
   "cell_type": "code",
   "execution_count": null,
   "id": "53aa5ea4",
   "metadata": {},
   "outputs": [],
   "source": []
  }
 ],
 "metadata": {
  "kernelspec": {
   "display_name": "Python 3 (ipykernel)",
   "language": "python",
   "name": "python3"
  },
  "language_info": {
   "codemirror_mode": {
    "name": "ipython",
    "version": 3
   },
   "file_extension": ".py",
   "mimetype": "text/x-python",
   "name": "python",
   "nbconvert_exporter": "python",
   "pygments_lexer": "ipython3",
   "version": "3.9.12"
  }
 },
 "nbformat": 4,
 "nbformat_minor": 5
}
