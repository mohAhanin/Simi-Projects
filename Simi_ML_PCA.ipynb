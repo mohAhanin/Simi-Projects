{
 "cells": [
  {
   "cell_type": "code",
   "execution_count": 1,
   "id": "762b6799",
   "metadata": {},
   "outputs": [],
   "source": [
    "import pandas as pd\n",
    "from sklearn.tree import DecisionTreeClassifier\n",
    "from sklearn.ensemble import RandomForestClassifier \n",
    "from sklearn.naive_bayes import GaussianNB\n",
    "from sklearn.model_selection import train_test_split\n",
    "from sklearn.metrics import accuracy_score\n",
    "from sklearn import decomposition\n",
    "from sklearn import preprocessing"
   ]
  },
  {
   "cell_type": "code",
   "execution_count": 2,
   "id": "ffb4d156",
   "metadata": {},
   "outputs": [],
   "source": [
    "dataset=pd.read_csv('cars.ORG.csv')"
   ]
  },
  {
   "cell_type": "code",
   "execution_count": 3,
   "id": "886a1501",
   "metadata": {},
   "outputs": [],
   "source": [
    "x=dataset[['Dimensions.Height','Dimensions.Length',\n",
    "'Dimensions.Width','Fuel Information.City mpg',\n",
    "'Engine Information.Engine Statistics.Horsepower',\n",
    "'Fuel Information.Highway mpg',\n",
    "'Engine Information.Engine Statistics.Torque']].values\n",
    "y=dataset['Identification.Make'].values"
   ]
  },
  {
   "cell_type": "code",
   "execution_count": 4,
   "id": "1de7e8b1",
   "metadata": {},
   "outputs": [],
   "source": [
    "le=preprocessing.LabelEncoder()\n",
    "y=le.fit_transform(y)"
   ]
  },
  {
   "cell_type": "code",
   "execution_count": 5,
   "id": "329f49d9",
   "metadata": {},
   "outputs": [],
   "source": [
    "xtrain,xtest,ytrain,ytest=train_test_split(x,y,test_size=0.2)\n"
   ]
  },
  {
   "cell_type": "code",
   "execution_count": null,
   "id": "d579263b",
   "metadata": {},
   "outputs": [],
   "source": []
  }
 ],
 "metadata": {
  "kernelspec": {
   "display_name": "Python 3 (ipykernel)",
   "language": "python",
   "name": "python3"
  },
  "language_info": {
   "codemirror_mode": {
    "name": "ipython",
    "version": 3
   },
   "file_extension": ".py",
   "mimetype": "text/x-python",
   "name": "python",
   "nbconvert_exporter": "python",
   "pygments_lexer": "ipython3",
   "version": "3.9.12"
  }
 },
 "nbformat": 4,
 "nbformat_minor": 5
}
