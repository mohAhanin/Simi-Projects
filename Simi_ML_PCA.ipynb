{
 "cells": [
  {
   "cell_type": "code",
   "execution_count": 1,
   "id": "762b6799",
   "metadata": {},
   "outputs": [],
   "source": [
    "import pandas as pd\n",
    "from sklearn.tree import DecisionTreeClassifier\n",
    "from sklearn.ensemble import RandomForestClassifier \n",
    "from sklearn.naive_bayes import GaussianNB\n",
    "from sklearn.model_selection import train_test_split\n",
    "from sklearn.metrics import accuracy_score\n",
    "from sklearn import decomposition\n",
    "from sklearn import preprocessing"
   ]
  },
  {
   "cell_type": "code",
   "execution_count": 2,
   "id": "ffb4d156",
   "metadata": {},
   "outputs": [],
   "source": [
    "dataset=pd.read_csv('cars.ORG.csv')"
   ]
  },
  {
   "cell_type": "code",
   "execution_count": 3,
   "id": "886a1501",
   "metadata": {},
   "outputs": [],
   "source": [
    "x=dataset[['Dimensions.Height','Dimensions.Length',\n",
    "'Dimensions.Width','Fuel Information.City mpg',\n",
    "'Engine Information.Engine Statistics.Horsepower',\n",
    "'Fuel Information.Highway mpg',\n",
    "'Engine Information.Engine Statistics.Torque']].values\n",
    "y=dataset['Identification.Make'].values"
   ]
  },
  {
   "cell_type": "code",
   "execution_count": 4,
   "id": "1de7e8b1",
   "metadata": {},
   "outputs": [],
   "source": [
    "le=preprocessing.LabelEncoder()\n",
    "y=le.fit_transform(y)"
   ]
  },
  {
   "cell_type": "code",
   "execution_count": 5,
   "id": "329f49d9",
   "metadata": {},
   "outputs": [],
   "source": [
    "xtrain,xtest,ytrain,ytest=train_test_split(x,y,test_size=0.2)"
   ]
  },
  {
   "cell_type": "code",
   "execution_count": 6,
   "id": "d579263b",
   "metadata": {},
   "outputs": [
    {
     "name": "stdout",
     "output_type": "stream",
     "text": [
      "while n_component == 6\n",
      "accuracy of decision tree is 90\n",
      "accuracy of random forest is 92\n",
      "accuracy of gaussian is 29\n",
      "while n_component == 5\n",
      "accuracy of decision tree is 91\n",
      "accuracy of random forest is 93\n",
      "accuracy of gaussian is 26\n",
      "while n_component == 4\n",
      "accuracy of decision tree is 91\n",
      "accuracy of random forest is 93\n",
      "accuracy of gaussian is 18\n",
      "while n_component == 3\n",
      "accuracy of decision tree is 90\n",
      "accuracy of random forest is 91\n",
      "accuracy of gaussian is 17\n",
      "while n_component == 2\n",
      "accuracy of decision tree is 89\n",
      "accuracy of random forest is 90\n",
      "accuracy of gaussian is 12\n"
     ]
    }
   ],
   "source": [
    "for x in range(6,1,-1):\n",
    "    print(f'while n_component == {x}')\n",
    "    pca=decomposition.PCA(n_components=x)\n",
    "    pca.fit(xtrain)\n",
    "    xtrain=pca.transform(xtrain)\n",
    "    xtest=pca.transform(xtest)\n",
    "    #DECISION TREE\n",
    "    model=DecisionTreeClassifier()\n",
    "    model.fit(xtrain,ytrain)\n",
    "    p=model.predict(xtest)\n",
    "    accuracy=int(accuracy_score(p, ytest)*100)\n",
    "    print(f'accuracy of decision tree is {accuracy}')\n",
    "    #RANDOM FOREST\n",
    "    model=RandomForestClassifier(n_estimators=100)\n",
    "    model.fit(xtrain,ytrain)\n",
    "    p=model.predict(xtest)\n",
    "    accuracy=int(accuracy_score(p,ytest)*100)\n",
    "    print(f'accuracy of random forest is {accuracy}')\n",
    "    #GAUSSIAN\n",
    "    model=GaussianNB()\n",
    "    model.fit(xtrain,ytrain)\n",
    "    p=model.predict(xtest)\n",
    "    accuracy=int(accuracy_score(p, ytest)*100)\n",
    "    print(f'accuracy of gaussian is {accuracy}')"
   ]
  }
 ],
 "metadata": {
  "kernelspec": {
   "display_name": "Python 3 (ipykernel)",
   "language": "python",
   "name": "python3"
  },
  "language_info": {
   "codemirror_mode": {
    "name": "ipython",
    "version": 3
   },
   "file_extension": ".py",
   "mimetype": "text/x-python",
   "name": "python",
   "nbconvert_exporter": "python",
   "pygments_lexer": "ipython3",
   "version": "3.9.12"
  }
 },
 "nbformat": 4,
 "nbformat_minor": 5
}
