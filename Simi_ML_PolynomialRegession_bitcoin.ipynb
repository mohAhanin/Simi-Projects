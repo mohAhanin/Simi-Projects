{
 "cells": [
  {
   "cell_type": "code",
   "execution_count": 1,
   "id": "31a8b466",
   "metadata": {},
   "outputs": [],
   "source": [
    "import pandas as pd"
   ]
  },
  {
   "cell_type": "code",
   "execution_count": 2,
   "id": "7f123ad0",
   "metadata": {},
   "outputs": [],
   "source": [
    "df=pd.read_csv('bitcoin-edited-0.csv')"
   ]
  },
  {
   "cell_type": "code",
   "execution_count": 3,
   "id": "b585338e",
   "metadata": {},
   "outputs": [
    {
     "data": {
      "text/html": [
       "<div>\n",
       "<style scoped>\n",
       "    .dataframe tbody tr th:only-of-type {\n",
       "        vertical-align: middle;\n",
       "    }\n",
       "\n",
       "    .dataframe tbody tr th {\n",
       "        vertical-align: top;\n",
       "    }\n",
       "\n",
       "    .dataframe thead th {\n",
       "        text-align: right;\n",
       "    }\n",
       "</style>\n",
       "<table border=\"1\" class=\"dataframe\">\n",
       "  <thead>\n",
       "    <tr style=\"text-align: right;\">\n",
       "      <th></th>\n",
       "      <th>day</th>\n",
       "      <th>price</th>\n",
       "    </tr>\n",
       "  </thead>\n",
       "  <tbody>\n",
       "    <tr>\n",
       "      <th>0</th>\n",
       "      <td>1</td>\n",
       "      <td>135</td>\n",
       "    </tr>\n",
       "    <tr>\n",
       "      <th>1</th>\n",
       "      <td>2</td>\n",
       "      <td>134</td>\n",
       "    </tr>\n",
       "    <tr>\n",
       "      <th>2</th>\n",
       "      <td>3</td>\n",
       "      <td>144</td>\n",
       "    </tr>\n",
       "    <tr>\n",
       "      <th>3</th>\n",
       "      <td>4</td>\n",
       "      <td>139</td>\n",
       "    </tr>\n",
       "    <tr>\n",
       "      <th>4</th>\n",
       "      <td>5</td>\n",
       "      <td>116</td>\n",
       "    </tr>\n",
       "    <tr>\n",
       "      <th>...</th>\n",
       "      <td>...</td>\n",
       "      <td>...</td>\n",
       "    </tr>\n",
       "    <tr>\n",
       "      <th>2030</th>\n",
       "      <td>2031</td>\n",
       "      <td>5560</td>\n",
       "    </tr>\n",
       "    <tr>\n",
       "      <th>2031</th>\n",
       "      <td>2032</td>\n",
       "      <td>5621</td>\n",
       "    </tr>\n",
       "    <tr>\n",
       "      <th>2032</th>\n",
       "      <td>2033</td>\n",
       "      <td>4864</td>\n",
       "    </tr>\n",
       "    <tr>\n",
       "      <th>2033</th>\n",
       "      <td>2034</td>\n",
       "      <td>4466</td>\n",
       "    </tr>\n",
       "    <tr>\n",
       "      <th>2034</th>\n",
       "      <td>2035</td>\n",
       "      <td>4612</td>\n",
       "    </tr>\n",
       "  </tbody>\n",
       "</table>\n",
       "<p>2035 rows × 2 columns</p>\n",
       "</div>"
      ],
      "text/plain": [
       "       day  price\n",
       "0        1    135\n",
       "1        2    134\n",
       "2        3    144\n",
       "3        4    139\n",
       "4        5    116\n",
       "...    ...    ...\n",
       "2030  2031   5560\n",
       "2031  2032   5621\n",
       "2032  2033   4864\n",
       "2033  2034   4466\n",
       "2034  2035   4612\n",
       "\n",
       "[2035 rows x 2 columns]"
      ]
     },
     "execution_count": 3,
     "metadata": {},
     "output_type": "execute_result"
    }
   ],
   "source": [
    "df"
   ]
  },
  {
   "cell_type": "code",
   "execution_count": 4,
   "id": "7cce5fc0",
   "metadata": {},
   "outputs": [],
   "source": [
    "X=df.iloc[:,0].values\n",
    "Y=df.iloc[:,1].values"
   ]
  },
  {
   "cell_type": "code",
   "execution_count": 5,
   "id": "0cef2b9d",
   "metadata": {},
   "outputs": [],
   "source": [
    "df.dropna(inplace=True)"
   ]
  },
  {
   "cell_type": "code",
   "execution_count": 6,
   "id": "23f2cd9f",
   "metadata": {},
   "outputs": [],
   "source": [
    "from sklearn.model_selection import train_test_split\n",
    "x_train, x_test, y_train, y_test=train_test_split(X,Y,test_size=.2)"
   ]
  },
  {
   "cell_type": "code",
   "execution_count": 7,
   "id": "0246dc6a",
   "metadata": {},
   "outputs": [
    {
     "data": {
      "text/plain": [
       "array([   1,    2,    3, ..., 2033, 2034, 2035], dtype=int64)"
      ]
     },
     "execution_count": 7,
     "metadata": {},
     "output_type": "execute_result"
    }
   ],
   "source": [
    "X"
   ]
  },
  {
   "cell_type": "code",
   "execution_count": 8,
   "id": "bca76853",
   "metadata": {},
   "outputs": [
    {
     "data": {
      "text/plain": [
       "1628"
      ]
     },
     "execution_count": 8,
     "metadata": {},
     "output_type": "execute_result"
    }
   ],
   "source": [
    "x_train.size"
   ]
  },
  {
   "cell_type": "code",
   "execution_count": 9,
   "id": "3fe4db90",
   "metadata": {},
   "outputs": [
    {
     "data": {
      "text/plain": [
       "1628"
      ]
     },
     "execution_count": 9,
     "metadata": {},
     "output_type": "execute_result"
    }
   ],
   "source": [
    "y_train.size"
   ]
  },
  {
   "cell_type": "code",
   "execution_count": 10,
   "id": "5a970e9a",
   "metadata": {},
   "outputs": [],
   "source": [
    "bestdegree=0\n",
    "bestscore=0"
   ]
  },
  {
   "cell_type": "code",
   "execution_count": 11,
   "id": "cf6bc784",
   "metadata": {},
   "outputs": [],
   "source": [
    "import matplotlib.pyplot as plt"
   ]
  },
  {
   "cell_type": "code",
   "execution_count": 12,
   "id": "0a6009df",
   "metadata": {},
   "outputs": [
    {
     "data": {
      "text/plain": [
       "<matplotlib.collections.PathCollection at 0x1db170f4af0>"
      ]
     },
     "execution_count": 12,
     "metadata": {},
     "output_type": "execute_result"
    },
    {
     "data": {
      "image/png": "[encoded data removed]",
      "text/plain": [
       "<Figure size 432x288 with 1 Axes>"
      ]
     },
     "metadata": {
      "needs_background": "light"
     },
     "output_type": "display_data"
    }
   ],
   "source": [
    "plt.scatter(X,Y,color='green')"
   ]
  },
  {
   "cell_type": "code",
   "execution_count": 13,
   "id": "5effd400",
   "metadata": {},
   "outputs": [],
   "source": [
    "import numpy as np\n",
    "from sklearn.metrics import r2_score"
   ]
  },
  {
   "cell_type": "code",
   "execution_count": 14,
   "id": "7c77dac5",
   "metadata": {},
   "outputs": [
    {
     "name": "stdout",
     "output_type": "stream",
     "text": [
      "Accuracy for degree 1 is -1%\n",
      "Accuracy for degree 2 is 51%\n",
      "Accuracy for degree 3 is 51%\n",
      "Accuracy for degree 4 is 66%\n",
      "Accuracy for degree 5 is 76%\n",
      "Accuracy for degree 6 is 78%\n",
      "Accuracy for degree 7 is 79%\n",
      "Accuracy for degree 8 is 83%\n",
      "Accuracy for degree 9 is 86%\n",
      "Accuracy for degree 10 is 86%\n",
      "Accuracy for degree 11 is 87%\n",
      "Accuracy for degree 12 is 89%\n",
      "Accuracy for degree 13 is 90%\n",
      "Accuracy for degree 14 is 90%\n",
      "Accuracy for degree 15 is 90%\n",
      "Accuracy for degree 16 is 91%\n",
      "Accuracy for degree 17 is 91%\n",
      "Accuracy for degree 18 is 91%\n",
      "Accuracy for degree 19 is 91%\n",
      "Accuracy for degree 20 is 91%\n",
      "Accuracy for degree 21 is 92%\n",
      "Accuracy for degree 22 is 92%\n",
      "Accuracy for degree 23 is 92%\n",
      "Accuracy for degree 24 is 92%\n",
      "Accuracy for degree 25 is 92%\n",
      "Accuracy for degree 26 is 92%\n",
      "Accuracy for degree 27 is 92%\n",
      "Accuracy for degree 28 is 92%\n",
      "Accuracy for degree 29 is 93%\n",
      "Accuracy for degree 30 is 93%\n",
      "Accuracy for degree 31 is 93%\n",
      "Accuracy for degree 32 is 93%\n",
      "Accuracy for degree 33 is 93%\n",
      "Accuracy for degree 34 is 93%\n",
      "Accuracy for degree 35 is 93%\n",
      "Accuracy for degree 36 is 93%\n",
      "Accuracy for degree 37 is 93%\n",
      "Accuracy for degree 38 is 93%\n",
      "Accuracy for degree 39 is 93%\n"
     ]
    },
    {
     "name": "stderr",
     "output_type": "stream",
     "text": [
      "D:\\anaconda\\lib\\site-packages\\IPython\\core\\interactiveshell.py:3369: RankWarning: Polyfit may be poorly conditioned\n",
      "  exec(code_obj, self.user_global_ns, self.user_ns)\n",
      "D:\\anaconda\\lib\\site-packages\\IPython\\core\\interactiveshell.py:3369: RankWarning: Polyfit may be poorly conditioned\n",
      "  exec(code_obj, self.user_global_ns, self.user_ns)\n",
      "D:\\anaconda\\lib\\site-packages\\IPython\\core\\interactiveshell.py:3369: RankWarning: Polyfit may be poorly conditioned\n",
      "  exec(code_obj, self.user_global_ns, self.user_ns)\n",
      "D:\\anaconda\\lib\\site-packages\\IPython\\core\\interactiveshell.py:3369: RankWarning: Polyfit may be poorly conditioned\n",
      "  exec(code_obj, self.user_global_ns, self.user_ns)\n",
      "D:\\anaconda\\lib\\site-packages\\IPython\\core\\interactiveshell.py:3369: RankWarning: Polyfit may be poorly conditioned\n",
      "  exec(code_obj, self.user_global_ns, self.user_ns)\n",
      "D:\\anaconda\\lib\\site-packages\\IPython\\core\\interactiveshell.py:3369: RankWarning: Polyfit may be poorly conditioned\n",
      "  exec(code_obj, self.user_global_ns, self.user_ns)\n",
      "D:\\anaconda\\lib\\site-packages\\IPython\\core\\interactiveshell.py:3369: RankWarning: Polyfit may be poorly conditioned\n",
      "  exec(code_obj, self.user_global_ns, self.user_ns)\n",
      "D:\\anaconda\\lib\\site-packages\\IPython\\core\\interactiveshell.py:3369: RankWarning: Polyfit may be poorly conditioned\n",
      "  exec(code_obj, self.user_global_ns, self.user_ns)\n",
      "D:\\anaconda\\lib\\site-packages\\IPython\\core\\interactiveshell.py:3369: RankWarning: Polyfit may be poorly conditioned\n",
      "  exec(code_obj, self.user_global_ns, self.user_ns)\n",
      "D:\\anaconda\\lib\\site-packages\\IPython\\core\\interactiveshell.py:3369: RankWarning: Polyfit may be poorly conditioned\n",
      "  exec(code_obj, self.user_global_ns, self.user_ns)\n",
      "D:\\anaconda\\lib\\site-packages\\IPython\\core\\interactiveshell.py:3369: RankWarning: Polyfit may be poorly conditioned\n",
      "  exec(code_obj, self.user_global_ns, self.user_ns)\n",
      "D:\\anaconda\\lib\\site-packages\\IPython\\core\\interactiveshell.py:3369: RankWarning: Polyfit may be poorly conditioned\n",
      "  exec(code_obj, self.user_global_ns, self.user_ns)\n",
      "D:\\anaconda\\lib\\site-packages\\IPython\\core\\interactiveshell.py:3369: RankWarning: Polyfit may be poorly conditioned\n",
      "  exec(code_obj, self.user_global_ns, self.user_ns)\n",
      "D:\\anaconda\\lib\\site-packages\\IPython\\core\\interactiveshell.py:3369: RankWarning: Polyfit may be poorly conditioned\n",
      "  exec(code_obj, self.user_global_ns, self.user_ns)\n",
      "D:\\anaconda\\lib\\site-packages\\IPython\\core\\interactiveshell.py:3369: RankWarning: Polyfit may be poorly conditioned\n",
      "  exec(code_obj, self.user_global_ns, self.user_ns)\n",
      "D:\\anaconda\\lib\\site-packages\\IPython\\core\\interactiveshell.py:3369: RankWarning: Polyfit may be poorly conditioned\n",
      "  exec(code_obj, self.user_global_ns, self.user_ns)\n",
      "D:\\anaconda\\lib\\site-packages\\IPython\\core\\interactiveshell.py:3369: RankWarning: Polyfit may be poorly conditioned\n",
      "  exec(code_obj, self.user_global_ns, self.user_ns)\n",
      "D:\\anaconda\\lib\\site-packages\\IPython\\core\\interactiveshell.py:3369: RankWarning: Polyfit may be poorly conditioned\n",
      "  exec(code_obj, self.user_global_ns, self.user_ns)\n",
      "D:\\anaconda\\lib\\site-packages\\IPython\\core\\interactiveshell.py:3369: RankWarning: Polyfit may be poorly conditioned\n",
      "  exec(code_obj, self.user_global_ns, self.user_ns)\n",
      "D:\\anaconda\\lib\\site-packages\\IPython\\core\\interactiveshell.py:3369: RankWarning: Polyfit may be poorly conditioned\n",
      "  exec(code_obj, self.user_global_ns, self.user_ns)\n",
      "D:\\anaconda\\lib\\site-packages\\IPython\\core\\interactiveshell.py:3369: RankWarning: Polyfit may be poorly conditioned\n",
      "  exec(code_obj, self.user_global_ns, self.user_ns)\n",
      "D:\\anaconda\\lib\\site-packages\\IPython\\core\\interactiveshell.py:3369: RankWarning: Polyfit may be poorly conditioned\n",
      "  exec(code_obj, self.user_global_ns, self.user_ns)\n",
      "D:\\anaconda\\lib\\site-packages\\IPython\\core\\interactiveshell.py:3369: RankWarning: Polyfit may be poorly conditioned\n",
      "  exec(code_obj, self.user_global_ns, self.user_ns)\n"
     ]
    }
   ],
   "source": [
    "for degree in range(1,40):\n",
    "    model=np.poly1d(np.polyfit(X,Y,degree))\n",
    "    accuracy=r2_score(model(X),Y)*100\n",
    "    if(accuracy>bestscore):\n",
    "        bestdegree=accuracy\n",
    "        \n",
    "    accuracy=int(accuracy)\n",
    "    print(f'Accuracy for degree {degree} is {accuracy}%')"
   ]
  },
  {
   "cell_type": "code",
   "execution_count": 15,
   "id": "d6220306",
   "metadata": {},
   "outputs": [
    {
     "name": "stdout",
     "output_type": "stream",
     "text": [
      "best degree is 93.73872529711606 with accuracy=93\n"
     ]
    }
   ],
   "source": [
    "print(f'best degree is {bestdegree} with accuracy={accuracy}')"
   ]
  },
  {
   "cell_type": "code",
   "execution_count": 16,
   "id": "926c8235",
   "metadata": {},
   "outputs": [
    {
     "name": "stderr",
     "output_type": "stream",
     "text": [
      "D:\\anaconda\\lib\\site-packages\\numpy\\lib\\polynomial.py:658: RuntimeWarning: overflow encountered in multiply\n",
      "  scale = NX.sqrt((lhs*lhs).sum(axis=0))\n",
      "D:\\anaconda\\lib\\site-packages\\numpy\\core\\_methods.py:48: RuntimeWarning: overflow encountered in reduce\n",
      "  return umr_sum(a, axis, dtype, out, keepdims, initial, where)\n",
      "D:\\anaconda\\lib\\site-packages\\IPython\\core\\interactiveshell.py:3369: RankWarning: Polyfit may be poorly conditioned\n",
      "  exec(code_obj, self.user_global_ns, self.user_ns)\n"
     ]
    }
   ],
   "source": [
    "model=np.poly1d(np.polyfit(X,Y,bestdegree))"
   ]
  },
  {
   "cell_type": "code",
   "execution_count": 17,
   "id": "2c335355",
   "metadata": {},
   "outputs": [],
   "source": [
    "XTest = np.linspace(min(X),max(X),300)"
   ]
  },
  {
   "cell_type": "code",
   "execution_count": 18,
   "id": "d61ff469",
   "metadata": {},
   "outputs": [
    {
     "data": {
      "image/png": "[encoded data removed]",
      "text/plain": [
       "<Figure size 432x288 with 1 Axes>"
      ]
     },
     "metadata": {
      "needs_background": "light"
     },
     "output_type": "display_data"
    }
   ],
   "source": [
    "plt.plot(X,Y,c='green')\n",
    "plt.scatter(XTest,model(XTest),c='red')\n",
    "plt.show()"
   ]
  },
  {
   "cell_type": "code",
   "execution_count": 19,
   "id": "0a0c8a0e",
   "metadata": {},
   "outputs": [
    {
     "name": "stdout",
     "output_type": "stream",
     "text": [
      "price on which day:?2023\n"
     ]
    }
   ],
   "source": [
    "day=input(f\"price on which day:?\")"
   ]
  },
  {
   "cell_type": "code",
   "execution_count": 20,
   "id": "ec780652",
   "metadata": {},
   "outputs": [],
   "source": [
    "d1=int(day)\n",
    "d2=d1+7#one week after "
   ]
  },
  {
   "cell_type": "code",
   "execution_count": 21,
   "id": "87e6b28f",
   "metadata": {},
   "outputs": [],
   "source": [
    "price=model(d1)\n",
    "price2=model(d2)"
   ]
  },
  {
   "cell_type": "code",
   "execution_count": 22,
   "id": "5c932325",
   "metadata": {},
   "outputs": [
    {
     "name": "stdout",
     "output_type": "stream",
     "text": [
      "price on the 2023 th of dataset\n",
      "6985.85359719949\n",
      "next week : \n",
      "6321.046008340406\n"
     ]
    }
   ],
   "source": [
    "print(f'price on the {day} th of dataset')\n",
    "print(price)\n",
    "print('next week : ')\n",
    "print(price2)"
   ]
  },
  {
   "cell_type": "code",
   "execution_count": 23,
   "id": "b9b77a6b",
   "metadata": {},
   "outputs": [
    {
     "data": {
      "text/plain": [
       "array([-2.42292266e-139,  1.34224781e-135, -7.33809159e-133,\n",
       "       -4.20637965e-129, -3.38357278e-126,  8.07111148e-123,\n",
       "        2.87273216e-119,  3.66462991e-116, -1.66441274e-113,\n",
       "       -1.79303003e-109, -4.05667179e-106, -3.97333357e-103,\n",
       "        4.87862589e-100,  2.87855403e-096,  6.01628076e-093,\n",
       "        5.28244565e-090, -9.19383353e-087, -4.61255791e-083,\n",
       "       -8.88885588e-080, -5.51128855e-077,  2.09510654e-073,\n",
       "        7.66596254e-070,  1.10819070e-066, -3.48579080e-064,\n",
       "       -5.31436571e-060, -1.07891118e-056, -1.95332303e-054,\n",
       "        3.99405557e-050,  8.34652619e-047, -2.13360178e-044,\n",
       "       -3.74267715e-040, -3.67098714e-037,  1.21811839e-033,\n",
       "        2.13505484e-030, -5.03156780e-027, -5.97992742e-024,\n",
       "        2.92789792e-020, -4.38753400e-017,  3.77339756e-014,\n",
       "       -2.09143013e-011,  7.68597440e-009, -1.85145006e-006,\n",
       "        2.79525783e-004, -2.42748252e-002,  1.05478461e+000,\n",
       "       -1.80361572e+001,  1.86449222e+002])"
      ]
     },
     "execution_count": 23,
     "metadata": {},
     "output_type": "execute_result"
    }
   ],
   "source": [
    "model.coefficients"
   ]
  },
  {
   "cell_type": "code",
   "execution_count": null,
   "id": "5759621f",
   "metadata": {},
   "outputs": [],
   "source": []
  }
 ],
 "metadata": {
  "kernelspec": {
   "display_name": "Python 3 (ipykernel)",
   "language": "python",
   "name": "python3"
  },
  "language_info": {
   "codemirror_mode": {
    "name": "ipython",
    "version": 3
   },
   "file_extension": ".py",
   "mimetype": "text/x-python",
   "name": "python",
   "nbconvert_exporter": "python",
   "pygments_lexer": "ipython3",
   "version": "3.9.12"
  }
 },
 "nbformat": 4,
 "nbformat_minor": 5
}
