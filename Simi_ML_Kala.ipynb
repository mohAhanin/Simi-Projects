{
 "cells": [
  {
   "cell_type": "code",
   "execution_count": 1,
   "id": "4639663b",
   "metadata": {},
   "outputs": [],
   "source": [
    "import pyodbc"
   ]
  },
  {
   "cell_type": "code",
   "execution_count": 2,
   "id": "d9d67dd7",
   "metadata": {},
   "outputs": [],
   "source": [
    "connection=pyodbc.connect(driver='{SQL Server}'\n",
    "                          ,host='DESKTOP-F324UIT\\SQLEXPRESS'\n",
    "                          ,database='MachineLearning'\n",
    "                          ,trusted_connection='true'\n",
    "                          ,user='sa',password=123)"
   ]
  },
  {
   "cell_type": "code",
   "execution_count": 27,
   "id": "2ab60aa3",
   "metadata": {},
   "outputs": [
    {
     "name": "stdout",
     "output_type": "stream",
     "text": [
      "whatprice?150\n"
     ]
    }
   ],
   "source": [
    "whatprice=input('whatprice?')"
   ]
  },
  {
   "cell_type": "code",
   "execution_count": 22,
   "id": "08e8ac4a",
   "metadata": {},
   "outputs": [],
   "source": [
    "db=connection.cursor()"
   ]
  },
  {
   "cell_type": "code",
   "execution_count": 37,
   "id": "d07ac1ad",
   "metadata": {},
   "outputs": [],
   "source": [
    "r=db.execute('SELECT * FROM Kala WHERE price>?',whatprice)"
   ]
  },
  {
   "cell_type": "code",
   "execution_count": 38,
   "id": "0df9b8e9",
   "metadata": {},
   "outputs": [],
   "source": [
    "r=r.fetchall()"
   ]
  },
  {
   "cell_type": "code",
   "execution_count": 39,
   "id": "3462a860",
   "metadata": {},
   "outputs": [
    {
     "name": "stdout",
     "output_type": "stream",
     "text": [
      "(1, 168, 2)\n",
      "(2, 159, 3)\n",
      "(3, 175, 4)\n",
      "(4, 181, 2)\n",
      "(7, 210, 5)\n",
      "(8, 250, 7)\n",
      "(9, 289, 1)\n",
      "(14, 195, 7)\n",
      "(16, 275, 1)\n",
      "(17, 219, 2)\n",
      "(18, 299, 2)\n",
      "(19, 295, 2)\n",
      "(21, 196, 1)\n"
     ]
    }
   ],
   "source": [
    "for x in r:\n",
    "    print(x)"
   ]
  },
  {
   "cell_type": "code",
   "execution_count": null,
   "id": "877334bc",
   "metadata": {},
   "outputs": [],
   "source": []
  }
 ],
 "metadata": {
  "kernelspec": {
   "display_name": "Python 3 (ipykernel)",
   "language": "python",
   "name": "python3"
  },
  "language_info": {
   "codemirror_mode": {
    "name": "ipython",
    "version": 3
   },
   "file_extension": ".py",
   "mimetype": "text/x-python",
   "name": "python",
   "nbconvert_exporter": "python",
   "pygments_lexer": "ipython3",
   "version": "3.9.12"
  }
 },
 "nbformat": 4,
 "nbformat_minor": 5
}
